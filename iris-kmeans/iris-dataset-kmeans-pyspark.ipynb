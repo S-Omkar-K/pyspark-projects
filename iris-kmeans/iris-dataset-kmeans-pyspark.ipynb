{
 "cells": [
  {
   "cell_type": "markdown",
   "id": "b5c654f2",
   "metadata": {},
   "source": [
    "\n",
    "## IRIS Dataset analysis using K-Means \n",
    "\n"
   ]
  },
  {
   "cell_type": "code",
   "execution_count": 2,
   "id": "04e62d2b",
   "metadata": {},
   "outputs": [],
   "source": [
    "from pyspark.sql import SparkSession\n",
    "from pyspark import SparkFiles\n",
    "from pyspark.ml.clustering import KMeans\n",
    "from pyspark.ml.evaluation import ClusteringEvaluator\n",
    "\n",
    "import matplotlib.pyplot as plt"
   ]
  },
  {
   "cell_type": "code",
   "execution_count": 3,
   "id": "c9ae5784",
   "metadata": {},
   "outputs": [
    {
     "name": "stderr",
     "output_type": "stream",
     "text": [
      "24/01/28 17:04:25 WARN Utils: Your hostname, Sais-MacBook-Air.local resolves to a loopback address: 127.0.0.1; using 10.150.141.237 instead (on interface en0)\n",
      "24/01/28 17:04:25 WARN Utils: Set SPARK_LOCAL_IP if you need to bind to another address\n",
      "Setting default log level to \"WARN\".\n",
      "To adjust logging level use sc.setLogLevel(newLevel). For SparkR, use setLogLevel(newLevel).\n",
      "24/01/28 17:04:25 WARN NativeCodeLoader: Unable to load native-hadoop library for your platform... using builtin-java classes where applicable\n"
     ]
    }
   ],
   "source": [
    "spark = SparkSession.builder.appName('IRIS-Clustering').getOrCreate()"
   ]
  },
  {
   "cell_type": "code",
   "execution_count": 7,
   "id": "86c73274",
   "metadata": {},
   "outputs": [
    {
     "data": {
      "text/plain": [
       "[('spark.app.name', 'IRIS-Clustering'),\n",
       " ('spark.app.startTime', '1706483065393'),\n",
       " ('spark.executor.id', 'driver'),\n",
       " ('spark.driver.extraJavaOptions',\n",
       "  '-Djava.net.preferIPv6Addresses=false -XX:+IgnoreUnrecognizedVMOptions --add-opens=java.base/java.lang=ALL-UNNAMED --add-opens=java.base/java.lang.invoke=ALL-UNNAMED --add-opens=java.base/java.lang.reflect=ALL-UNNAMED --add-opens=java.base/java.io=ALL-UNNAMED --add-opens=java.base/java.net=ALL-UNNAMED --add-opens=java.base/java.nio=ALL-UNNAMED --add-opens=java.base/java.util=ALL-UNNAMED --add-opens=java.base/java.util.concurrent=ALL-UNNAMED --add-opens=java.base/java.util.concurrent.atomic=ALL-UNNAMED --add-opens=java.base/sun.nio.ch=ALL-UNNAMED --add-opens=java.base/sun.nio.cs=ALL-UNNAMED --add-opens=java.base/sun.security.action=ALL-UNNAMED --add-opens=java.base/sun.util.calendar=ALL-UNNAMED --add-opens=java.security.jgss/sun.security.krb5=ALL-UNNAMED -Djdk.reflect.useDirectMethodHandle=false'),\n",
       " ('spark.driver.port', '59230'),\n",
       " ('spark.app.submitTime', '1706483065246'),\n",
       " ('spark.driver.host', '10.150.141.237'),\n",
       " ('spark.rdd.compress', 'True'),\n",
       " ('spark.serializer.objectStreamReset', '100'),\n",
       " ('spark.master', 'local[*]'),\n",
       " ('spark.submit.pyFiles', ''),\n",
       " ('spark.submit.deployMode', 'client'),\n",
       " ('spark.ui.showConsoleProgress', 'true'),\n",
       " ('spark.app.id', 'local-1706483065936'),\n",
       " ('spark.executor.extraJavaOptions',\n",
       "  '-Djava.net.preferIPv6Addresses=false -XX:+IgnoreUnrecognizedVMOptions --add-opens=java.base/java.lang=ALL-UNNAMED --add-opens=java.base/java.lang.invoke=ALL-UNNAMED --add-opens=java.base/java.lang.reflect=ALL-UNNAMED --add-opens=java.base/java.io=ALL-UNNAMED --add-opens=java.base/java.net=ALL-UNNAMED --add-opens=java.base/java.nio=ALL-UNNAMED --add-opens=java.base/java.util=ALL-UNNAMED --add-opens=java.base/java.util.concurrent=ALL-UNNAMED --add-opens=java.base/java.util.concurrent.atomic=ALL-UNNAMED --add-opens=java.base/sun.nio.ch=ALL-UNNAMED --add-opens=java.base/sun.nio.cs=ALL-UNNAMED --add-opens=java.base/sun.security.action=ALL-UNNAMED --add-opens=java.base/sun.util.calendar=ALL-UNNAMED --add-opens=java.security.jgss/sun.security.krb5=ALL-UNNAMED -Djdk.reflect.useDirectMethodHandle=false')]"
      ]
     },
     "execution_count": 7,
     "metadata": {},
     "output_type": "execute_result"
    }
   ],
   "source": [
    "spark.sparkContext.getConf().getAll()"
   ]
  },
  {
   "cell_type": "markdown",
   "id": "a46a8831",
   "metadata": {},
   "source": [
    "### Load data"
   ]
  },
  {
   "cell_type": "code",
   "execution_count": 8,
   "id": "a7d014a7",
   "metadata": {},
   "outputs": [
    {
     "name": "stdout",
     "output_type": "stream",
     "text": [
      "+----------+-----------+----------+-----------+-----------+\n",
      "|PetalWidth|PetalLength|SepalWidth|SepalLength|      Label|\n",
      "+----------+-----------+----------+-----------+-----------+\n",
      "|       5.1|        3.5|       1.4|        0.2|Iris-setosa|\n",
      "|       4.9|        3.0|       1.4|        0.2|Iris-setosa|\n",
      "|       4.7|        3.2|       1.3|        0.2|Iris-setosa|\n",
      "|       4.6|        3.1|       1.5|        0.2|Iris-setosa|\n",
      "|       5.0|        3.6|       1.4|        0.2|Iris-setosa|\n",
      "|       5.4|        3.9|       1.7|        0.4|Iris-setosa|\n",
      "|       4.6|        3.4|       1.4|        0.3|Iris-setosa|\n",
      "|       5.0|        3.4|       1.5|        0.2|Iris-setosa|\n",
      "|       4.4|        2.9|       1.4|        0.2|Iris-setosa|\n",
      "|       4.9|        3.1|       1.5|        0.1|Iris-setosa|\n",
      "+----------+-----------+----------+-----------+-----------+\n",
      "only showing top 10 rows\n",
      "\n"
     ]
    }
   ],
   "source": [
    "#get IRIS data from URL\n",
    "url = \"https://archive.ics.uci.edu/ml/machine-learning-databases/iris/iris.data\"\n",
    "spark.sparkContext.addFile(url)\n",
    "df = spark.read.csv(SparkFiles.get(\"iris.data\"), header=False, inferSchema= True)\n",
    "df = spark.createDataFrame(df.rdd, [\"PetalWidth\",\"PetalLength\",\"SepalWidth\",\"SepalLength\",\"Label\"])\n",
    "df.show(10)"
   ]
  },
  {
   "cell_type": "code",
   "execution_count": 9,
   "id": "092fa0b3",
   "metadata": {},
   "outputs": [],
   "source": [
    "#Vectorizing the Petal and Sepal features\n",
    "\n",
    "from pyspark.ml.feature import VectorAssembler\n",
    "\n",
    "assemble=VectorAssembler(inputCols=[\n",
    "'PetalWidth',\n",
    "'PetalLength',\n",
    "'SepalWidth',\n",
    "'SepalLength'],outputCol = 'iris_features')\n",
    "\n",
    "transformed_df =assemble.transform(df)"
   ]
  },
  {
   "cell_type": "code",
   "execution_count": 10,
   "id": "9b651cb2",
   "metadata": {},
   "outputs": [
    {
     "name": "stdout",
     "output_type": "stream",
     "text": [
      "+----------+-----------+----------+-----------+-----------+-----------------+\n",
      "|PetalWidth|PetalLength|SepalWidth|SepalLength|      Label|    iris_features|\n",
      "+----------+-----------+----------+-----------+-----------+-----------------+\n",
      "|       5.1|        3.5|       1.4|        0.2|Iris-setosa|[5.1,3.5,1.4,0.2]|\n",
      "|       4.9|        3.0|       1.4|        0.2|Iris-setosa|[4.9,3.0,1.4,0.2]|\n",
      "|       4.7|        3.2|       1.3|        0.2|Iris-setosa|[4.7,3.2,1.3,0.2]|\n",
      "|       4.6|        3.1|       1.5|        0.2|Iris-setosa|[4.6,3.1,1.5,0.2]|\n",
      "|       5.0|        3.6|       1.4|        0.2|Iris-setosa|[5.0,3.6,1.4,0.2]|\n",
      "+----------+-----------+----------+-----------+-----------+-----------------+\n",
      "only showing top 5 rows\n",
      "\n"
     ]
    }
   ],
   "source": [
    "transformed_df.show(5)"
   ]
  },
  {
   "cell_type": "markdown",
   "id": "20d4e25a",
   "metadata": {},
   "source": [
    "iris_features columns looks accurate"
   ]
  },
  {
   "cell_type": "code",
   "execution_count": 11,
   "id": "af42f4ee",
   "metadata": {},
   "outputs": [
    {
     "name": "stderr",
     "output_type": "stream",
     "text": [
      "24/01/28 17:08:26 WARN InstanceBuilder: Failed to load implementation from:dev.ludovic.netlib.blas.JNIBLAS\n",
      "Java HotSpot(TM) 64-Bit Server VM warning: CodeCache is full. Compiler has been disabled.\n",
      "Java HotSpot(TM) 64-Bit Server VM warning: Try increasing the code cache size using -XX:ReservedCodeCacheSize=\n"
     ]
    },
    {
     "name": "stdout",
     "output_type": "stream",
     "text": [
      "CodeCache: size=131072Kb used=37351Kb max_used=37351Kb free=93720Kb\n",
      " bounds [0x00000001089e0000, 0x000000010ae90000, 0x00000001109e0000]\n",
      " total_blobs=14019 nmethods=12844 adapters=1086\n",
      " compilation: disabled (not enough contiguous free space left)\n"
     ]
    }
   ],
   "source": [
    "# Running K-means for 2-10 k values\n",
    "\n",
    "silhouette_scores=[]\n",
    "evaluator = ClusteringEvaluator(featuresCol='iris_features', \\\n",
    "metricName='silhouette', distanceMeasure='squaredEuclidean')\n",
    "\n",
    "for K in range(2,11):\n",
    "\n",
    "    KMeans_=KMeans(featuresCol='iris_features', k=K)\n",
    "\n",
    "    KMeans_fit=KMeans_.fit(transformed_df)\n",
    "\n",
    "    KMeans_transform=KMeans_fit.transform(transformed_df) \n",
    "\n",
    "    evaluation_score=evaluator.evaluate(KMeans_transform)\n",
    "\n",
    "    silhouette_scores.append(evaluation_score)"
   ]
  },
  {
   "cell_type": "code",
   "execution_count": 12,
   "id": "91b1b053",
   "metadata": {},
   "outputs": [
    {
     "data": {
      "text/plain": [
       "Text(0, 0.5, 'Silhouette Score')"
      ]
     },
     "execution_count": 12,
     "metadata": {},
     "output_type": "execute_result"
    },
    {
     "data": {
      "image/png": "[encoded data removed]",
      "text/plain": [
       "<Figure size 800x500 with 1 Axes>"
      ]
     },
     "metadata": {},
     "output_type": "display_data"
    }
   ],
   "source": [
    "fig, ax = plt.subplots(1,1, figsize =(8,5))\n",
    "ax.plot(range(2,11),silhouette_scores)\n",
    "ax.set_xlabel('Number of Clusters')\n",
    "ax.set_ylabel('Silhouette Score')"
   ]
  },
  {
   "cell_type": "markdown",
   "id": "5c3aa2e2",
   "metadata": {},
   "source": [
    "### K-Means prediction "
   ]
  },
  {
   "cell_type": "code",
   "execution_count": 13,
   "id": "728ad166",
   "metadata": {},
   "outputs": [],
   "source": [
    "# Training the model\n",
    "kmeans = KMeans(featuresCol='iris_features', k=3) \n",
    "model = kmeans.fit(transformed_df)\n"
   ]
  },
  {
   "cell_type": "code",
   "execution_count": 14,
   "id": "35ad432e",
   "metadata": {},
   "outputs": [],
   "source": [
    "# Making predictions\n",
    "predictions = model.transform(transformed_df)"
   ]
  },
  {
   "cell_type": "markdown",
   "id": "164c6a09",
   "metadata": {},
   "source": [
    "### Model Evaluation"
   ]
  },
  {
   "cell_type": "code",
   "execution_count": 16,
   "id": "92409e7f",
   "metadata": {},
   "outputs": [
    {
     "name": "stdout",
     "output_type": "stream",
     "text": [
      "Silhouette with squared euclidean distance = 0.7354567373091194\n",
      "Cluster Centers: \n",
      "[5.9016129  2.7483871  4.39354839 1.43387097]\n",
      "[5.006 3.418 1.464 0.244]\n",
      "[6.85       3.07368421 5.74210526 2.07105263]\n"
     ]
    }
   ],
   "source": [
    "# Evaluating the clustering model by computing Silhouette score\n",
    "evaluator = ClusteringEvaluator(featuresCol='iris_features')\n",
    "\n",
    "silhouette = evaluator.evaluate(predictions)\n",
    "print(\"Silhouette with squared euclidean distance = \" + str(silhouette))\n",
    "\n",
    "centers = model.clusterCenters()\n",
    "print(\"Cluster Centers: \")\n",
    "for center in centers:\n",
    "    print(center)"
   ]
  },
  {
   "cell_type": "markdown",
   "id": "ac53deca",
   "metadata": {},
   "source": [
    "Silhouette Score: 0.7355\n",
    "\n",
    "The silhouette score is a measure of how similar an object is to its own cluster (cohesion) compared to other clusters (separation). A silhouette score ranges from -1 to 1, where a higher value indicates better-defined clusters. In this case, a silhouette score of 0.7355 suggests that the clusters are well-separated and have a high degree of cohesion.\n",
    "\n",
    "Cluster Centers:\n",
    "\n",
    "The cluster centers represent the mean feature values for each cluster. For each cluster, you have a set of values corresponding to the four features of the Iris dataset (sepal length, sepal width, petal length, and petal width).\n",
    "\n",
    "Cluster 1: [5.9016129, 2.7483871, 4.39354839, 1.43387097]\n",
    "\n",
    "Cluster 2: [5.006, 3.418, 1.464, 0.244]\n",
    "\n",
    "Cluster 3: [6.85, 3.07368421, 5.74210526, 2.07105263]\n",
    "\n",
    "These cluster centers provide a summary of the characteristic feature values for each cluster. They serve as the representative points around which the data points in each cluster are grouped.\n",
    "\n",
    "In summary, K-means algorithm has partitioned the Iris dataset into three clusters, with well-defined and cohesive clusters as indicated by the high silhouette score. The cluster centers represent the mean feature values for each cluster, offering insights into the characteristics of the data within each group. This information can be used to  understanding patterns and potential groupings within the Iris dataset based on the features provided."
   ]
  }
 ],
 "metadata": {
  "kernelspec": {
   "display_name": "Python 3 (ipykernel)",
   "language": "python",
   "name": "python3"
  },
  "language_info": {
   "codemirror_mode": {
    "name": "ipython",
    "version": 3
   },
   "file_extension": ".py",
   "mimetype": "text/x-python",
   "name": "python",
   "nbconvert_exporter": "python",
   "pygments_lexer": "ipython3",
   "version": "3.9.6"
  }
 },
 "nbformat": 4,
 "nbformat_minor": 5
}
