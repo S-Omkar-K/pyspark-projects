{
 "cells": [
  {
   "cell_type": "markdown",
   "metadata": {},
   "source": [
    "## Movie Recommender System - Collaborative Filtering\n",
    "\n",
    "DataSet:\n",
    "\n",
    "https://www.kaggle.com/rounakbanik/the-movies-dataset\n",
    "\n",
    "Source:\n",
    "\n",
    "http://www.3leafnodes.com/apache-spark-introduction-recommender-system"
   ]
  },
  {
   "cell_type": "code",
   "execution_count": 2,
   "metadata": {},
   "outputs": [
    {
     "name": "stderr",
     "output_type": "stream",
     "text": [
      "24/01/30 18:35:48 WARN Utils: Your hostname, Sais-MacBook-Air.local resolves to a loopback address: 127.0.0.1; using 10.150.105.91 instead (on interface en0)\n",
      "24/01/30 18:35:48 WARN Utils: Set SPARK_LOCAL_IP if you need to bind to another address\n",
      "Setting default log level to \"WARN\".\n",
      "To adjust logging level use sc.setLogLevel(newLevel). For SparkR, use setLogLevel(newLevel).\n",
      "24/01/30 18:35:48 WARN NativeCodeLoader: Unable to load native-hadoop library for your platform... using builtin-java classes where applicable\n",
      "24/01/30 18:35:49 WARN Utils: Service 'SparkUI' could not bind on port 4040. Attempting port 4041.\n"
     ]
    }
   ],
   "source": [
    "from pyspark.sql import SparkSession\n",
    "spark = SparkSession.builder.appName('MovieRecommender').getOrCreate()\n",
    "from pyspark.ml.recommendation import ALS\n",
    "from pyspark.ml.evaluation import RegressionEvaluator"
   ]
  },
  {
   "cell_type": "markdown",
   "metadata": {},
   "source": [
    "### Import Data"
   ]
  },
  {
   "cell_type": "code",
   "execution_count": 3,
   "metadata": {},
   "outputs": [],
   "source": [
    "ratings = spark.read.csv(\"/Users/saiomkarkandukuri/Desktop/Academics/Academics-001/big-data-platforms/week8/the-movies-dataset/ratings_small.csv\", inferSchema=True, header=True)\n",
    "movies = spark.read.csv(\"/Users/saiomkarkandukuri/Desktop/Academics/Academics-001/big-data-platforms/week8/the-movies-dataset/movies_metadata.csv\", inferSchema=True, header=True)"
   ]
  },
  {
   "cell_type": "code",
   "execution_count": 4,
   "metadata": {},
   "outputs": [
    {
     "name": "stdout",
     "output_type": "stream",
     "text": [
      "root\n",
      " |-- userId: integer (nullable = true)\n",
      " |-- movieId: integer (nullable = true)\n",
      " |-- rating: double (nullable = true)\n",
      " |-- timestamp: integer (nullable = true)\n",
      "\n"
     ]
    }
   ],
   "source": [
    "ratings.printSchema()"
   ]
  },
  {
   "cell_type": "markdown",
   "metadata": {},
   "source": [
    "### Data Exploration"
   ]
  },
  {
   "cell_type": "code",
   "execution_count": 5,
   "metadata": {},
   "outputs": [
    {
     "data": {
      "text/plain": [
       "['userId', 'movieId', 'rating', 'timestamp']"
      ]
     },
     "execution_count": 5,
     "metadata": {},
     "output_type": "execute_result"
    }
   ],
   "source": [
    "ratings.columns"
   ]
  },
  {
   "cell_type": "code",
   "execution_count": 6,
   "metadata": {},
   "outputs": [
    {
     "data": {
      "text/plain": [
       "['adult',\n",
       " 'belongs_to_collection',\n",
       " 'budget',\n",
       " 'genres',\n",
       " 'homepage',\n",
       " 'id',\n",
       " 'imdb_id',\n",
       " 'original_language',\n",
       " 'original_title',\n",
       " 'overview',\n",
       " 'popularity',\n",
       " 'poster_path',\n",
       " 'production_companies',\n",
       " 'production_countries',\n",
       " 'release_date',\n",
       " 'revenue',\n",
       " 'runtime',\n",
       " 'spoken_languages',\n",
       " 'status',\n",
       " 'tagline',\n",
       " 'title',\n",
       " 'video',\n",
       " 'vote_average',\n",
       " 'vote_count']"
      ]
     },
     "execution_count": 6,
     "metadata": {},
     "output_type": "execute_result"
    }
   ],
   "source": [
    "movies.columns"
   ]
  },
  {
   "cell_type": "code",
   "execution_count": 7,
   "metadata": {},
   "outputs": [],
   "source": [
    "ratings = ratings.select(['userId', 'movieId', 'rating'])"
   ]
  },
  {
   "cell_type": "code",
   "execution_count": 8,
   "metadata": {},
   "outputs": [
    {
     "data": {
      "text/plain": [
       "[Row(userId=1, movieId=31, rating=2.5),\n",
       " Row(userId=1, movieId=1029, rating=3.0),\n",
       " Row(userId=1, movieId=1061, rating=3.0),\n",
       " Row(userId=1, movieId=1129, rating=2.0),\n",
       " Row(userId=1, movieId=1172, rating=4.0)]"
      ]
     },
     "execution_count": 8,
     "metadata": {},
     "output_type": "execute_result"
    }
   ],
   "source": [
    "ratings.head(5)"
   ]
  },
  {
   "cell_type": "code",
   "execution_count": 9,
   "metadata": {},
   "outputs": [
    {
     "name": "stdout",
     "output_type": "stream",
     "text": [
      "+------+-------+------+\n",
      "|userId|movieId|rating|\n",
      "+------+-------+------+\n",
      "|     1|     31|   2.5|\n",
      "|     1|   1029|   3.0|\n",
      "|     1|   1061|   3.0|\n",
      "|     1|   1129|   2.0|\n",
      "|     1|   1172|   4.0|\n",
      "|     1|   1263|   2.0|\n",
      "|     1|   1287|   2.0|\n",
      "|     1|   1293|   2.0|\n",
      "|     1|   1339|   3.5|\n",
      "|     1|   1343|   2.0|\n",
      "|     1|   1371|   2.5|\n",
      "|     1|   1405|   1.0|\n",
      "|     1|   1953|   4.0|\n",
      "|     1|   2105|   4.0|\n",
      "|     1|   2150|   3.0|\n",
      "|     1|   2193|   2.0|\n",
      "|     1|   2294|   2.0|\n",
      "|     1|   2455|   2.5|\n",
      "|     1|   2968|   1.0|\n",
      "|     1|   3671|   3.0|\n",
      "+------+-------+------+\n",
      "only showing top 20 rows\n",
      "\n"
     ]
    }
   ],
   "source": [
    "ratings.show()"
   ]
  },
  {
   "cell_type": "code",
   "execution_count": 10,
   "metadata": {},
   "outputs": [
    {
     "name": "stdout",
     "output_type": "stream",
     "text": [
      "+-------+------------------+------------------+------------------+\n",
      "|summary|            userId|           movieId|            rating|\n",
      "+-------+------------------+------------------+------------------+\n",
      "|  count|            100004|            100004|            100004|\n",
      "|   mean| 347.0113095476181|12548.664363425463| 3.543608255669773|\n",
      "| stddev|195.16383797819535|26369.198968815268|1.0580641091070326|\n",
      "|    min|                 1|                 1|               0.5|\n",
      "|    max|               671|            163949|               5.0|\n",
      "+-------+------------------+------------------+------------------+\n",
      "\n"
     ]
    }
   ],
   "source": [
    "ratings.describe().show()"
   ]
  },
  {
   "cell_type": "code",
   "execution_count": 11,
   "metadata": {},
   "outputs": [],
   "source": [
    "training, test = ratings.randomSplit([0.8,0.2])"
   ]
  },
  {
   "cell_type": "markdown",
   "metadata": {},
   "source": [
    "### ALS\n",
    "\n",
    "[Alternating Least Squares(ALS)](https://spark.apache.org/docs/latest/ml-collaborative-filtering.html) is a the model we’ll use to fit our data and find similarities. ALS is an iterative optimization process where we for every iteration try to arrive closer and closer to a factorized representation of our original data.\n",
    "\n",
    "For implicit preference data, the algorithm used is based on “Collaborative Filtering for Implicit Feedback Datasets”,, adapted for the blocked approach used here.\n",
    "\n",
    "Essentially instead of finding the low-rank approximations to the rating matrix R, this finds the approximations for a preference matrix P where the elements of P are 1 if r > 0 and 0 if r <= 0. The ratings then act as ‘confidence’ values related to strength of indicated user preferences rather than explicit ratings given to items.\n",
    "\n",
    "### Cold Start Predictions\n",
    "\n",
    "When there are cold start users or items to make predictions on (ones not available in the model) the predictions produce NaNs as shown in the summary below. This also causes evaluation with the mean squared error to produce a NaN.To solve this problem, the rows can be dropped with <code>predictions.na.drop()</code>. A more streamlined way is to add the <code>coldStartStrategy=\"drop\"</code> as a model parameter."
   ]
  },
  {
   "cell_type": "code",
   "execution_count": 12,
   "metadata": {},
   "outputs": [],
   "source": [
    "# Build the recommendation model using ALS on the training data\n",
    "# Note we set cold start strategy to 'drop' to ensure we don't get NaN evaluation metrics\n",
    "\n",
    "als = ALS(maxIter=10, regParam=0.01, rank = 10, userCol=\"userId\", itemCol=\"movieId\", ratingCol=\"rating\",\n",
    "          coldStartStrategy=\"drop\", nonnegative = True)"
   ]
  },
  {
   "cell_type": "code",
   "execution_count": 15,
   "metadata": {},
   "outputs": [],
   "source": [
    "#fit and predict\n",
    "model = als.fit(training)\n",
    "predictions = model.transform(test)"
   ]
  },
  {
   "cell_type": "code",
   "execution_count": 18,
   "metadata": {},
   "outputs": [
    {
     "data": {
      "text/plain": [
       "\"blockSize: block size for stacking input data in matrices. Data is stacked within partitions. If block size is more than remaining data in a partition then it is adjusted to the size of this data. (default: 4096)\\ncoldStartStrategy: strategy for dealing with unknown or new users/items at prediction time. This may be useful in cross-validation or production scenarios, for handling user/item ids the model has not seen in the training data. Supported values: 'nan', 'drop'. (default: nan, current: drop)\\nitemCol: column name for item ids. Ids must be within the integer value range. (default: item, current: movieId)\\npredictionCol: prediction column name. (default: prediction)\\nuserCol: column name for user ids. Ids must be within the integer value range. (default: user, current: userId)\""
      ]
     },
     "execution_count": 18,
     "metadata": {},
     "output_type": "execute_result"
    }
   ],
   "source": [
    "#explain parameters of the model\n",
    "model.explainParams()"
   ]
  },
  {
   "cell_type": "code",
   "execution_count": 19,
   "metadata": {},
   "outputs": [
    {
     "name": "stdout",
     "output_type": "stream",
     "text": [
      "+---+-----------------------------------------------------------------------------------------------------------------+\n",
      "|id |features                                                                                                         |\n",
      "+---+-----------------------------------------------------------------------------------------------------------------+\n",
      "|10 |[0.4526526, 1.10226, 0.6139859, 0.93697685, 0.7231332, 0.49364826, 1.6725879, 0.5438942, 0.45856705, 1.0070657]  |\n",
      "|20 |[1.408679, 0.0, 1.1627545, 0.86438787, 1.0241486, 0.95211715, 0.42245862, 0.08277715, 1.4531595, 1.0112128]      |\n",
      "|30 |[1.1937718, 0.46731228, 0.24893686, 2.0532336, 0.18143256, 1.4616607, 0.05457021, 2.1099515, 0.0, 1.9221573]     |\n",
      "|40 |[0.9202554, 1.4581052, 0.28719586, 0.5365094, 0.6499276, 2.0185122, 1.4123722, 0.3286701, 0.061067536, 1.0841638]|\n",
      "|50 |[0.9901864, 1.9146293, 0.0, 0.9764758, 1.0007045, 0.18279846, 1.6571925, 0.44981188, 0.76740134, 2.0315585]      |\n",
      "|60 |[1.0849234, 1.4610733, 0.94705063, 1.0393846, 0.3318171, 0.29670778, 0.6218908, 0.19733503, 0.65463156, 0.0]     |\n",
      "|70 |[1.5468314, 1.8558918, 1.5745339, 0.9518887, 0.25486496, 0.6056904, 0.0, 0.8247584, 0.010854026, 0.26806235]     |\n",
      "|80 |[0.0, 1.7974322, 1.434854, 0.0, 0.013103107, 1.5419695, 0.96601725, 1.2987748, 0.0, 0.6378427]                   |\n",
      "|100|[0.7230985, 0.8072004, 0.180616, 1.0877209, 2.201438, 0.2749564, 1.2810854, 0.1437629, 0.25297853, 1.0536693]    |\n",
      "|110|[0.67951787, 2.1430042, 0.0, 1.2367142, 0.52568144, 0.82787406, 1.6335727, 0.14961387, 0.04405444, 0.8667715]    |\n",
      "+---+-----------------------------------------------------------------------------------------------------------------+\n",
      "only showing top 10 rows\n",
      "\n"
     ]
    }
   ],
   "source": [
    "#item factors \n",
    "model.itemFactors.show(10, truncate = False)"
   ]
  },
  {
   "cell_type": "code",
   "execution_count": 20,
   "metadata": {},
   "outputs": [],
   "source": [
    "movies = movies.select('id','title','genres')\n",
    "predictions = predictions.join(movies, movies.id == predictions.movieId)"
   ]
  },
  {
   "cell_type": "code",
   "execution_count": 21,
   "metadata": {},
   "outputs": [
    {
     "name": "stdout",
     "output_type": "stream",
     "text": [
      "+------+-------+------+----------+----+-----------------------------------------------------------------------------------------------------+-----------------------------------------------------------------------------------------------------------------------------------------------------------+\n",
      "|userId|movieId|rating|prediction|id  |title                                                                                                |genres                                                                                                                                                     |\n",
      "+------+-------+------+----------+----+-----------------------------------------------------------------------------------------------------+-----------------------------------------------------------------------------------------------------------------------------------------------------------+\n",
      "|148   |58     |4.0   |4.190801  |58  |Pirates of the Caribbean: Dead Man's Chest                                                           |[{'id': 12, 'name': 'Adventure'}, {'id': 14, 'name': 'Fantasy'}, {'id': 28, 'name': 'Action'}]                                                             |\n",
      "|148   |172    |2.5   |2.576108  |172 |Star Trek V: The Final Frontier                                                                      |[{'id': 878, 'name': 'Science Fiction'}, {'id': 28, 'name': 'Action'}, {'id': 12, 'name': 'Adventure'}, {'id': 53, 'name': 'Thriller'}]                    |\n",
      "|148   |185    |3.0   |2.9122698 |185 |Being the adventures of a young man whose principal interests are rape, ultra-violence and Beethoven.|[{'id': 878, 'name': 'Science Fiction'}, {'id': 18, 'name': 'Drama'}]                                                                                      |\n",
      "|148   |232    |4.5   |3.6599278 |232 |Rumble Fish                                                                                          |[{'id': 28, 'name': 'Action'}, {'id': 12, 'name': 'Adventure'}, {'id': 80, 'name': 'Crime'}, {'id': 18, 'name': 'Drama'}, {'id': 10749, 'name': 'Romance'}]|\n",
      "|148   |480    |4.5   |3.8177595 |480 |Monsoon Wedding                                                                                      |[{'id': 35, 'name': 'Comedy'}, {'id': 18, 'name': 'Drama'}, {'id': 10749, 'name': 'Romance'}]                                                              |\n",
      "|148   |780    |3.5   |3.6135833 |780 |The Passion of Joan of Arc                                                                           |[{'id': 18, 'name': 'Drama'}, {'id': 36, 'name': 'History'}]                                                                                               |\n",
      "|148   |1580   |4.0   |3.7747135 |1580|Released                                                                                             |[{'id': 80, 'name': 'Crime'}, {'id': 18, 'name': 'Drama'}, {'id': 9648, 'name': 'Mystery'}, {'id': 53, 'name': 'Thriller'}]                                |\n",
      "|148   |1732   |4.0   |4.1918545 |1732|The Prisoner of Zenda                                                                                |[{'id': 28, 'name': 'Action'}, {'id': 12, 'name': 'Adventure'}, {'id': 35, 'name': 'Comedy'}]                                                              |\n",
      "|148   |1921   |4.5   |3.923572  |1921|Sweet November                                                                                       |[{'id': 18, 'name': 'Drama'}, {'id': 10749, 'name': 'Romance'}]                                                                                            |\n",
      "|148   |3176   |3.5   |3.933551  |3176|Battle Royale                                                                                        |[{'id': 18, 'name': 'Drama'}, {'id': 53, 'name': 'Thriller'}, {'id': 12, 'name': 'Adventure'}]                                                             |\n",
      "+------+-------+------+----------+----+-----------------------------------------------------------------------------------------------------+-----------------------------------------------------------------------------------------------------------------------------------------------------------+\n",
      "only showing top 10 rows\n",
      "\n"
     ]
    }
   ],
   "source": [
    "predictions = predictions.na.drop()\n",
    "predictions.show(10, truncate = False)"
   ]
  },
  {
   "cell_type": "markdown",
   "metadata": {},
   "source": [
    "### Prediction Performance \n",
    "\n",
    "The RMSE with 100,004 data points is 1.1244220. \n",
    "\n",
    "Adding additional data points (26,024,289) is expected to increase the prediction performance. Run this notebook with the full dataset to see the lift."
   ]
  },
  {
   "cell_type": "code",
   "execution_count": 22,
   "metadata": {},
   "outputs": [
    {
     "name": "stdout",
     "output_type": "stream",
     "text": [
      "Root-mean-square error = 1.0263904594881685\n"
     ]
    }
   ],
   "source": [
    "evaluator = RegressionEvaluator(metricName='rmse', labelCol='rating')\n",
    "rmse = evaluator.evaluate(predictions)\n",
    "print(\"Root-mean-square error = \" + str(rmse))"
   ]
  },
  {
   "cell_type": "markdown",
   "metadata": {},
   "source": [
    "### Predictions"
   ]
  },
  {
   "cell_type": "code",
   "execution_count": 23,
   "metadata": {},
   "outputs": [
    {
     "name": "stderr",
     "output_type": "stream",
     "text": [
      "[Stage 275:====================================>                 (68 + 8) / 100]\r"
     ]
    },
    {
     "name": "stdout",
     "output_type": "stream",
     "text": [
      "+------+--------------------+\n",
      "|userId|     recommendations|\n",
      "+------+--------------------+\n",
      "|     1|[{6450, 7.6936827...|\n",
      "|     2|[{501, 8.549845},...|\n",
      "|     3|[{6216, 8.864064}...|\n",
      "|     4|[{3929, 6.9032474...|\n",
      "|     5|[{6450, 9.5201435...|\n",
      "|     6|[{1192, 7.647624}...|\n",
      "|     7|[{95449, 7.077262...|\n",
      "|     8|[{390, 8.49079}, ...|\n",
      "|     9|[{1180, 9.157441}...|\n",
      "|    10|[{1295, 7.1830487...|\n",
      "+------+--------------------+\n",
      "only showing top 10 rows\n",
      "\n"
     ]
    },
    {
     "name": "stderr",
     "output_type": "stream",
     "text": [
      "                                                                                \r"
     ]
    }
   ],
   "source": [
    "# Generate top 10 movie recommendations for each user\n",
    "userRecs = model.recommendForAllUsers(10)\n",
    "userRecs.show(10)"
   ]
  },
  {
   "cell_type": "code",
   "execution_count": 24,
   "metadata": {},
   "outputs": [
    {
     "name": "stderr",
     "output_type": "stream",
     "text": [
      "[Stage 324:=============================================>        (85 + 8) / 100]\r"
     ]
    },
    {
     "name": "stdout",
     "output_type": "stream",
     "text": [
      "+-------+--------------------------------------------------------------------------------------------------------------------------------------------------------------------------------+\n",
      "|movieId|recommendations                                                                                                                                                                 |\n",
      "+-------+--------------------------------------------------------------------------------------------------------------------------------------------------------------------------------+\n",
      "|12     |[{289, 13.281313}, {629, 12.158485}, {296, 11.839071}, {20, 10.543511}, {174, 10.407533}, {332, 9.963968}, {114, 9.522163}, {611, 9.408291}, {586, 8.868663}, {498, 8.346689}]  |\n",
      "|26     |[{348, 7.22755}, {193, 7.0855393}, {360, 7.070237}, {264, 7.069119}, {37, 6.985383}, {123, 6.8676195}, {145, 6.632053}, {645, 6.5727496}, {54, 6.5641513}, {225, 6.4865994}]    |\n",
      "|27     |[{650, 4.003733}, {273, 3.9162965}, {453, 3.9011173}, {357, 3.8878706}, {465, 3.8642108}, {4, 3.8034513}, {280, 3.7898936}, {154, 3.7851267}, {28, 3.7235382}, {543, 3.7164526}]|\n",
      "|28     |[{337, 8.146776}, {650, 8.061}, {296, 7.5705423}, {179, 7.536964}, {498, 7.487583}, {600, 7.10799}, {473, 7.02956}, {17, 7.013688}, {28, 6.910573}, {113, 6.8975472}]           |\n",
      "|31     |[{611, 6.326172}, {289, 6.2866087}, {540, 5.7698903}, {546, 5.7453575}, {114, 5.7095065}, {98, 5.588268}, {37, 5.562669}, {356, 5.4035993}, {323, 5.359099}, {55, 5.3549595}]   |\n",
      "|34     |[{351, 5.6939316}, {473, 5.450752}, {128, 5.4450636}, {410, 5.307893}, {437, 5.226515}, {464, 5.195644}, {145, 5.018987}, {650, 4.9980655}, {656, 4.980718}, {296, 4.9651065}]  |\n",
      "|44     |[{179, 7.6560216}, {337, 7.33718}, {28, 6.9214077}, {543, 6.6492896}, {473, 5.9139347}, {398, 5.726548}, {219, 5.662222}, {64, 5.64383}, {223, 5.513906}, {490, 5.5050116}]     |\n",
      "|53     |[{348, 6.950696}, {264, 6.618573}, {37, 6.5082517}, {611, 6.154002}, {604, 6.0988574}, {308, 6.0969725}, {131, 6.077009}, {440, 6.0287957}, {29, 5.983942}, {360, 5.9636693}]   |\n",
      "|65     |[{611, 8.641955}, {289, 7.8336573}, {578, 7.116059}, {356, 6.94821}, {174, 6.8178067}, {20, 6.654807}, {261, 5.989068}, {629, 5.9792247}, {296, 5.7380652}, {540, 5.734701}]    |\n",
      "|76     |[{288, 6.1367745}, {310, 6.0496264}, {593, 5.821294}, {198, 5.327908}, {453, 5.309975}, {375, 5.192746}, {183, 5.177814}, {154, 5.1118317}, {37, 5.068875}, {207, 5.06195}]     |\n",
      "+-------+--------------------------------------------------------------------------------------------------------------------------------------------------------------------------------+\n",
      "only showing top 10 rows\n",
      "\n"
     ]
    },
    {
     "name": "stderr",
     "output_type": "stream",
     "text": [
      "                                                                                \r"
     ]
    }
   ],
   "source": [
    "# Generate top 10 user recommendations for each movie\n",
    "movieRecs = model.recommendForAllItems(10)\n",
    "\n",
    "movieRecs.show(10, truncate=False)"
   ]
  },
  {
   "cell_type": "code",
   "execution_count": 25,
   "metadata": {},
   "outputs": [
    {
     "name": "stdout",
     "output_type": "stream",
     "text": [
      "+------+--------------------------------------------------------------------------------------------------------------------------------------------------------------------------------------------------+\n",
      "|userId|recommendations                                                                                                                                                                                   |\n",
      "+------+--------------------------------------------------------------------------------------------------------------------------------------------------------------------------------------------------+\n",
      "|471   |[{279, 7.025709}, {4967, 6.4434013}, {299, 6.4163504}, {3355, 6.281493}, {6003, 6.089942}, {2290, 6.0044303}, {1306, 5.928119}, {766, 5.8316755}, {2068, 5.776059}, {3030, 5.6900644}]            |\n",
      "|463   |[{392, 6.819105}, {65188, 5.9430437}, {1202, 5.940975}, {6433, 5.8109007}, {1180, 5.7846346}, {3266, 5.697556}, {77658, 5.657424}, {98961, 5.6093698}, {83411, 5.601468}, {83318, 5.601468}]      |\n",
      "|148   |[{392, 6.226338}, {83411, 5.9801526}, {83318, 5.9801526}, {67504, 5.9801526}, {95449, 5.9290543}, {98961, 5.9038224}, {77658, 5.8230906}, {142488, 5.777012}, {3742, 5.693466}, {2585, 5.6632504}]|\n",
      "+------+--------------------------------------------------------------------------------------------------------------------------------------------------------------------------------------------------+\n",
      "\n"
     ]
    }
   ],
   "source": [
    "# Generate top 10 movie recommendations for a specified set of users\n",
    "users = ratings.select(als.getUserCol()).distinct().limit(3)\n",
    "userSubsetRecs = model.recommendForUserSubset(users, 10)\n",
    "\n",
    "userSubsetRecs.show(10, truncate=False)"
   ]
  },
  {
   "cell_type": "code",
   "execution_count": 26,
   "metadata": {},
   "outputs": [
    {
     "name": "stdout",
     "output_type": "stream",
     "text": [
      "+-------+-------------------------------------------------------------------------------------------------------------------------------------------------------------------------------+\n",
      "|movieId|recommendations                                                                                                                                                                |\n",
      "+-------+-------------------------------------------------------------------------------------------------------------------------------------------------------------------------------+\n",
      "|1580   |[{337, 5.061896}, {46, 5.028004}, {568, 4.964072}, {663, 4.934806}, {432, 4.928523}, {290, 4.894332}, {47, 4.8710666}, {177, 4.8688655}, {287, 4.8474236}, {448, 4.791448}]    |\n",
      "|3794   |[{332, 6.2603335}, {310, 5.991803}, {325, 5.6808276}, {198, 5.247655}, {28, 5.170321}, {543, 4.99607}, {337, 4.9277444}, {401, 4.7955823}, {154, 4.719326}, {408, 4.68405}]    |\n",
      "|2659   |[{308, 6.918976}, {348, 6.8935122}, {51, 6.8734593}, {264, 6.3027554}, {651, 6.180218}, {337, 6.0969987}, {179, 6.0620255}, {454, 5.5762753}, {360, 5.557652}, {37, 5.5230494}]|\n",
      "+-------+-------------------------------------------------------------------------------------------------------------------------------------------------------------------------------+\n",
      "\n"
     ]
    }
   ],
   "source": [
    "# Generate top 10 user recommendations for a specified set of movies\n",
    "movies = ratings.select(als.getItemCol()).distinct().limit(3)\n",
    "movieSubSetRecs = model.recommendForItemSubset(movies, 10)\n",
    "\n",
    "movieSubSetRecs.show(10, truncate=False)"
   ]
  }
 ],
 "metadata": {
  "kernelspec": {
   "display_name": "Python 3",
   "language": "python",
   "name": "python3"
  },
  "language_info": {
   "codemirror_mode": {
    "name": "ipython",
    "version": 3
   },
   "file_extension": ".py",
   "mimetype": "text/x-python",
   "name": "python",
   "nbconvert_exporter": "python",
   "pygments_lexer": "ipython3",
   "version": "3.9.6"
  }
 },
 "nbformat": 4,
 "nbformat_minor": 2
}
