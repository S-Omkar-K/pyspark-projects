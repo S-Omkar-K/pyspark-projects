{
 "cells": [
  {
   "cell_type": "markdown",
   "metadata": {},
   "source": [
    "\n",
    "### IRIS Dataset"
   ]
  },
  {
   "cell_type": "code",
   "execution_count": 1,
   "metadata": {},
   "outputs": [],
   "source": [
    "from pyspark import SparkFiles\n",
    "from pyspark.ml import Pipeline\n",
    "from pyspark.sql import SparkSession\n",
    "from pyspark.ml.classification import NaiveBayes\n",
    "from pyspark.ml.feature import StringIndexer,IndexToString, VectorAssembler\n",
    "from pyspark.ml.evaluation import MulticlassClassificationEvaluator"
   ]
  },
  {
   "cell_type": "code",
   "execution_count": 2,
   "metadata": {},
   "outputs": [
    {
     "name": "stderr",
     "output_type": "stream",
     "text": [
      "24/01/28 14:37:49 WARN Utils: Your hostname, Sais-MacBook-Air.local resolves to a loopback address: 127.0.0.1; using 10.150.141.237 instead (on interface en0)\n",
      "24/01/28 14:37:49 WARN Utils: Set SPARK_LOCAL_IP if you need to bind to another address\n",
      "Setting default log level to \"WARN\".\n",
      "To adjust logging level use sc.setLogLevel(newLevel). For SparkR, use setLogLevel(newLevel).\n",
      "24/01/28 14:37:49 WARN NativeCodeLoader: Unable to load native-hadoop library for your platform... using builtin-java classes where applicable\n"
     ]
    }
   ],
   "source": [
    "spark = SparkSession.builder.appName('Spark-IRIS-Classifier').getOrCreate()"
   ]
  },
  {
   "cell_type": "markdown",
   "metadata": {},
   "source": [
    "### Read Data"
   ]
  },
  {
   "cell_type": "code",
   "execution_count": 3,
   "metadata": {},
   "outputs": [],
   "source": [
    "url = \"https://archive.ics.uci.edu/ml/machine-learning-databases/iris/iris.data\"\n",
    "spark.sparkContext.addFile(url)\n",
    "df = spark.read.csv(SparkFiles.get(\"iris.data\"), header=False, inferSchema= True)\n",
    "df = spark.createDataFrame(df.rdd, [\"PetalWidth\",\"PetalLength\",\"SepalWidth\",\"SepalLength\",\"Label\"])"
   ]
  },
  {
   "cell_type": "code",
   "execution_count": 4,
   "metadata": {},
   "outputs": [
    {
     "name": "stdout",
     "output_type": "stream",
     "text": [
      "+----------+-----------+----------+-----------+-----------+\n",
      "|PetalWidth|PetalLength|SepalWidth|SepalLength|      Label|\n",
      "+----------+-----------+----------+-----------+-----------+\n",
      "|       5.1|        3.5|       1.4|        0.2|Iris-setosa|\n",
      "|       4.9|        3.0|       1.4|        0.2|Iris-setosa|\n",
      "|       4.7|        3.2|       1.3|        0.2|Iris-setosa|\n",
      "|       4.6|        3.1|       1.5|        0.2|Iris-setosa|\n",
      "|       5.0|        3.6|       1.4|        0.2|Iris-setosa|\n",
      "|       5.4|        3.9|       1.7|        0.4|Iris-setosa|\n",
      "|       4.6|        3.4|       1.4|        0.3|Iris-setosa|\n",
      "|       5.0|        3.4|       1.5|        0.2|Iris-setosa|\n",
      "|       4.4|        2.9|       1.4|        0.2|Iris-setosa|\n",
      "|       4.9|        3.1|       1.5|        0.1|Iris-setosa|\n",
      "|       5.4|        3.7|       1.5|        0.2|Iris-setosa|\n",
      "|       4.8|        3.4|       1.6|        0.2|Iris-setosa|\n",
      "|       4.8|        3.0|       1.4|        0.1|Iris-setosa|\n",
      "|       4.3|        3.0|       1.1|        0.1|Iris-setosa|\n",
      "|       5.8|        4.0|       1.2|        0.2|Iris-setosa|\n",
      "|       5.7|        4.4|       1.5|        0.4|Iris-setosa|\n",
      "|       5.4|        3.9|       1.3|        0.4|Iris-setosa|\n",
      "|       5.1|        3.5|       1.4|        0.3|Iris-setosa|\n",
      "|       5.7|        3.8|       1.7|        0.3|Iris-setosa|\n",
      "|       5.1|        3.8|       1.5|        0.3|Iris-setosa|\n",
      "+----------+-----------+----------+-----------+-----------+\n",
      "only showing top 20 rows\n",
      "\n"
     ]
    }
   ],
   "source": [
    "df.show()"
   ]
  },
  {
   "cell_type": "markdown",
   "metadata": {},
   "source": [
    "### Feature Engineering"
   ]
  },
  {
   "cell_type": "code",
   "execution_count": 5,
   "metadata": {},
   "outputs": [],
   "source": [
    "# Preparing the data by indexing the classes and putting the features into a vector.\n",
    "labelIndexer = StringIndexer(inputCol=\"Label\", outputCol=\"LabelIndex\")\n",
    "vectorAssembler = VectorAssembler(inputCols=[\"PetalWidth\",\"PetalLength\",\"SepalWidth\",\"SepalLength\"],\n",
    "                                  outputCol=\"features\")\n",
    "df = vectorAssembler.transform(df)"
   ]
  },
  {
   "cell_type": "code",
   "execution_count": 6,
   "metadata": {},
   "outputs": [
    {
     "name": "stdout",
     "output_type": "stream",
     "text": [
      "+----------+-----------+----------+-----------+-----------+-----------------+\n",
      "|PetalWidth|PetalLength|SepalWidth|SepalLength|      Label|         features|\n",
      "+----------+-----------+----------+-----------+-----------+-----------------+\n",
      "|       5.1|        3.5|       1.4|        0.2|Iris-setosa|[5.1,3.5,1.4,0.2]|\n",
      "|       4.9|        3.0|       1.4|        0.2|Iris-setosa|[4.9,3.0,1.4,0.2]|\n",
      "|       4.7|        3.2|       1.3|        0.2|Iris-setosa|[4.7,3.2,1.3,0.2]|\n",
      "|       4.6|        3.1|       1.5|        0.2|Iris-setosa|[4.6,3.1,1.5,0.2]|\n",
      "|       5.0|        3.6|       1.4|        0.2|Iris-setosa|[5.0,3.6,1.4,0.2]|\n",
      "+----------+-----------+----------+-----------+-----------+-----------------+\n",
      "only showing top 5 rows\n",
      "\n"
     ]
    }
   ],
   "source": [
    "df.show(5)"
   ]
  },
  {
   "cell_type": "code",
   "execution_count": 7,
   "metadata": {},
   "outputs": [
    {
     "name": "stdout",
     "output_type": "stream",
     "text": [
      "+----------+-----------+----------+-----------+-----------+-----------------+----------+\n",
      "|PetalWidth|PetalLength|SepalWidth|SepalLength|      Label|         features|LabelIndex|\n",
      "+----------+-----------+----------+-----------+-----------+-----------------+----------+\n",
      "|       5.1|        3.5|       1.4|        0.2|Iris-setosa|[5.1,3.5,1.4,0.2]|       0.0|\n",
      "|       4.9|        3.0|       1.4|        0.2|Iris-setosa|[4.9,3.0,1.4,0.2]|       0.0|\n",
      "|       4.7|        3.2|       1.3|        0.2|Iris-setosa|[4.7,3.2,1.3,0.2]|       0.0|\n",
      "|       4.6|        3.1|       1.5|        0.2|Iris-setosa|[4.6,3.1,1.5,0.2]|       0.0|\n",
      "|       5.0|        3.6|       1.4|        0.2|Iris-setosa|[5.0,3.6,1.4,0.2]|       0.0|\n",
      "+----------+-----------+----------+-----------+-----------+-----------------+----------+\n",
      "only showing top 5 rows\n",
      "\n"
     ]
    }
   ],
   "source": [
    "index_model = labelIndexer.fit(df)\n",
    "data_indexed = index_model.transform(df)\n",
    "data_indexed.show(5)"
   ]
  },
  {
   "cell_type": "code",
   "execution_count": 8,
   "metadata": {},
   "outputs": [],
   "source": [
    "train_df, test_df =  data_indexed.randomSplit([0.7, 0.3],0.0)"
   ]
  },
  {
   "cell_type": "markdown",
   "metadata": {},
   "source": [
    "### Train Model"
   ]
  },
  {
   "cell_type": "code",
   "execution_count": 9,
   "metadata": {},
   "outputs": [],
   "source": [
    "# Configuring the NaiveBayes classifier and then training it\n",
    "nb = NaiveBayes().setFeaturesCol(\"features\").setLabelCol(\"LabelIndex\").setSmoothing(1.0).setModelType(\"multinomial\")\n",
    "model = nb.fit(train_df)"
   ]
  },
  {
   "cell_type": "markdown",
   "metadata": {},
   "source": [
    "### Prediction"
   ]
  },
  {
   "cell_type": "code",
   "execution_count": 10,
   "metadata": {},
   "outputs": [
    {
     "name": "stdout",
     "output_type": "stream",
     "text": [
      "+----------+-----------+----------+-----------+-----------+-----------------+----------+--------------------+--------------------+----------+\n",
      "|PetalWidth|PetalLength|SepalWidth|SepalLength|      Label|         features|LabelIndex|       rawPrediction|         probability|prediction|\n",
      "+----------+-----------+----------+-----------+-----------+-----------------+----------+--------------------+--------------------+----------+\n",
      "|       4.3|        3.0|       1.1|        0.1|Iris-setosa|[4.3,3.0,1.1,0.1]|       0.0|[-9.9902097158302...|[0.70655885100260...|       0.0|\n",
      "|       4.5|        2.3|       1.3|        0.3|Iris-setosa|[4.5,2.3,1.3,0.3]|       0.0|[-10.493440353726...|[0.51837961017414...|       0.0|\n",
      "|       4.6|        3.6|       1.0|        0.2|Iris-setosa|[4.6,3.6,1.0,0.2]|       0.0|[-11.037834570829...|[0.77208818109349...|       0.0|\n",
      "|       4.9|        3.1|       1.5|        0.1|Iris-setosa|[4.9,3.1,1.5,0.1]|       0.0|[-11.289649900781...|[0.68248569531348...|       0.0|\n",
      "|       4.9|        3.1|       1.5|        0.1|Iris-setosa|[4.9,3.1,1.5,0.1]|       0.0|[-11.289649900781...|[0.68248569531348...|       0.0|\n",
      "+----------+-----------+----------+-----------+-----------+-----------------+----------+--------------------+--------------------+----------+\n",
      "only showing top 5 rows\n",
      "\n"
     ]
    },
    {
     "name": "stderr",
     "output_type": "stream",
     "text": [
      "24/01/28 14:39:53 WARN InstanceBuilder: Failed to load implementation from:dev.ludovic.netlib.blas.JNIBLAS\n"
     ]
    }
   ],
   "source": [
    "predictions = model.transform(test_df)\n",
    "predictions.show(5)"
   ]
  },
  {
   "cell_type": "code",
   "execution_count": 11,
   "metadata": {},
   "outputs": [],
   "source": [
    "# Un-index the data to have species names\n",
    "converter = IndexToString(inputCol=\"prediction\", outputCol=\"PredictedLabel\", labels=index_model.labels)\n",
    "converted = converter.transform(predictions)\n"
   ]
  },
  {
   "cell_type": "code",
   "execution_count": 12,
   "metadata": {},
   "outputs": [
    {
     "name": "stdout",
     "output_type": "stream",
     "text": [
      "+-----------------+-----------+--------------+\n",
      "|         features|      Label|PredictedLabel|\n",
      "+-----------------+-----------+--------------+\n",
      "|[4.3,3.0,1.1,0.1]|Iris-setosa|   Iris-setosa|\n",
      "|[4.5,2.3,1.3,0.3]|Iris-setosa|   Iris-setosa|\n",
      "|[4.6,3.6,1.0,0.2]|Iris-setosa|   Iris-setosa|\n",
      "|[4.9,3.1,1.5,0.1]|Iris-setosa|   Iris-setosa|\n",
      "|[4.9,3.1,1.5,0.1]|Iris-setosa|   Iris-setosa|\n",
      "+-----------------+-----------+--------------+\n",
      "only showing top 5 rows\n",
      "\n"
     ]
    }
   ],
   "source": [
    "# Displaying the actual and predicted species side-by-side\n",
    "converted.select(['features','Label','PredictedLabel']).show(5)"
   ]
  },
  {
   "cell_type": "markdown",
   "metadata": {},
   "source": [
    "### Model Evaluation\n",
    "\n",
    "#### Using MulticlassClassificationEvaluator() for evaluating the model"
   ]
  },
  {
   "cell_type": "code",
   "execution_count": 14,
   "metadata": {},
   "outputs": [
    {
     "name": "stdout",
     "output_type": "stream",
     "text": [
      "0.926829268292683\n",
      "0.9264475079533403\n",
      "0.9425087108013936\n",
      "0.9268292682926829\n",
      "0.9268292682926829\n",
      "0.02682926829268293\n",
      "1.0\n",
      "0.7857142857142857\n",
      "0.7692307692307693\n"
     ]
    }
   ],
   "source": [
    "e = MulticlassClassificationEvaluator(labelCol=\"LabelIndex\", predictionCol=\"prediction\")\n",
    "\n",
    "\n",
    "print(e.evaluate(predictions, {e.metricName: \"accuracy\"}))\n",
    "\n",
    "print(e.evaluate(predictions, {e.metricName: \"f1\"}))\n",
    "\n",
    "print(e.evaluate(predictions, {e.metricName: \"weightedPrecision\"}))\n",
    "\n",
    "print(e.evaluate(predictions, {e.metricName: \"weightedRecall\"}))\n",
    "\n",
    "print(e.evaluate(predictions, {e.metricName: \"weightedTruePositiveRate\"}))\n",
    "\n",
    "print(e.evaluate(predictions, {e.metricName: \"weightedFalsePositiveRate\"}))\n",
    "\n",
    "print(e.evaluate(predictions, {e.metricName: \"truePositiveRateByLabel\", e.metricLabel: 0.0}))\n",
    "\n",
    "print(e.evaluate(predictions, {e.metricName: \"precisionByLabel\", e.metricLabel: 1.0}))\n",
    "\n",
    "print(e.evaluate(predictions, {e.metricName: \"recallByLabel\", e.metricLabel: 2.0}))"
   ]
  },
  {
   "cell_type": "markdown",
   "metadata": {},
   "source": [
    "The evaluation metrics for the above Naive Bayes classification model on the IRIS dataset indicate a robust performance overall. With an accuracy of 92.68% and an F1 score of 92.64%, the model demonstrates a high level of correctness and balance between precision and recall. The weighted precision and recall, accounting for the dataset's class imbalance, are impressive at 94.25% and 92.68%, respectively. Notably, the model exhibits perfect recall for the Iris Setosa class (label 0.0) and reasonably high precision for the Iris Versicolor class (label 1.0) at 78.57%. The weighted false positive rate is low at 2.68%, suggesting the model's effectiveness in minimizing misclassifications. Overall, these metrics underscore the model's proficiency in accurately classifying Iris species, with particular strengths in handling the class imbalances inherent in the dataset."
   ]
  }
 ],
 "metadata": {
  "kernelspec": {
   "display_name": "Python 3",
   "language": "python",
   "name": "python3"
  },
  "language_info": {
   "codemirror_mode": {
    "name": "ipython",
    "version": 3
   },
   "file_extension": ".py",
   "mimetype": "text/x-python",
   "name": "python",
   "nbconvert_exporter": "python",
   "pygments_lexer": "ipython3",
   "version": "3.9.6"
  }
 },
 "nbformat": 4,
 "nbformat_minor": 2
}
