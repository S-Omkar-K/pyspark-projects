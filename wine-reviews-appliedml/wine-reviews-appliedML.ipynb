{
 "cells": [
  {
   "cell_type": "markdown",
   "metadata": {},
   "source": [
    "\n",
    "### Wine reviews dataset - pyspark ML\n",
    "\n",
    "**Dataset url:**\n",
    "https://www.kaggle.com/zynicide/wine-reviews"
   ]
  },
  {
   "cell_type": "code",
   "execution_count": 13,
   "metadata": {},
   "outputs": [],
   "source": [
    "from pyspark.sql import SparkSession\n",
    "from pyspark.sql import functions as F\n",
    "\n",
    "import matplotlib.pyplot as plt\n",
    "%matplotlib inline"
   ]
  },
  {
   "cell_type": "code",
   "execution_count": 14,
   "metadata": {},
   "outputs": [
    {
     "data": {
      "text/plain": [
       "[('spark.sql.warehouse.dir',\n",
       "  'file:/Users/saiomkarkandukuri/Desktop/Academics/Academics-001/big-data-platforms/week-5/Session5/spark-warehouse'),\n",
       " ('spark.driver.port', '56782'),\n",
       " ('spark.executor.id', 'driver'),\n",
       " ('spark.executor.memory', '5g'),\n",
       " ('spark.app.submitTime', '1706475114391'),\n",
       " ('spark.executor.cores', '4'),\n",
       " ('spark.cores.max', '4'),\n",
       " ('spark.app.id', 'local-1706475115002'),\n",
       " ('spark.driver.extraJavaOptions',\n",
       "  '-Djava.net.preferIPv6Addresses=false -XX:+IgnoreUnrecognizedVMOptions --add-opens=java.base/java.lang=ALL-UNNAMED --add-opens=java.base/java.lang.invoke=ALL-UNNAMED --add-opens=java.base/java.lang.reflect=ALL-UNNAMED --add-opens=java.base/java.io=ALL-UNNAMED --add-opens=java.base/java.net=ALL-UNNAMED --add-opens=java.base/java.nio=ALL-UNNAMED --add-opens=java.base/java.util=ALL-UNNAMED --add-opens=java.base/java.util.concurrent=ALL-UNNAMED --add-opens=java.base/java.util.concurrent.atomic=ALL-UNNAMED --add-opens=java.base/sun.nio.ch=ALL-UNNAMED --add-opens=java.base/sun.nio.cs=ALL-UNNAMED --add-opens=java.base/sun.security.action=ALL-UNNAMED --add-opens=java.base/sun.util.calendar=ALL-UNNAMED --add-opens=java.security.jgss/sun.security.krb5=ALL-UNNAMED -Djdk.reflect.useDirectMethodHandle=false'),\n",
       " ('spark.app.startTime', '1706475114475'),\n",
       " ('spark.app.name', 'Spark Updated Conf'),\n",
       " ('spark.driver.host', '10.150.141.237'),\n",
       " ('spark.rdd.compress', 'True'),\n",
       " ('spark.driver.memory', '8g'),\n",
       " ('spark.serializer.objectStreamReset', '100'),\n",
       " ('spark.master', 'local[*]'),\n",
       " ('spark.submit.pyFiles', ''),\n",
       " ('spark.submit.deployMode', 'client'),\n",
       " ('spark.ui.showConsoleProgress', 'true'),\n",
       " ('spark.executor.extraJavaOptions',\n",
       "  '-Djava.net.preferIPv6Addresses=false -XX:+IgnoreUnrecognizedVMOptions --add-opens=java.base/java.lang=ALL-UNNAMED --add-opens=java.base/java.lang.invoke=ALL-UNNAMED --add-opens=java.base/java.lang.reflect=ALL-UNNAMED --add-opens=java.base/java.io=ALL-UNNAMED --add-opens=java.base/java.net=ALL-UNNAMED --add-opens=java.base/java.nio=ALL-UNNAMED --add-opens=java.base/java.util=ALL-UNNAMED --add-opens=java.base/java.util.concurrent=ALL-UNNAMED --add-opens=java.base/java.util.concurrent.atomic=ALL-UNNAMED --add-opens=java.base/sun.nio.ch=ALL-UNNAMED --add-opens=java.base/sun.nio.cs=ALL-UNNAMED --add-opens=java.base/sun.security.action=ALL-UNNAMED --add-opens=java.base/sun.util.calendar=ALL-UNNAMED --add-opens=java.security.jgss/sun.security.krb5=ALL-UNNAMED -Djdk.reflect.useDirectMethodHandle=false')]"
      ]
     },
     "execution_count": 14,
     "metadata": {},
     "output_type": "execute_result"
    }
   ],
   "source": [
    "#creating Spark session\n",
    "spark = SparkSession.builder.appName('WineReviewsML').getOrCreate()\n",
    "\n",
    "#changing configuration settings on Spark \n",
    "conf = spark.sparkContext._conf.setAll([('spark.executor.memory', '5g'), ('spark.app.name', 'Spark Updated Conf'), ('spark.executor.cores', '4'), ('spark.cores.max', '4'), ('spark.driver.memory','8g')])\n",
    "\n",
    "spark.sparkContext.getConf().getAll()"
   ]
  },
  {
   "cell_type": "markdown",
   "metadata": {},
   "source": [
    "## Read Data"
   ]
  },
  {
   "cell_type": "code",
   "execution_count": 15,
   "metadata": {},
   "outputs": [],
   "source": [
    "df = spark.read \\\n",
    "    .option(\"quote\", \"\\\"\")  \\\n",
    "    .option(\"escape\", \"\\\"\") \\\n",
    "    .option(\"ignoreLeadingWhiteSpace\",True) \\\n",
    "    .csv(\"/Users/saiomkarkandukuri/Desktop/github/data-ml-ai/projects/pyspark/wine-reviews-appliedml/data/winemag-data_first150k.csv\",inferSchema=True, header=True )\n",
    "\n"
   ]
  },
  {
   "cell_type": "code",
   "execution_count": 16,
   "metadata": {},
   "outputs": [
    {
     "name": "stdout",
     "output_type": "stream",
     "text": [
      "root\n",
      " |-- _c0: integer (nullable = true)\n",
      " |-- country: string (nullable = true)\n",
      " |-- description: string (nullable = true)\n",
      " |-- designation: string (nullable = true)\n",
      " |-- points: integer (nullable = true)\n",
      " |-- price: double (nullable = true)\n",
      " |-- province: string (nullable = true)\n",
      " |-- region_1: string (nullable = true)\n",
      " |-- region_2: string (nullable = true)\n",
      " |-- variety: string (nullable = true)\n",
      " |-- winery: string (nullable = true)\n",
      "\n"
     ]
    }
   ],
   "source": [
    "df.printSchema()"
   ]
  },
  {
   "cell_type": "code",
   "execution_count": 17,
   "metadata": {},
   "outputs": [],
   "source": [
    "#loading second dataset with additional 130k reviews\n",
    "df2 = spark.read \\\n",
    "    .option(\"quote\", \"\\\"\")  \\\n",
    "    .option(\"escape\", \"\\\"\") \\\n",
    "    .option(\"ignoreLeadingWhiteSpace\",True) \\\n",
    "    .csv(\"/Users/saiomkarkandukuri/Desktop/github/data-ml-ai/projects/pyspark/wine-reviews-appliedml/data//winemag-data-130k-v2.csv\",inferSchema=True, header=True )"
   ]
  },
  {
   "cell_type": "code",
   "execution_count": 18,
   "metadata": {},
   "outputs": [
    {
     "name": "stdout",
     "output_type": "stream",
     "text": [
      "root\n",
      " |-- _c0: integer (nullable = true)\n",
      " |-- country: string (nullable = true)\n",
      " |-- description: string (nullable = true)\n",
      " |-- designation: string (nullable = true)\n",
      " |-- points: integer (nullable = true)\n",
      " |-- price: double (nullable = true)\n",
      " |-- province: string (nullable = true)\n",
      " |-- region_1: string (nullable = true)\n",
      " |-- region_2: string (nullable = true)\n",
      " |-- taster_name: string (nullable = true)\n",
      " |-- taster_twitter_handle: string (nullable = true)\n",
      " |-- title: string (nullable = true)\n",
      " |-- variety: string (nullable = true)\n",
      " |-- winery: string (nullable = true)\n",
      "\n"
     ]
    }
   ],
   "source": [
    "df2.printSchema()"
   ]
  },
  {
   "cell_type": "code",
   "execution_count": 19,
   "metadata": {},
   "outputs": [],
   "source": [
    "#combining the two datasets\n",
    "df = df.union(df2.drop(\"taster_name\", \"taster_twitter_handle\", \"title\"))"
   ]
  },
  {
   "cell_type": "markdown",
   "metadata": {},
   "source": [
    "## Data Exploration\n",
    "\n",
    "<b>Exercise</b>: <font color='red'>Complete the data exploration </font>"
   ]
  },
  {
   "cell_type": "code",
   "execution_count": 20,
   "metadata": {},
   "outputs": [
    {
     "name": "stderr",
     "output_type": "stream",
     "text": [
      "24/01/28 15:01:48 WARN SparkStringUtils: Truncated the string representation of a plan since it was too large. This behavior can be adjusted by setting 'spark.sql.debug.maxToStringFields'.\n",
      "24/01/28 15:01:48 WARN CSVHeaderChecker: CSV header does not conform to the schema.\n",
      " Header: , country, description, designation, points, price, province, region_1, region_2, variety, winery\n",
      " Schema: _c0, country, description, designation, points, price, province, region_1, region_2, variety, winery\n",
      "Expected: _c0 but found: \n",
      "CSV file: file:///Users/saiomkarkandukuri/Desktop/github/data-ml-ai/projects/pyspark/wine-reviews-appliedml/data/winemag-data_first150k.csv\n",
      "24/01/28 15:01:49 WARN CSVHeaderChecker: CSV header does not conform to the schema.\n",
      " Header: , country, description, designation, points, price, province, region_1, region_2, variety, winery\n",
      " Schema: _c0, country, description, designation, points, price, province, region_1, region_2, variety, winery\n",
      "Expected: _c0 but found: \n",
      "CSV file: file:///Users/saiomkarkandukuri/Desktop/github/data-ml-ai/projects/pyspark/wine-reviews-appliedml/data/winemag-data-130k-v2.csv\n",
      "[Stage 10:===================================>                    (10 + 6) / 16]\r"
     ]
    },
    {
     "name": "stdout",
     "output_type": "stream",
     "text": [
      "+-------+-----------------+-------+--------------------+------------------+------------------+------------------+--------+------------+-----------------+--------+-----------+\n",
      "|summary|              _c0|country|         description|       designation|            points|             price|province|    region_1|         region_2| variety|     winery|\n",
      "+-------+-----------------+-------+--------------------+------------------+------------------+------------------+--------+------------+-----------------+--------+-----------+\n",
      "|  count|           280901| 280833|              280901|            197701|            280901|            258210|  280833|      234594|           111464|  280900|     280901|\n",
      "|   mean|70615.70596046293|   NULL|                NULL|1265.2568195718654| 88.14693432917647|34.177161999922546|    NULL|        NULL|             NULL|    NULL|   Infinity|\n",
      "| stddev|41214.37944527398|   NULL|                NULL| 5226.853375208442|3.1515282659639388|38.611708377270496|    NULL|        NULL|             NULL|    NULL|        NaN|\n",
      "|    min|                0|Albania|\"Chremisa,\" the a...|               \"M\"|                80|               4.0|  Achaia|     Abruzzo| California Other|Abouriou|'37 Cellars|\n",
      "|    max|           150929|Uruguay|“Zéro Dosage” mea...|               “P”|               100|            3300.0|    Župa|Zonda Valley|Willamette Valley| Žilavka|      Štoka|\n",
      "+-------+-----------------+-------+--------------------+------------------+------------------+------------------+--------+------------+-----------------+--------+-----------+\n",
      "\n"
     ]
    },
    {
     "name": "stderr",
     "output_type": "stream",
     "text": [
      "                                                                                \r"
     ]
    }
   ],
   "source": [
    "\n",
    "df.describe().show()"
   ]
  },
  {
   "cell_type": "code",
   "execution_count": 22,
   "metadata": {},
   "outputs": [
    {
     "data": {
      "text/plain": [
       "280901"
      ]
     },
     "execution_count": 22,
     "metadata": {},
     "output_type": "execute_result"
    }
   ],
   "source": [
    "df.count()"
   ]
  },
  {
   "cell_type": "code",
   "execution_count": 24,
   "metadata": {},
   "outputs": [
    {
     "name": "stdout",
     "output_type": "stream",
     "text": [
      "+---+-------+--------------------------------------------------------------------------------------------------------------------------------------------------------------------------------------------------------------------------------------------------------------------------------------------------------------------------------------------------------------------------------------------------+------------------------------------+------+-----+--------------+------------------+-----------------+------------------+-----------------------+\n",
      "|_c0|country|description                                                                                                                                                                                                                                                                                                                                                                                       |designation                         |points|price|province      |region_1          |region_2         |variety           |winery                 |\n",
      "+---+-------+--------------------------------------------------------------------------------------------------------------------------------------------------------------------------------------------------------------------------------------------------------------------------------------------------------------------------------------------------------------------------------------------------+------------------------------------+------+-----+--------------+------------------+-----------------+------------------+-----------------------+\n",
      "|0  |US     |This tremendous 100% varietal wine hails from Oakville and was aged over three years in oak. Juicy red-cherry fruit and a compelling hint of caramel greet the palate, framed by elegant, fine tannins and a subtle minty tone in the background. Balanced and rewarding from start to finish, it has years ahead of it to develop further nuance. Enjoy 2022–2030.                               |Martha's Vineyard                   |96    |235.0|California    |Napa Valley       |Napa             |Cabernet Sauvignon|Heitz                  |\n",
      "|1  |Spain  |Ripe aromas of fig, blackberry and cassis are softened and sweetened by a slathering of oaky chocolate and vanilla. This is full, layered, intense and cushioned on the palate, with rich flavors of chocolaty black fruits and baking spices. A toasty, everlasting finish is heady but ideally balanced. Drink through 2023.                                                                    |Carodorum Selección Especial Reserva|96    |110.0|Northern Spain|Toro              |NULL             |Tinta de Toro     |Bodega Carmen Rodríguez|\n",
      "|2  |US     |Mac Watson honors the memory of a wine once made by his mother in this tremendously delicious, balanced and complex botrytised white. Dark gold in color, it layers toasted hazelnut, pear compote and orange peel flavors, reveling in the succulence of its 122 g/L of residual sugar.                                                                                                          |Special Selected Late Harvest       |96    |90.0 |California    |Knights Valley    |Sonoma           |Sauvignon Blanc   |Macauley               |\n",
      "|3  |US     |This spent 20 months in 30% new French oak, and incorporates fruit from Ponzi's Aurora, Abetina and Madrona vineyards, among others. Aromatic, dense and toasty, it deftly blends aromas and flavors of toast, cigar box, blackberry, black cherry, coffee and graphite. Tannins are polished to a fine sheen, and frame a finish loaded with dark chocolate and espresso. Drink now through 2032.|Reserve                             |96    |65.0 |Oregon        |Willamette Valley |Willamette Valley|Pinot Noir        |Ponzi                  |\n",
      "|4  |France |This is the top wine from La Bégude, named after the highest point in the vineyard at 1200 feet. It has structure, density and considerable acidity that is still calming down. With 18 months in wood, the wine has developing an extra richness and concentration. Produced by the Tari family, formerly of Château Giscours in Margaux, it is a wine made for aging. Drink from 2020.          |La Brûlade                          |95    |66.0 |Provence      |Bandol            |NULL             |Provence red blend|Domaine de la Bégude   |\n",
      "|5  |Spain  |Deep, dense and pure from the opening bell, this Toro is a winner. Aromas of dark ripe black fruits are cool and moderately oaked. This feels massive on the palate but sensationally balanced. Flavors of blackberry, coffee, mocha and toasty oak finish spicy, smooth and heady. Drink this exemplary Toro through 2023.                                                                       |Numanthia                           |95    |73.0 |Northern Spain|Toro              |NULL             |Tinta de Toro     |Numanthia              |\n",
      "|6  |Spain  |Slightly gritty black-fruit aromas include a sweet note of pastry along with a hint of prune. Wall-to-wall saturation ensures that all corners of one's mouth are covered. Flavors of blackberry, mocha and chocolate are highly impressive and expressive, while this settles nicely on a long finish. Drink now through 2024.                                                                   |San Román                           |95    |65.0 |Northern Spain|Toro              |NULL             |Tinta de Toro     |Maurodos               |\n",
      "|7  |Spain  |Lush cedary black-fruit aromas are luxe and offer notes of marzipan and vanilla. This bruiser is massive and tannic on the palate, but still lush and friendly. Chocolate is a key flavor, while baked berry and cassis flavors are hardly wallflowers. On the finish, this is tannic and deep as a sea trench. Drink this saturated black-colored Toro through 2023.                             |Carodorum Único Crianza             |95    |110.0|Northern Spain|Toro              |NULL             |Tinta de Toro     |Bodega Carmen Rodríguez|\n",
      "|8  |US     |This re-named vineyard was formerly bottled as deLancellotti. You'll find striking minerality underscoring chunky black fruits. Accents of citrus and graphite comingle, with exceptional midpalate concentration. This is a wine to cellar, though it is already quite enjoyable. Drink now through 2030.                                                                                        |Silice                              |95    |65.0 |Oregon        |Chehalem Mountains|Willamette Valley|Pinot Noir        |Bergström              |\n",
      "|9  |US     |The producer sources from two blocks of the vineyard for this wine—one at a high elevation, which contributes bright acidity. Crunchy cranberry, pomegranate and orange peel flavors surround silky, succulent layers of texture that present as fleshy fruit. That delicately lush flavor has considerable length.                                                                               |Gap's Crown Vineyard                |95    |60.0 |California    |Sonoma Coast      |Sonoma           |Pinot Noir        |Blue Farm              |\n",
      "+---+-------+--------------------------------------------------------------------------------------------------------------------------------------------------------------------------------------------------------------------------------------------------------------------------------------------------------------------------------------------------------------------------------------------------+------------------------------------+------+-----+--------------+------------------+-----------------+------------------+-----------------------+\n",
      "only showing top 10 rows\n",
      "\n"
     ]
    },
    {
     "name": "stderr",
     "output_type": "stream",
     "text": [
      "24/01/28 15:02:43 WARN CSVHeaderChecker: CSV header does not conform to the schema.\n",
      " Header: , country, description, designation, points, price, province, region_1, region_2, variety, winery\n",
      " Schema: _c0, country, description, designation, points, price, province, region_1, region_2, variety, winery\n",
      "Expected: _c0 but found: \n",
      "CSV file: file:///Users/saiomkarkandukuri/Desktop/github/data-ml-ai/projects/pyspark/wine-reviews-appliedml/data/winemag-data_first150k.csv\n"
     ]
    }
   ],
   "source": [
    "df.show(10, truncate = False)"
   ]
  },
  {
   "cell_type": "code",
   "execution_count": 25,
   "metadata": {},
   "outputs": [
    {
     "name": "stderr",
     "output_type": "stream",
     "text": [
      "24/01/28 15:03:07 WARN CSVHeaderChecker: CSV header does not conform to the schema.\n",
      " Header: , country, description, designation, points, price, province, region_1, region_2, variety, winery\n",
      " Schema: _c0, country, description, designation, points, price, province, region_1, region_2, variety, winery\n",
      "Expected: _c0 but found: \n",
      "CSV file: file:///Users/saiomkarkandukuri/Desktop/github/data-ml-ai/projects/pyspark/wine-reviews-appliedml/data/winemag-data_first150k.csv\n",
      "24/01/28 15:03:07 WARN CSVHeaderChecker: CSV header does not conform to the schema.\n",
      " Header: , country, description, designation, points, price, province, region_1, region_2, variety, winery\n",
      " Schema: _c0, country, description, designation, points, price, province, region_1, region_2, variety, winery\n",
      "Expected: _c0 but found: \n",
      "CSV file: file:///Users/saiomkarkandukuri/Desktop/github/data-ml-ai/projects/pyspark/wine-reviews-appliedml/data/winemag-data-130k-v2.csv\n"
     ]
    },
    {
     "data": {
      "text/plain": [
       "73325"
      ]
     },
     "execution_count": 25,
     "metadata": {},
     "output_type": "execute_result"
    }
   ],
   "source": [
    "#Count rows with missing values\n",
    "\n",
    "df.dropna().count()"
   ]
  },
  {
   "cell_type": "code",
   "execution_count": 26,
   "metadata": {},
   "outputs": [
    {
     "name": "stderr",
     "output_type": "stream",
     "text": [
      "24/01/28 15:03:42 WARN CSVHeaderChecker: CSV header does not conform to the schema.\n",
      " Header: , country, description, designation, points, price, province, region_1, region_2, variety, winery\n",
      " Schema: _c0, country, description, designation, points, price, province, region_1, region_2, variety, winery\n",
      "Expected: _c0 but found: \n",
      "CSV file: file:///Users/saiomkarkandukuri/Desktop/github/data-ml-ai/projects/pyspark/wine-reviews-appliedml/data/winemag-data_first150k.csv\n",
      "24/01/28 15:03:42 WARN CSVHeaderChecker: CSV header does not conform to the schema.\n",
      " Header: , country, description, designation, points, price, province, region_1, region_2, variety, winery\n",
      " Schema: _c0, country, description, designation, points, price, province, region_1, region_2, variety, winery\n",
      "Expected: _c0 but found: \n",
      "CSV file: file:///Users/saiomkarkandukuri/Desktop/github/data-ml-ai/projects/pyspark/wine-reviews-appliedml/data/winemag-data-130k-v2.csv\n"
     ]
    },
    {
     "name": "stdout",
     "output_type": "stream",
     "text": [
      "+---+-------+-----------+-----------+------+-----+--------+--------+--------+-------+------+\n",
      "|_c0|country|description|designation|points|price|province|region_1|region_2|variety|winery|\n",
      "+---+-------+-----------+-----------+------+-----+--------+--------+--------+-------+------+\n",
      "|  0|     68|          0|      83200|     0|22691|      68|   46307|  169437|      1|     0|\n",
      "+---+-------+-----------+-----------+------+-----+--------+--------+--------+-------+------+\n",
      "\n"
     ]
    }
   ],
   "source": [
    "#Missing values per each column\n",
    "\n",
    "from pyspark.sql.functions import isnan, when, count, col\n",
    "df.select([count(when(df[c].isNull(), c)).alias(c) for c in df.columns]).show()"
   ]
  },
  {
   "cell_type": "code",
   "execution_count": 27,
   "metadata": {
    "scrolled": true
   },
   "outputs": [],
   "source": [
    "#dropping rows where country is missing\n",
    "\n",
    "df = df.filter(df[\"country\"].isNotNull())"
   ]
  },
  {
   "cell_type": "code",
   "execution_count": 28,
   "metadata": {},
   "outputs": [
    {
     "data": {
      "text/plain": [
       "34.17965802297925"
      ]
     },
     "execution_count": 28,
     "metadata": {},
     "output_type": "execute_result"
    }
   ],
   "source": [
    "#mean price\n",
    "\n",
    "meanprice = df.agg({\"price\": \"mean\"}).collect()[0][0]\n",
    "meanprice"
   ]
  },
  {
   "cell_type": "code",
   "execution_count": 29,
   "metadata": {},
   "outputs": [],
   "source": [
    "#Imputing the value of price wherever it is missing to the mean price\n",
    "\n",
    "df = df.na.fill(meanprice, \"price\") \\\n",
    "    .na.fill(\"Unknown\", \"region_1\")"
   ]
  },
  {
   "cell_type": "code",
   "execution_count": 30,
   "metadata": {},
   "outputs": [
    {
     "name": "stderr",
     "output_type": "stream",
     "text": [
      "24/01/28 15:06:25 WARN CSVHeaderChecker: CSV header does not conform to the schema.\n",
      " Header: , country, description, designation, points, province, region_2, variety, winery\n",
      " Schema: _c0, country, description, designation, points, province, region_2, variety, winery\n",
      "Expected: _c0 but found: \n",
      "CSV file: file:///Users/saiomkarkandukuri/Desktop/github/data-ml-ai/projects/pyspark/wine-reviews-appliedml/data/winemag-data_first150k.csv\n",
      "24/01/28 15:06:25 WARN CSVHeaderChecker: CSV header does not conform to the schema.\n",
      " Header: , country, description, designation, points, province, region_2, variety, winery\n",
      " Schema: _c0, country, description, designation, points, province, region_2, variety, winery\n",
      "Expected: _c0 but found: \n",
      "CSV file: file:///Users/saiomkarkandukuri/Desktop/github/data-ml-ai/projects/pyspark/wine-reviews-appliedml/data/winemag-data-130k-v2.csv\n"
     ]
    },
    {
     "name": "stdout",
     "output_type": "stream",
     "text": [
      "+---+-------+-----------+-----------+------+-----+--------+--------+--------+-------+------+\n",
      "|_c0|country|description|designation|points|price|province|region_1|region_2|variety|winery|\n",
      "+---+-------+-----------+-----------+------+-----+--------+--------+--------+-------+------+\n",
      "|  0|      0|          0|      83189|     0|    0|       0|       0|  169369|      1|     0|\n",
      "+---+-------+-----------+-----------+------+-----+--------+--------+--------+-------+------+\n",
      "\n"
     ]
    }
   ],
   "source": [
    "df.select([count(when(df[c].isNull(), c)).alias(c) for c in df.columns]).show()"
   ]
  },
  {
   "cell_type": "code",
   "execution_count": 33,
   "metadata": {},
   "outputs": [
    {
     "data": {
      "text/plain": [
       "50"
      ]
     },
     "execution_count": 33,
     "metadata": {},
     "output_type": "execute_result"
    }
   ],
   "source": [
    "#counting the number of countries\n",
    "\n",
    "df.select('Country').distinct().count()"
   ]
  },
  {
   "cell_type": "code",
   "execution_count": 32,
   "metadata": {},
   "outputs": [
    {
     "name": "stdout",
     "output_type": "stream",
     "text": [
      "+------------+------+\n",
      "|     Country| count|\n",
      "+------------+------+\n",
      "|          US|116901|\n",
      "|      France| 43191|\n",
      "|       Italy| 43018|\n",
      "|       Spain| 14913|\n",
      "|    Portugal| 11013|\n",
      "|       Chile| 10288|\n",
      "|   Argentina|  9431|\n",
      "|   Australia|  7286|\n",
      "|     Austria|  6402|\n",
      "| New Zealand|  4739|\n",
      "|     Germany|  4617|\n",
      "|South Africa|  3659|\n",
      "|      Greece|  1350|\n",
      "|      Israel|  1135|\n",
      "|      Canada|   453|\n",
      "|     Hungary|   377|\n",
      "|     Romania|   259|\n",
      "|    Bulgaria|   218|\n",
      "|     Uruguay|   201|\n",
      "|    Slovenia|   181|\n",
      "+------------+------+\n",
      "only showing top 20 rows\n",
      "\n"
     ]
    }
   ],
   "source": [
    "#counting wines by country\n",
    "\n",
    "df.groupby('Country').count().orderBy([\"count\"], ascending=[0]).show()"
   ]
  },
  {
   "cell_type": "code",
   "execution_count": 34,
   "metadata": {},
   "outputs": [
    {
     "name": "stderr",
     "output_type": "stream",
     "text": [
      "                                                                                \r"
     ]
    },
    {
     "data": {
      "text/plain": [
       "751"
      ]
     },
     "execution_count": 34,
     "metadata": {},
     "output_type": "execute_result"
    }
   ],
   "source": [
    "#Number of varieties\n",
    "\n",
    "df.select('Variety').distinct().count()"
   ]
  },
  {
   "cell_type": "code",
   "execution_count": 36,
   "metadata": {},
   "outputs": [
    {
     "name": "stdout",
     "output_type": "stream",
     "text": [
      "+--------------------+-----+\n",
      "|             variety|count|\n",
      "+--------------------+-----+\n",
      "|          Pinot Noir|27557|\n",
      "|          Chardonnay|26232|\n",
      "|  Cabernet Sauvignon|22270|\n",
      "|           Red Blend|18996|\n",
      "|Bordeaux-style Re...|14262|\n",
      "|     Sauvignon Blanc|11283|\n",
      "|            Riesling|10712|\n",
      "|               Syrah| 9967|\n",
      "|              Merlot| 8171|\n",
      "|           Zinfandel| 6513|\n",
      "|                Rosé| 6380|\n",
      "|          Sangiovese| 6052|\n",
      "|              Malbec| 5860|\n",
      "|         White Blend| 5178|\n",
      "|            Nebbiolo| 5045|\n",
      "|      Portuguese Red| 4682|\n",
      "|         Tempranillo| 4365|\n",
      "|     Sparkling Blend| 4157|\n",
      "|Rhône-style Red B...| 2975|\n",
      "|          Pinot Gris| 2817|\n",
      "+--------------------+-----+\n",
      "only showing top 20 rows\n",
      "\n"
     ]
    }
   ],
   "source": [
    "#Number of wines by variety\n",
    "\n",
    "df.groupby(\"variety\").count().orderBy([\"count\"], ascending=[0]).show()"
   ]
  },
  {
   "cell_type": "code",
   "execution_count": 37,
   "metadata": {},
   "outputs": [
    {
     "name": "stdout",
     "output_type": "stream",
     "text": [
      "+---------+------------------+-----+\n",
      "|  Country|          province|count|\n",
      "+---------+------------------+-----+\n",
      "|       US|        California|80755|\n",
      "|       US|        Washington|18389|\n",
      "|    Italy|           Tuscany|13178|\n",
      "|   France|          Bordeaux|12052|\n",
      "|       US|            Oregon| 9962|\n",
      "|    Spain|    Northern Spain| 8743|\n",
      "|   France|          Burgundy| 8288|\n",
      "|Argentina|  Mendoza Province| 8006|\n",
      "|    Italy|          Piedmont| 7822|\n",
      "|    Italy|            Veneto| 6678|\n",
      "|       US|          New York| 5116|\n",
      "|Australia|   South Australia| 4353|\n",
      "|    Italy| Sicily & Sardinia| 4342|\n",
      "|   France|            Alsace| 4120|\n",
      "|    Italy|Northeastern Italy| 4120|\n",
      "|   France|      Loire Valley| 3642|\n",
      "|   France|  Southwest France| 3104|\n",
      "|   France|         Champagne| 2983|\n",
      "|    Italy|    Southern Italy| 2788|\n",
      "|    Italy|     Central Italy| 2763|\n",
      "+---------+------------------+-----+\n",
      "only showing top 20 rows\n",
      "\n"
     ]
    },
    {
     "name": "stderr",
     "output_type": "stream",
     "text": [
      "                                                                                \r"
     ]
    }
   ],
   "source": [
    "#Number of wines grouped and sorted by Country and Province\n",
    "\n",
    "df.groupBy('Country', 'province').count().orderBy([\"count\"], ascending=[0]).show()"
   ]
  },
  {
   "cell_type": "code",
   "execution_count": 38,
   "metadata": {},
   "outputs": [
    {
     "name": "stderr",
     "output_type": "stream",
     "text": [
      "[Stage 60:================================>                        (9 + 7) / 16]\r"
     ]
    },
    {
     "name": "stdout",
     "output_type": "stream",
     "text": [
      "+-----------+-----------------+--------------------+-----+\n",
      "|    Country|         province|            region_1|count|\n",
      "+-----------+-----------------+--------------------+-----+\n",
      "|         US|       California|         Napa Valley|10689|\n",
      "|         US|       Washington|Columbia Valley (WA)| 9099|\n",
      "|         US|       California|Russian River Valley| 6662|\n",
      "|         US|       California|          California| 6091|\n",
      "|  Argentina| Mendoza Province|             Mendoza| 5887|\n",
      "|         US|       California|         Paso Robles| 5403|\n",
      "|         US|           Oregon|   Willamette Valley| 4397|\n",
      "|     France|           Alsace|              Alsace| 3737|\n",
      "|      Spain|   Northern Spain|               Rioja| 3362|\n",
      "|      Italy|          Tuscany|Brunello di Monta...| 3216|\n",
      "|         US|       California|       Sonoma County| 3099|\n",
      "|      Italy|          Tuscany|             Toscana| 3082|\n",
      "|      Italy|         Piedmont|              Barolo| 2997|\n",
      "|     France|        Champagne|           Champagne| 2982|\n",
      "|         US|       California|        Sonoma Coast| 2947|\n",
      "|         US|         New York|        Finger Lakes| 2937|\n",
      "|      Italy|Sicily & Sardinia|             Sicilia| 2626|\n",
      "|         US|       California|            Carneros| 2457|\n",
      "|New Zealand|      Marlborough|             Unknown| 2453|\n",
      "|   Portugal|            Douro|             Unknown| 2356|\n",
      "+-----------+-----------------+--------------------+-----+\n",
      "only showing top 20 rows\n",
      "\n"
     ]
    },
    {
     "name": "stderr",
     "output_type": "stream",
     "text": [
      "                                                                                \r"
     ]
    }
   ],
   "source": [
    "#Number of wines grouped and sorted by Country and Province and region - region_1\n",
    "\n",
    "df.cube(\"Country\", \"province\", \"region_1\").count().dropna().orderBy([\"count\"], ascending=[0]).show()\n"
   ]
  },
  {
   "cell_type": "code",
   "execution_count": 39,
   "metadata": {},
   "outputs": [
    {
     "name": "stdout",
     "output_type": "stream",
     "text": [
      "+------------+----------+----------+------------------+\n",
      "|     Country|min(price)|max(price)|        avg(price)|\n",
      "+------------+----------+----------+------------------+\n",
      "|      France|       5.0|    3300.0|  40.9601251368177|\n",
      "|          US|       4.0|    2013.0| 35.01133685800309|\n",
      "|     Austria|       7.0|    1100.0| 31.52705669880294|\n",
      "|    Portugal|       4.0|    1000.0|27.679968132305852|\n",
      "|       Italy|       5.0|     900.0|37.806687822033155|\n",
      "|   Australia|       5.0|     850.0|   32.613588592678|\n",
      "|     Germany|       5.0|     775.0| 40.34480153854167|\n",
      "|       Spain|       4.0|     770.0| 27.64885257454141|\n",
      "|     Hungary|       7.0|     764.0| 42.78344646166036|\n",
      "|       Chile|       5.0|     400.0| 20.11645059782618|\n",
      "|South Africa|       5.0|     330.0|22.840988216716134|\n",
      "|     Romania|       4.0|     320.0| 15.86100386100386|\n",
      "|   Argentina|       4.0|     250.0|22.399407263919215|\n",
      "| Switzerland|      19.0|     160.0| 63.90909090909091|\n",
      "|      Israel|       8.0|     150.0|31.596006774297145|\n",
      "|      Canada|      12.0|     145.0| 35.23156355433752|\n",
      "|     Uruguay|       7.0|     130.0|26.439092567964448|\n",
      "| New Zealand|       7.0|     130.0|25.589846061339294|\n",
      "|      Turkey|      14.0|     120.0|25.178586732718017|\n",
      "|      Greece|       7.0|     120.0| 22.11485495288196|\n",
      "+------------+----------+----------+------------------+\n",
      "only showing top 20 rows\n",
      "\n"
     ]
    }
   ],
   "source": [
    "#Minumum, Maximum and Average price in each country\n",
    "\n",
    "df.groupBy('Country').agg(F.min('price'),F.max('price'),F.avg('price')).orderBy([\"max(price)\"], ascending=[0]).show()"
   ]
  },
  {
   "cell_type": "code",
   "execution_count": 40,
   "metadata": {},
   "outputs": [
    {
     "data": {
      "text/plain": [
       "100"
      ]
     },
     "execution_count": 40,
     "metadata": {},
     "output_type": "execute_result"
    }
   ],
   "source": [
    "#Lets try deriving the Highest rated wine, but by using pyspark API \n",
    "\n",
    "from pyspark.sql.functions import max\n",
    "df.agg(max(df.points)).head()[0]"
   ]
  },
  {
   "cell_type": "code",
   "execution_count": 41,
   "metadata": {},
   "outputs": [
    {
     "name": "stdout",
     "output_type": "stream",
     "text": [
      "+-----------+-----------+-----------+-----------------+\n",
      "|    Country|min(points)|max(points)|      avg(points)|\n",
      "+-----------+-----------+-----------+-----------------+\n",
      "|    England|         89|         95|91.72289156626506|\n",
      "|    Austria|         81|         98|89.70759137769447|\n",
      "|    Germany|         80|         98|89.20099631795539|\n",
      "|      India|         82|         93|             89.0|\n",
      "|     France|         80|        100|  88.884559283184|\n",
      "|     Canada|         82|         94|88.88079470198676|\n",
      "|      Italy|         80|        100|88.48114742665861|\n",
      "|    Morocco|         82|         93|            88.45|\n",
      "|         US|         80|        100|88.16610636350416|\n",
      "|   Portugal|         80|        100|88.15717788068646|\n",
      "|   Slovenia|         82|         92|88.15469613259668|\n",
      "|  Australia|         80|        100|88.11240735657425|\n",
      "|     Turkey|         84|         92|88.09154929577464|\n",
      "|Switzerland|         83|         90| 88.0909090909091|\n",
      "|    Hungary|         80|         97|88.05039787798408|\n",
      "|    Albania|         88|         88|             88.0|\n",
      "|  US-France|         88|         88|             88.0|\n",
      "|New Zealand|         80|         95|87.77843426883308|\n",
      "|     Israel|         80|         94|87.75242290748899|\n",
      "| Luxembourg|         86|         90|87.66666666666667|\n",
      "+-----------+-----------+-----------+-----------------+\n",
      "only showing top 20 rows\n",
      "\n"
     ]
    }
   ],
   "source": [
    "#average points ranked by country\n",
    "\n",
    "df2 = df.groupBy('Country').agg(F.min('points'),F.max('points'),F.avg('points')).orderBy([\"avg(points)\"], ascending=[0])\n",
    "\n",
    "df2.show()"
   ]
  },
  {
   "cell_type": "code",
   "execution_count": 42,
   "metadata": {
    "scrolled": true
   },
   "outputs": [],
   "source": [
    "#converting Pyspark dataframe to Pandas dataframe for plotting\n",
    "\n",
    "pandas_df = df2.toPandas()"
   ]
  },
  {
   "cell_type": "code",
   "execution_count": 43,
   "metadata": {},
   "outputs": [
    {
     "data": {
      "text/plain": [
       "<Axes: xlabel='Country'>"
      ]
     },
     "execution_count": 43,
     "metadata": {},
     "output_type": "execute_result"
    },
    {
     "data": {
      "image/png": "[encoded data removed]",
      "text/plain": [
       "<Figure size 1800x400 with 1 Axes>"
      ]
     },
     "metadata": {},
     "output_type": "display_data"
    }
   ],
   "source": [
    "pandas_df.plot(kind= 'bar', x='Country', y='avg(points)', figsize=(18,4), rot=30, ylim=(80, 95))"
   ]
  },
  {
   "cell_type": "markdown",
   "metadata": {},
   "source": [
    "##  Feature Engineering"
   ]
  },
  {
   "cell_type": "code",
   "execution_count": 44,
   "metadata": {},
   "outputs": [],
   "source": [
    "from pyspark.ml.linalg import Vectors\n",
    "from pyspark.ml.stat import Correlation"
   ]
  },
  {
   "cell_type": "code",
   "execution_count": 45,
   "metadata": {},
   "outputs": [
    {
     "data": {
      "text/plain": [
       "0.42001120970067274"
      ]
     },
     "execution_count": 45,
     "metadata": {},
     "output_type": "execute_result"
    }
   ],
   "source": [
    "#Any correlation between the points and price ?\n",
    "df.stat.corr(\"points\", \"price\")\n",
    "\n"
   ]
  },
  {
   "cell_type": "markdown",
   "metadata": {},
   "source": [
    "Looks like weak relationship between points and price"
   ]
  },
  {
   "cell_type": "code",
   "execution_count": 46,
   "metadata": {},
   "outputs": [
    {
     "name": "stdout",
     "output_type": "stream",
     "text": [
      "Minimum Price :  4.0 , Maximum Price :  3300.0 , Mean Price :  34.179658022979204\n"
     ]
    }
   ],
   "source": [
    "min_price = df.agg({\"price\": \"min\"}).collect()[0][0]\n",
    "max_price = df.agg({\"price\": \"max\"}).collect()[0][0]\n",
    "mean_price = df.agg({\"price\": \"mean\"}).collect()[0][0]\n",
    "\n",
    "print (\"Minimum Price : \", min_price, \", Maximum Price : \", max_price, \", Mean Price : \", mean_price)"
   ]
  },
  {
   "cell_type": "code",
   "execution_count": 47,
   "metadata": {},
   "outputs": [
    {
     "name": "stdout",
     "output_type": "stream",
     "text": [
      "+---+-------+--------------------+--------------------+------+-----+--------------+-----------+--------+------------------+--------------------+-------------------+\n",
      "|_c0|country|         description|         designation|points|price|      province|   region_1|region_2|           variety|              winery|         price_norm|\n",
      "+---+-------+--------------------+--------------------+------+-----+--------------+-----------+--------+------------------+--------------------+-------------------+\n",
      "|  0|     US|This tremendous 1...|   Martha's Vineyard|    96|235.0|    California|Napa Valley|    Napa|Cabernet Sauvignon|               Heitz|0.07008495145631068|\n",
      "|  1|  Spain|Ripe aromas of fi...|Carodorum Selecci...|    96|110.0|Northern Spain|       Toro|    NULL|     Tinta de Toro|Bodega Carmen Rod...|0.03216019417475728|\n",
      "+---+-------+--------------------+--------------------+------+-----+--------------+-----------+--------+------------------+--------------------+-------------------+\n",
      "only showing top 2 rows\n",
      "\n"
     ]
    },
    {
     "name": "stderr",
     "output_type": "stream",
     "text": [
      "24/01/28 15:18:34 WARN CSVHeaderChecker: CSV header does not conform to the schema.\n",
      " Header: , country, description, designation, points, price, province, region_1, region_2, variety, winery\n",
      " Schema: _c0, country, description, designation, points, price, province, region_1, region_2, variety, winery\n",
      "Expected: _c0 but found: \n",
      "CSV file: file:///Users/saiomkarkandukuri/Desktop/github/data-ml-ai/projects/pyspark/wine-reviews-appliedml/data/winemag-data_first150k.csv\n"
     ]
    }
   ],
   "source": [
    "#Normalizing the price, min-max normalization\n",
    "\n",
    "df = df.withColumn('price_norm', (df[\"price\"] - min_price)/ ( max_price  - min_price))\n",
    "\n",
    "df.show(2)"
   ]
  },
  {
   "cell_type": "markdown",
   "metadata": {},
   "source": [
    "Quantile Discretizer\n",
    "\n",
    "\n",
    "[QuantileDiscretizer](https://spark.apache.org/docs/latest/ml-features.html#quantilediscretizer) takes a column with continuous features and outputs a column with binned categorical features. The number of bins is set by the numBuckets parameter. It is possible that the number of buckets used will be smaller than this value, for example, if there are too few distinct values of the input to create enough distinct quantiles."
   ]
  },
  {
   "cell_type": "code",
   "execution_count": 48,
   "metadata": {},
   "outputs": [
    {
     "name": "stdout",
     "output_type": "stream",
     "text": [
      "+---+-------+--------------------+--------------------+------+-----+--------------+--------------+--------+------------------+--------------------+--------------------+--------------+\n",
      "|_c0|country|         description|         designation|points|price|      province|      region_1|region_2|           variety|              winery|          price_norm|price_category|\n",
      "+---+-------+--------------------+--------------------+------+-----+--------------+--------------+--------+------------------+--------------------+--------------------+--------------+\n",
      "|  0|     US|This tremendous 1...|   Martha's Vineyard|    96|235.0|    California|   Napa Valley|    Napa|Cabernet Sauvignon|               Heitz| 0.07008495145631068|           2.0|\n",
      "|  1|  Spain|Ripe aromas of fi...|Carodorum Selecci...|    96|110.0|Northern Spain|          Toro|    NULL|     Tinta de Toro|Bodega Carmen Rod...| 0.03216019417475728|           2.0|\n",
      "|  2|     US|Mac Watson honors...|Special Selected ...|    96| 90.0|    California|Knights Valley|  Sonoma|   Sauvignon Blanc|            Macauley|0.026092233009708737|           2.0|\n",
      "+---+-------+--------------------+--------------------+------+-----+--------------+--------------+--------+------------------+--------------------+--------------------+--------------+\n",
      "only showing top 3 rows\n",
      "\n"
     ]
    },
    {
     "name": "stderr",
     "output_type": "stream",
     "text": [
      "24/01/28 15:19:59 WARN CSVHeaderChecker: CSV header does not conform to the schema.\n",
      " Header: , country, description, designation, points, price, province, region_1, region_2, variety, winery\n",
      " Schema: _c0, country, description, designation, points, price, province, region_1, region_2, variety, winery\n",
      "Expected: _c0 but found: \n",
      "CSV file: file:///Users/saiomkarkandukuri/Desktop/github/data-ml-ai/projects/pyspark/wine-reviews-appliedml/data/winemag-data_first150k.csv\n"
     ]
    }
   ],
   "source": [
    "from pyspark.ml.feature import QuantileDiscretizer\n",
    "\n",
    "#Creating three buckets as High, Medium and Low\n",
    "\n",
    "discretizer = QuantileDiscretizer(numBuckets=3, inputCol=\"price\", outputCol=\"price_category\")\n",
    "\n",
    "df = discretizer.fit(df).transform(df)\n",
    "\n",
    "df.show(3)"
   ]
  },
  {
   "cell_type": "code",
   "execution_count": 51,
   "metadata": {},
   "outputs": [
    {
     "data": {
      "text/html": [
       "<div>\n",
       "<style scoped>\n",
       "    .dataframe tbody tr th:only-of-type {\n",
       "        vertical-align: middle;\n",
       "    }\n",
       "\n",
       "    .dataframe tbody tr th {\n",
       "        vertical-align: top;\n",
       "    }\n",
       "\n",
       "    .dataframe thead th {\n",
       "        text-align: right;\n",
       "    }\n",
       "</style>\n",
       "<table border=\"1\" class=\"dataframe\">\n",
       "  <thead>\n",
       "    <tr style=\"text-align: right;\">\n",
       "      <th></th>\n",
       "      <th>price_category</th>\n",
       "      <th>count</th>\n",
       "    </tr>\n",
       "  </thead>\n",
       "  <tbody>\n",
       "    <tr>\n",
       "      <th>0</th>\n",
       "      <td>0.0</td>\n",
       "      <td>90335</td>\n",
       "    </tr>\n",
       "    <tr>\n",
       "      <th>1</th>\n",
       "      <td>1.0</td>\n",
       "      <td>79988</td>\n",
       "    </tr>\n",
       "    <tr>\n",
       "      <th>2</th>\n",
       "      <td>2.0</td>\n",
       "      <td>110510</td>\n",
       "    </tr>\n",
       "  </tbody>\n",
       "</table>\n",
       "</div>"
      ],
      "text/plain": [
       "   price_category   count\n",
       "0             0.0   90335\n",
       "1             1.0   79988\n",
       "2             2.0  110510"
      ]
     },
     "execution_count": 51,
     "metadata": {},
     "output_type": "execute_result"
    }
   ],
   "source": [
    "#Showing the class distribution of price_category\n",
    "\n",
    "df.groupby(\"price_category\").count().toPandas()"
   ]
  },
  {
   "cell_type": "code",
   "execution_count": 52,
   "metadata": {},
   "outputs": [
    {
     "name": "stdout",
     "output_type": "stream",
     "text": [
      "+---+-------+--------------------+--------------------+------+-----+--------------+--------------+--------+------------------+--------------------+--------------------+--------------+---------------+\n",
      "|_c0|country|         description|         designation|points|price|      province|      region_1|region_2|           variety|              winery|          price_norm|price_category|points_category|\n",
      "+---+-------+--------------------+--------------------+------+-----+--------------+--------------+--------+------------------+--------------------+--------------------+--------------+---------------+\n",
      "|  0|     US|This tremendous 1...|   Martha's Vineyard|    96|235.0|    California|   Napa Valley|    Napa|Cabernet Sauvignon|               Heitz| 0.07008495145631068|           2.0|            2.0|\n",
      "|  1|  Spain|Ripe aromas of fi...|Carodorum Selecci...|    96|110.0|Northern Spain|          Toro|    NULL|     Tinta de Toro|Bodega Carmen Rod...| 0.03216019417475728|           2.0|            2.0|\n",
      "|  2|     US|Mac Watson honors...|Special Selected ...|    96| 90.0|    California|Knights Valley|  Sonoma|   Sauvignon Blanc|            Macauley|0.026092233009708737|           2.0|            2.0|\n",
      "+---+-------+--------------------+--------------------+------+-----+--------------+--------------+--------+------------------+--------------------+--------------------+--------------+---------------+\n",
      "only showing top 3 rows\n",
      "\n"
     ]
    },
    {
     "name": "stderr",
     "output_type": "stream",
     "text": [
      "24/01/28 15:21:42 WARN CSVHeaderChecker: CSV header does not conform to the schema.\n",
      " Header: , country, description, designation, points, price, province, region_1, region_2, variety, winery\n",
      " Schema: _c0, country, description, designation, points, price, province, region_1, region_2, variety, winery\n",
      "Expected: _c0 but found: \n",
      "CSV file: file:///Users/saiomkarkandukuri/Desktop/github/data-ml-ai/projects/pyspark/wine-reviews-appliedml/data/winemag-data_first150k.csv\n"
     ]
    }
   ],
   "source": [
    "# Lets apply the QuantileDiscretizer() for points column as well\n",
    "\n",
    "discretizer = QuantileDiscretizer(numBuckets=3, inputCol=\"points\", outputCol=\"points_category\")\n",
    "\n",
    "df = discretizer.fit(df).transform(df)\n",
    "\n",
    "df.show(3)"
   ]
  },
  {
   "cell_type": "markdown",
   "metadata": {},
   "source": [
    "### One Hot Encoding"
   ]
  },
  {
   "cell_type": "code",
   "execution_count": 53,
   "metadata": {},
   "outputs": [],
   "source": [
    "from pyspark.ml.feature import VectorAssembler\n",
    "\n",
    "from pyspark.ml import Pipeline\n",
    "from pyspark.ml.feature import StringIndexer, OneHotEncoder\n",
    "\n",
    "#Converting relevant categorical into one hot encoded\n",
    "indexer1 = StringIndexer(inputCol=\"country\", outputCol=\"countryIdx\").setHandleInvalid(\"skip\")\n",
    "indexer2 = StringIndexer(inputCol=\"province\", outputCol=\"provinceIdx\").setHandleInvalid(\"skip\")\n",
    "indexer3 = StringIndexer(inputCol=\"variety\", outputCol=\"varietyIdx\").setHandleInvalid(\"skip\")\n",
    "indexer4 = StringIndexer(inputCol=\"winery\", outputCol=\"wineryIdx\").setHandleInvalid(\"skip\")\n",
    "\n"
   ]
  },
  {
   "cell_type": "code",
   "execution_count": 54,
   "metadata": {},
   "outputs": [],
   "source": [
    "#Gathering all indexers as inputs to the One Hot Encoder\n",
    "inputs = [indexer1.getOutputCol(), indexer2.getOutputCol(), \\\n",
    "          indexer3.getOutputCol(), indexer4.getOutputCol()]\n",
    "\n"
   ]
  },
  {
   "cell_type": "code",
   "execution_count": 55,
   "metadata": {},
   "outputs": [],
   "source": [
    "#Creating the one hot encoder\n",
    "encoder = OneHotEncoder(inputCols=inputs,  \\\n",
    "                                 outputCols=[\"countryVec\", \"provinceVec\", \\\n",
    "                                             \"varietyVec\", \"wineryVec\"])\n",
    "\n",
    "#Runing it through a pipeline\n",
    "pipeline = Pipeline(stages=[indexer1, indexer2, indexer3, indexer4, encoder])\n",
    "encodedData = pipeline.fit(df).transform(df)\n",
    "\n"
   ]
  },
  {
   "cell_type": "code",
   "execution_count": 56,
   "metadata": {},
   "outputs": [
    {
     "name": "stdout",
     "output_type": "stream",
     "text": [
      "+---+-------+--------------------+--------------------+------+-----+--------------+-----------------+-----------------+------------------+--------------------+--------------------+--------------+---------------+----------+-----------+----------+---------+--------------+----------------+-----------------+--------------------+\n",
      "|_c0|country|         description|         designation|points|price|      province|         region_1|         region_2|           variety|              winery|          price_norm|price_category|points_category|countryIdx|provinceIdx|varietyIdx|wineryIdx|    countryVec|     provinceVec|       varietyVec|           wineryVec|\n",
      "+---+-------+--------------------+--------------------+------+-----+--------------+-----------------+-----------------+------------------+--------------------+--------------------+--------------+---------------+----------+-----------+----------+---------+--------------+----------------+-----------------+--------------------+\n",
      "|  0|     US|This tremendous 1...|   Martha's Vineyard|    96|235.0|    California|      Napa Valley|             Napa|Cabernet Sauvignon|               Heitz| 0.07008495145631068|           2.0|            2.0|       0.0|        0.0|       2.0|   9098.0|(49,[0],[1.0])| (489,[0],[1.0])|  (749,[2],[1.0])|(19174,[9098],[1.0])|\n",
      "|  1|  Spain|Ripe aromas of fi...|Carodorum Selecci...|    96|110.0|Northern Spain|             Toro|             NULL|     Tinta de Toro|Bodega Carmen Rod...| 0.03216019417475728|           2.0|            2.0|       3.0|        5.0|      61.0|   6757.0|(49,[3],[1.0])| (489,[5],[1.0])| (749,[61],[1.0])|(19174,[6757],[1.0])|\n",
      "|  2|     US|Mac Watson honors...|Special Selected ...|    96| 90.0|    California|   Knights Valley|           Sonoma|   Sauvignon Blanc|            Macauley|0.026092233009708737|           2.0|            2.0|       0.0|        0.0|       5.0|   5392.0|(49,[0],[1.0])| (489,[0],[1.0])|  (749,[5],[1.0])|(19174,[5392],[1.0])|\n",
      "|  3|     US|This spent 20 mon...|             Reserve|    96| 65.0|        Oregon|Willamette Valley|Willamette Valley|        Pinot Noir|               Ponzi|0.018507281553398057|           2.0|            2.0|       0.0|        4.0|       0.0|    192.0|(49,[0],[1.0])| (489,[4],[1.0])|  (749,[0],[1.0])| (19174,[192],[1.0])|\n",
      "|  4| France|This is the top w...|          La Brûlade|    95| 66.0|      Provence|           Bandol|             NULL|Provence red blend|Domaine de la Bégude|0.018810679611650484|           2.0|            2.0|       1.0|       23.0|     145.0|   4483.0|(49,[1],[1.0])|(489,[23],[1.0])|(749,[145],[1.0])|(19174,[4483],[1.0])|\n",
      "+---+-------+--------------------+--------------------+------+-----+--------------+-----------------+-----------------+------------------+--------------------+--------------------+--------------+---------------+----------+-----------+----------+---------+--------------+----------------+-----------------+--------------------+\n",
      "only showing top 5 rows\n",
      "\n"
     ]
    },
    {
     "name": "stderr",
     "output_type": "stream",
     "text": [
      "24/01/28 15:24:18 WARN CSVHeaderChecker: CSV header does not conform to the schema.\n",
      " Header: , country, description, designation, points, price, province, region_1, region_2, variety, winery\n",
      " Schema: _c0, country, description, designation, points, price, province, region_1, region_2, variety, winery\n",
      "Expected: _c0 but found: \n",
      "CSV file: file:///Users/saiomkarkandukuri/Desktop/github/data-ml-ai/projects/pyspark/wine-reviews-appliedml/data/winemag-data_first150k.csv\n"
     ]
    }
   ],
   "source": [
    "#We dropped all NAs, so we don't need to impute missing values\n",
    "#pipeline = pipeline.na.fill(0) \n",
    "\n",
    "encodedData.show(5)"
   ]
  },
  {
   "cell_type": "code",
   "execution_count": 57,
   "metadata": {},
   "outputs": [],
   "source": [
    "#Gathering feature vector and identifying features\n",
    "\n",
    "assembler = VectorAssembler(inputCols = ['countryVec', 'provinceVec', \\\n",
    "                                         'varietyVec', 'wineryVec', 'points'], \\\n",
    "                            outputCol = 'features')\n",
    "\n",
    "encodedData = assembler.transform(encodedData)"
   ]
  },
  {
   "cell_type": "code",
   "execution_count": 58,
   "metadata": {},
   "outputs": [
    {
     "name": "stdout",
     "output_type": "stream",
     "text": [
      "+---+-------+--------------------+--------------------+------+-----+--------------+-----------+--------+------------------+--------------------+-------------------+--------------+---------------+----------+-----------+----------+---------+--------------+---------------+----------------+--------------------+--------------------+\n",
      "|_c0|country|         description|         designation|points|price|      province|   region_1|region_2|           variety|              winery|         price_norm|price_category|points_category|countryIdx|provinceIdx|varietyIdx|wineryIdx|    countryVec|    provinceVec|      varietyVec|           wineryVec|            features|\n",
      "+---+-------+--------------------+--------------------+------+-----+--------------+-----------+--------+------------------+--------------------+-------------------+--------------+---------------+----------+-----------+----------+---------+--------------+---------------+----------------+--------------------+--------------------+\n",
      "|  0|     US|This tremendous 1...|   Martha's Vineyard|    96|235.0|    California|Napa Valley|    Napa|Cabernet Sauvignon|               Heitz|0.07008495145631068|           2.0|            2.0|       0.0|        0.0|       2.0|   9098.0|(49,[0],[1.0])|(489,[0],[1.0])| (749,[2],[1.0])|(19174,[9098],[1.0])|(20462,[0,49,540,...|\n",
      "|  1|  Spain|Ripe aromas of fi...|Carodorum Selecci...|    96|110.0|Northern Spain|       Toro|    NULL|     Tinta de Toro|Bodega Carmen Rod...|0.03216019417475728|           2.0|            2.0|       3.0|        5.0|      61.0|   6757.0|(49,[3],[1.0])|(489,[5],[1.0])|(749,[61],[1.0])|(19174,[6757],[1.0])|(20462,[3,54,599,...|\n",
      "+---+-------+--------------------+--------------------+------+-----+--------------+-----------+--------+------------------+--------------------+-------------------+--------------+---------------+----------+-----------+----------+---------+--------------+---------------+----------------+--------------------+--------------------+\n",
      "only showing top 2 rows\n",
      "\n"
     ]
    },
    {
     "name": "stderr",
     "output_type": "stream",
     "text": [
      "24/01/28 15:25:03 WARN CSVHeaderChecker: CSV header does not conform to the schema.\n",
      " Header: , country, description, designation, points, price, province, region_1, region_2, variety, winery\n",
      " Schema: _c0, country, description, designation, points, price, province, region_1, region_2, variety, winery\n",
      "Expected: _c0 but found: \n",
      "CSV file: file:///Users/saiomkarkandukuri/Desktop/github/data-ml-ai/projects/pyspark/wine-reviews-appliedml/data/winemag-data_first150k.csv\n"
     ]
    }
   ],
   "source": [
    "encodedData.show(2)"
   ]
  },
  {
   "cell_type": "code",
   "execution_count": 59,
   "metadata": {},
   "outputs": [
    {
     "name": "stderr",
     "output_type": "stream",
     "text": [
      "24/01/28 15:26:06 WARN DAGScheduler: Broadcasting large task binary with size 3.1 MiB\n"
     ]
    },
    {
     "name": "stdout",
     "output_type": "stream",
     "text": [
      "+-------+--------------------+-----------+------+-----+--------+--------+--------+-------+------+--------------------+--------------+---------------+----------+-----------+----------+---------+---------------+-----------------+-----------------+--------------------+--------------------+\n",
      "|country|         description|designation|points|price|province|region_1|region_2|variety|winery|          price_norm|price_category|points_category|countryIdx|provinceIdx|varietyIdx|wineryIdx|     countryVec|      provinceVec|       varietyVec|           wineryVec|            features|\n",
      "+-------+--------------------+-----------+------+-----+--------+--------+--------+-------+------+--------------------+--------------+---------------+----------+-----------+----------+---------+---------------+-----------------+-----------------+--------------------+--------------------+\n",
      "|Albania|This garnet-color...|       NULL|    88| 20.0| Mirditë| Unknown|    NULL|Kallmet|Arbëri|0.004854368932038...|           1.0|            1.0|      44.0|      438.0|     613.0|  13981.0|(49,[44],[1.0])|(489,[438],[1.0])|(749,[613],[1.0])|(19174,[13981],[1...|(20462,[44,487,11...|\n",
      "+-------+--------------------+-----------+------+-----+--------+--------+--------+-------+------+--------------------+--------------+---------------+----------+-----------+----------+---------+---------------+-----------------+-----------------+--------------------+--------------------+\n",
      "only showing top 1 row\n",
      "\n"
     ]
    },
    {
     "name": "stderr",
     "output_type": "stream",
     "text": [
      "                                                                                \r"
     ]
    }
   ],
   "source": [
    "#Split data into train and test\n",
    "\n",
    "encodedData = encodedData.drop(\"_c0\")\n",
    "train_df, test_df = encodedData.randomSplit([.8,.2],seed=1234)\n",
    "train_df.show(1)"
   ]
  },
  {
   "cell_type": "markdown",
   "metadata": {},
   "source": [
    "##  Regression\n",
    "\n",
    "Let us try to predict the price given features such as country, variety, region, etc.\n",
    "\n",
    "### Linear Regression"
   ]
  },
  {
   "cell_type": "code",
   "execution_count": 63,
   "metadata": {},
   "outputs": [
    {
     "name": "stderr",
     "output_type": "stream",
     "text": [
      "24/01/28 15:28:49 WARN DAGScheduler: Broadcasting large task binary with size 3.1 MiB\n",
      "24/01/28 15:28:51 WARN DAGScheduler: Broadcasting large task binary with size 3.1 MiB\n",
      "24/01/28 15:28:52 WARN InstanceBuilder: Failed to load implementation from:dev.ludovic.netlib.blas.JNIBLAS\n",
      "24/01/28 15:28:52 WARN DAGScheduler: Broadcasting large task binary with size 3.1 MiB\n",
      "24/01/28 15:28:54 WARN DAGScheduler: Broadcasting large task binary with size 3.1 MiB\n",
      "24/01/28 15:28:55 WARN DAGScheduler: Broadcasting large task binary with size 3.1 MiB\n",
      "24/01/28 15:28:56 WARN DAGScheduler: Broadcasting large task binary with size 3.1 MiB\n",
      "24/01/28 15:28:57 WARN DAGScheduler: Broadcasting large task binary with size 3.1 MiB\n",
      "24/01/28 15:28:57 WARN DAGScheduler: Broadcasting large task binary with size 3.1 MiB\n",
      "24/01/28 15:28:58 WARN DAGScheduler: Broadcasting large task binary with size 3.1 MiB\n",
      "24/01/28 15:28:58 WARN DAGScheduler: Broadcasting large task binary with size 3.1 MiB\n",
      "24/01/28 15:28:58 WARN DAGScheduler: Broadcasting large task binary with size 3.1 MiB\n",
      "24/01/28 15:28:59 WARN DAGScheduler: Broadcasting large task binary with size 3.1 MiB\n",
      "24/01/28 15:28:59 WARN DAGScheduler: Broadcasting large task binary with size 3.1 MiB\n",
      "24/01/28 15:28:59 WARN DAGScheduler: Broadcasting large task binary with size 3.1 MiB\n",
      "24/01/28 15:28:59 WARN DAGScheduler: Broadcasting large task binary with size 3.1 MiB\n",
      "24/01/28 15:28:59 WARN DAGScheduler: Broadcasting large task binary with size 3.1 MiB\n",
      "24/01/28 15:28:59 WARN DAGScheduler: Broadcasting large task binary with size 3.1 MiB\n",
      "24/01/28 15:29:00 WARN DAGScheduler: Broadcasting large task binary with size 3.1 MiB\n",
      "24/01/28 15:29:00 WARN DAGScheduler: Broadcasting large task binary with size 3.1 MiB\n",
      "24/01/28 15:29:00 WARN DAGScheduler: Broadcasting large task binary with size 3.1 MiB\n",
      "24/01/28 15:29:00 WARN DAGScheduler: Broadcasting large task binary with size 3.1 MiB\n",
      "24/01/28 15:29:01 WARN DAGScheduler: Broadcasting large task binary with size 3.1 MiB\n",
      "24/01/28 15:29:01 WARN DAGScheduler: Broadcasting large task binary with size 3.1 MiB\n",
      "24/01/28 15:29:01 WARN DAGScheduler: Broadcasting large task binary with size 3.1 MiB\n",
      "24/01/28 15:29:01 WARN DAGScheduler: Broadcasting large task binary with size 3.1 MiB\n",
      "24/01/28 15:29:01 WARN DAGScheduler: Broadcasting large task binary with size 3.1 MiB\n",
      "24/01/28 15:29:02 WARN DAGScheduler: Broadcasting large task binary with size 3.1 MiB\n",
      "24/01/28 15:29:04 WARN DAGScheduler: Broadcasting large task binary with size 3.1 MiB\n",
      "                                                                                \r"
     ]
    }
   ],
   "source": [
    "\n",
    "## Using Elastic net to address the limitations in LASSO regularizationm\n",
    "\n",
    "\n",
    "from pyspark.ml.regression import LinearRegression\n",
    "\n",
    "#Elastic Net\n",
    "lr = LinearRegression(featuresCol = 'features', labelCol='price', regParam=0.3, elasticNetParam=0.8, maxIter=10)\n",
    "lrm = lr.fit(train_df)\n",
    "\n"
   ]
  },
  {
   "cell_type": "code",
   "execution_count": 64,
   "metadata": {},
   "outputs": [
    {
     "name": "stdout",
     "output_type": "stream",
     "text": [
      "Coefficients: (20462,[0,2,4,5,6,8,10,11,17,49,50,51,52,54,55,56,58,65,66,70,71,74,77,80,84,98,103,106,132,143,154,176,313,335,341,459,538,539,540,541,542,543,544,545,546,548,549,551,552,553,554,557,558,559,561,562,564,565,566,567,569,570,572,574,578,579,588,589,594,600,602,621,625,634,636,639,653,669,672,695,721,1089,1228,1265,1276,1289,1294,1295,1296,1298,1300,1301,1304,1310,1313,1318,1320,1321,1331,1333,1342,1353,1365,1370,1387,1389,1396,1397,1402,1405,1406,1407,1412,1413,1418,1423,1425,1426,1430,1431,1442,1450,1451,1452,1467,1470,1487,1501,1517,1548,1552,1557,1558,1567,1571,1581,1586,1597,1605,1606,1608,1609,1613,1616,1627,1634,1636,1640,1642,1670,1673,1683,1687,1691,1693,1702,1718,1724,1732,1734,1735,1739,1740,1753,1758,1778,1779,1781,1791,1815,1842,1850,1861,1873,1881,1892,1945,1948,1954,1958,1960,1962,1967,1970,1973,1980,1981,1985,1998,2000,2005,2012,2016,2025,2061,2062,2073,2079,2084,2091,2094,2099,2101,2104,2107,2112,2117,2128,2141,2149,2157,2172,2184,2186,2213,2218,2223,2235,2251,2264,2272,2305,2313,2323,2328,2331,2342,2346,2365,2375,2377,2379,2386,2399,2407,2419,2451,2453,2455,2462,2467,2473,2474,2476,2486,2498,2499,2509,2524,2541,2543,2552,2555,2562,2576,2583,2593,2656,2657,2680,2685,2729,2745,2757,2770,2778,2779,2780,2796,2801,2802,2803,2810,2825,2841,2846,2857,2867,2871,2878,2884,2886,2908,2944,2994,3010,3029,3032,3035,3039,3054,3088,3089,3115,3143,3146,3185,3189,3208,3214,3215,3238,3242,3255,3258,3260,3261,3264,3304,3308,3342,3356,3363,3379,3403,3407,3450,3482,3483,3489,3491,3509,3514,3526,3541,3566,3583,3644,3728,3755,3760,3766,3777,3783,3828,3889,3896,3897,3904,3907,3920,3936,3998,4005,4013,4041,4047,4052,4056,4067,4068,4097,4111,4113,4126,4152,4193,4194,4242,4271,4304,4339,4343,4364,4379,4380,4430,4448,4493,4495,4530,4531,4538,4540,4647,4649,4663,4667,4673,4676,4686,4699,4744,4756,4765,4786,4839,4840,4843,4878,4919,5021,5022,5104,5155,5158,5159,5215,5224,5296,5312,5339,5394,5452,5495,5518,5525,5579,5592,5625,5643,5655,5665,5668,5722,5738,5753,5787,5851,5917,5934,5955,6017,6041,6050,6058,6080,6097,6259,6301,6311,6410,6421,6455,6476,6513,6516,6524,6547,6594,6597,6635,6641,6756,6763,6794,6814,6869,6888,6928,6947,6959,7064,7083,7109,7140,7213,7215,7275,7282,7295,7367,7420,7427,7463,7474,7534,7540,7545,7560,7579,7591,7596,7642,7671,7721,7723,7728,7731,7738,7786,7835,7881,7888,7984,8035,8193,8360,8362,8381,8555,8556,8582,8755,8824,8869,8967,8971,9025,9140,9238,9256,9403,9404,9719,9727,9733,9828,9952,10259,10295,10366,10385,10394,10487,10545,10650,10669,10743,10853,10870,11068,11195,11232,11238,11390,11407,11419,11462,11544,11644,11917,11929,11949,12076,12082,12298,12349,12578,12760,12814,12831,12834,13086,13337,13393,13428,13576,13832,13869,13999,14104,14181,14184,14303,14339,14502,14517,14519,14534,14672,14835,14855,14872,14958,15087,15089,15144,15264,15430,15837,15946,15981,16229,16418,16424,16629,16896,16993,17003,17245,17278,17319,17325,17329,17586,17886,18974,18981,19217,19741,19823,20360,20461],[0.2605442725301016,0.8061720336211572,-1.2493221584232286,-2.9592750908029215,-0.013737204101398837,-0.33951888138801534,1.714954029747765,-2.329330830923754,-3.948049398484436,4.043431063059152,-2.9139855741127434,4.7309338871484465,-3.1373260442295066,1.8762520353522705,13.854327943785542,-0.41540615624680777,0.5784471604501207,-2.7508052575313258,27.9885817531177,-1.4340706575216118,2.856274143796146,-0.2143203154521646,-0.5898440440068684,8.614220567629188,3.0189304659988756,-2.0480486601269825,9.788625689886711,-0.18664812619843962,0.2091445856043886,0.9180418063845913,10.535574932722458,2.121768190410545,9.216085411517543,6.150920155405573,0.005583381161457884,28.138585015003784,6.184038634252396,-1.471159945654598,10.315908023897986,2.5065696379892146,7.741366684749776,-4.489563193538219,-2.9999924094821817,2.7657954150752255,0.7079824201418665,-2.858406528956636,2.903628718782471,-1.1555215346549002,15.250226347937199,-2.056074144987559,0.5703381182029108,-3.6872595637218395,4.016990822918012,1.5335071281115757,-2.9255847789564173,-2.8746536930470947,8.021691339895144,-1.2132391631667772,-1.435306284420828,6.3990612051153954,-0.25436214167764715,6.505993073526364,-1.1570203680735964,-1.9083043424720425,-2.29809118993292,-1.845200212653398,-1.7182183252191912,1.085267938327194,2.2550323665077845,9.258729657740831,-2.5786548866858237,4.823727366148886,-0.752403338058466,-0.629268680197597,7.671283307125216,5.8373955305346215,6.387160752513325,1.1568972600014844,1.640963899685104,1.676766433698609,5.625202544890702,4.515314994256415,5.904739233574997,332.87956987171253,64.04461894408941,-3.3117717657380354,-1.1374341196206843,52.27067067179653,-2.9346609022634156,-0.47623224137559855,46.03288358887962,20.699678520436226,-7.392273440655676,12.194046585135329,23.36357829528949,-1.1005322315959154,-0.03691426673666445,31.96541923322504,-0.43106482952229325,20.252168552508596,-2.1224497522308314,-1.0075503171020195,21.00962196673246,11.174759880742577,-4.863613679684262,47.42351342324983,1.0288922805320138,-1.7935116231129327,-1.7261120046347922,7.338445525398309,11.738682143206113,-3.8603259098122544,-0.17099083028867054,7.505318159813871,1.249655236716716,13.489617147463118,-1.819273672384139,-0.5197403739884142,1.283789572229016,20.37830046614998,29.89994871305801,54.92007318273301,13.133928776465895,7.829474931561221,-2.019415022035605,8.67727929735507,-4.453442915036667,20.63174423890924,2.4811086218872025,25.090020690485098,-0.39361507576484966,1.6678585892463011,46.91537343336222,4.041511841461335,31.631407217150606,3.5635525335644167,16.345641259603525,53.57553084662184,1.74893661895803,15.329658838819517,5.164330170517536,-0.5566499410192861,0.32035700591475236,6.605102332647501,12.543502387033602,0.09137607485339029,7.800144711433135,6.35045974260712,35.678402143496534,0.9035518709734989,101.36273088410405,25.86286071271714,24.70264450211044,-5.769643382211725,-1.4882809296939543,15.367554189558618,13.882214151572201,0.7599738592456866,27.48193984934551,2.090635721996105,21.08772329568115,19.63097311396945,13.917563306311957,36.82723725876497,13.358852197167812,11.874588192698905,0.22680975914605606,6.884750650295002,8.187788838841993,6.778112788269102,87.06296852932772,41.44248642673316,21.304689780153875,7.0328027468169525,34.40862400074205,7.622690862736272,11.65213466805665,8.820926553981485,1.0682450535603298,4.416635042715387,12.642227124207412,1.286814381668951,12.386763975981026,144.3457812151726,13.138091911274527,19.884047140333944,-5.229877783778399,45.30764569408872,3.4820567270278966,77.89740118291928,6.771896970875714,16.560378658143364,13.910090633323934,1.2125543861216834,46.66244364895914,5.412195651005771,7.842718172191869,63.40292518240908,7.589317551882088,6.24940994646474,23.669876226694228,79.06711247449853,6.422373650986529,6.529531622264575,9.860252406605579,21.44234748169245,1.383334343780263,7.363432144474,7.613795967903721,10.646748812561437,11.261505296936868,1.6442657083836814,18.976948649644083,58.59592113309877,27.70096608988128,42.976402049542855,151.39418075672688,4.551857236478371,43.16785178963543,33.78151207264822,0.7433367022963783,5.478607338111593,7.9511268602338765,3.417474501684797,103.8483357043606,21.30495339423417,6.927941116766424,8.671612394171282,29.78360265467479,7.060100610966509,0.876437796480729,12.605497430917708,2.581229491250934,0.9118111715039708,15.122897200599645,0.2511333036764556,25.54573218097493,16.19898533389258,9.7190626303989,-2.191822841904208,43.430210738173,1.1247971747363872,5.6670764215786384,19.406589539842695,13.962952567234115,6.643376103740664,0.06636271626221356,25.19545244318109,3.5636688654209645,0.8630911585800117,23.519279138358467,2.818063467146283,11.131306697810318,233.2407206283781,29.396441538318754,1.7630087727031685,26.835912575046667,16.87509679664167,1.3226365738687376,55.07855457778564,6.926749565764121,3.7888131728997814,17.320777166175926,21.57772206915452,8.92625289409879,15.42021307007175,9.906372571487532,16.196182321649086,37.822868978678784,32.226107785524775,9.370611782639385,21.15239042517215,20.226219987253184,19.60498957375819,159.69690772581168,-5.492989857140531,117.74077499625346,2.1819122365439303,8.416729489403766,14.44373714849872,4.96203151066894,23.128184796058473,90.92116081594357,9.341084654731102,0.8937136986015525,3.2078567868688967,15.715524882229532,0.31849912470519626,29.99341530169155,9.436807892374892,11.463961839657383,14.214961202724144,82.39246298283382,40.107285188910154,-2.5054283753540822,0.6451357408650342,38.44147952419818,162.19885543887034,14.226675096286487,30.681592697374395,27.04845470809277,4.5743220285195525,11.50987215901061,127.65588035766325,9.401166590184497,3.4774071541412863,99.63588516176993,7.496043653136862,5.260829467376456,36.63304890430409,23.026572726761525,9.877594671708009,18.34913593204129,37.595446524575934,31.273660399689373,8.705879315006168,1.236446219753811,3.3500873156265367,16.97273407224176,12.23797973041665,139.83532090131217,231.27751938155,0.46753010010374235,1.0203610660723428,3.73150433134666,26.022476916613762,10.754397624042642,16.712726954905982,6.744455063963004,7.262541945126378,8.15661290500518,7.2289637427225335,20.10345424267649,10.38173385070285,22.40935016208972,8.555016561085537,2.5528572583073554,-3.173845922743501,0.8503884346597698,11.89820479490661,4.702729809846825,1.861592653868986,6.577962744571754,22.836826443230844,73.32102441433499,4.517761272720231,1.7702716644730156,3.225474701234826,18.26698034227819,12.95983582587932,38.419434541010546,28.556774875902953,5.773164573221927,9.748682535201626,7.314189962645076,2.4542639302243052,3.4309540554687943,47.684393712789614,35.200131604006025,1.3119466604578938,7.173596395810872,13.872709837165234,7.005409971996019,21.201871581167335,38.50804633832005,3.461506571771145,1.3157304378939276,9.212757633539441,33.93571638413771,38.99725475884024,28.263205336645523,10.700475820766524,35.57980916413556,40.38415705856771,26.927278425815647,24.570727143565616,5.014951887860245,32.953883041488055,3.9163656169291388,5.2474838014298015,32.52024972903733,34.960150707672334,14.96882372625638,69.96429377952516,5.304677061330775,25.201524997084608,4.70760271343439,5.6291661187977065,44.01304313714818,97.50241611661558,8.423317607399072,4.045948488608534,41.16911178963402,4.3510138163571614,6.7991570024644306,16.18103771919894,2.0398930916919498,15.777426310543758,40.61144023267801,30.05728622376212,10.090594514876678,16.13219043513557,64.53267941625182,22.65546755561227,2.698512062793068,118.78299507691017,1.19018927080521,5.849236928728342,3.4046141082643984,1.8095540093425453,12.06756564779119,44.239904544962165,1.7926880034084807,9.062863027882063,3.0099124506715222,254.5747319362066,202.00326510965715,80.54985500229435,1.367090034626168,248.19404980045553,3.9438180035898363,8.437934105121187,32.00020275530693,35.01045163431168,75.32835464390085,21.210397980133838,-0.8694849701544728,3.7005771986023563,1.5016272886522846,3.8911326933123207,16.292901619034843,19.367689757127142,39.74070546992865,7.24568852094356,222.4428300384168,4.499078073900465,3.938114960282528,21.32820554818859,20.46111722377,184.31205654484128,0.7110753959243097,17.856436648589785,220.20783979097783,142.79839327431705,5.068302981926102,20.853769113681633,23.863504482940964,16.207695287492868,10.924173807119628,55.74815677931732,4.795557960220671,40.536143320784156,11.073057041779112,24.960439104258004,227.91884108172258,92.25981004205104,14.242323030189901,204.37696777681512,35.38722050068171,23.234658180876444,372.0865815747514,26.75945496200579,0.2858051530811992,70.85572696832787,65.61539246633738,22.307078411249016,85.92692441427822,25.887865195935785,25.25477742024847,27.08693790978048,247.27523372850743,8.928846621689852,11.95973316086506,97.98974922844845,35.112595718053,4.703295369104826,6.573508625386025,37.41646274016731,5.823035607359764,12.482850601284694,29.45494809995931,26.67987404821606,56.928419573825224,3.609435315124763,38.44627691401854,14.618609915877254,434.9802459408057,1.2923646893698415,5.587383457347901,28.554546875619188,48.38427484553649,0.9052373496432843,1.9048894248147306,6.117777029235565,7.24463161799549,16.33251932866402,2.2012433830454468,7.3627955884014575,40.59511134409521,5.4816509813591585,19.225826580773536,15.75253652938792,11.028925196858445,53.206436994492634,12.407937663729486,32.36205874533647,1.3892868449248628,150.32407042351394,71.66705299031075,105.53706527651394,15.137029422970015,2.3279123575500806,4.454067943225977,153.9620331966027,4.721278232731676,26.55486638677075,6.641593066774597,4.300177790406901,25.565412349368344,45.506334291296476,124.00279364343974,1.4980342668745623,74.68959023772456,38.93296552756856,9.162394100688344,3.3226631470757684,8.696034038069559,64.7817474002028,92.08485050885058,98.31642665152926,0.5863614648510853,341.68645731117357,17.817670178718053,14.79523352309148,10.691896469224481,1.2520023923556483,108.88881093231696,42.323406301804255,26.08371416352305,203.65855185285778,453.7248856756734,29.887668266164344,145.19578257721122,5.795888731858698,8.590040999914198,73.21158261888947,41.614185587670335,21.228587100279697,51.84798145993723,22.655687075445062,2.98107773251417,35.80945360144054,23.04798196766134,28.138585015003784,43.3803353833552,64.59498320023401,4.241452453632678,4.465568043617952,131.65594619308055,45.68093108166948,94.88841657787542,13.537834494405812,24.983575866751753,160.66561388463,31.514803589423668,38.848836530412065,1.6401074798466444,10.476065310172865,57.88937577115582,180.94747035672862,133.6720462498641,235.90082553278208,36.94927787410359,51.722727242325256,20.4679812942953,32.30991695893118,1.051781235368512,10.698957268381175,33.655592145763336,6.748843955884293,145.38713920354334,346.6049868561361,225.2963417561905,76.63110450582984,11.657218068691444,82.58098979694462,189.98245380006168,23.760872601344236,12.580857294358264,64.17121880896099,87.66220456992632,49.28431541251957,71.06056406490539,3.849847598146671])\n",
      "Intercept: -310.7921840493271\n",
      "RMSE: 29.027125\n",
      "r2: 0.376133\n"
     ]
    }
   ],
   "source": [
    "print(\"Coefficients: \" + str(lrm.coefficients))\n",
    "print(\"Intercept: \" + str(lrm.intercept))\n",
    "\n",
    "print(\"RMSE: %f\" % lrm.summary.rootMeanSquaredError)\n",
    "print(\"r2: %f\" % lrm.summary.r2)\n",
    "\n"
   ]
  },
  {
   "cell_type": "code",
   "execution_count": 65,
   "metadata": {},
   "outputs": [],
   "source": [
    "#make predictions\n",
    "\n",
    "predictions = lrm.transform(test_df)"
   ]
  },
  {
   "cell_type": "code",
   "execution_count": 66,
   "metadata": {},
   "outputs": [],
   "source": [
    "#RegressionEvaluator\n",
    "\n",
    "from itertools import chain\n",
    "\n",
    "attrs = sorted(\n",
    "    (attr[\"idx\"], attr[\"name\"]) for attr in (chain(*predictions\n",
    "        .schema[lrm.summary.featuresCol]\n",
    "        .metadata[\"ml_attr\"][\"attrs\"].values())))"
   ]
  },
  {
   "cell_type": "code",
   "execution_count": 67,
   "metadata": {},
   "outputs": [
    {
     "name": "stderr",
     "output_type": "stream",
     "text": [
      "24/01/28 15:30:21 WARN DAGScheduler: Broadcasting large task binary with size 3.1 MiB\n",
      "24/01/28 15:30:22 WARN DAGScheduler: Broadcasting large task binary with size 3.1 MiB\n",
      "                                                                                \r"
     ]
    },
    {
     "name": "stdout",
     "output_type": "stream",
     "text": [
      "RMSE: 30.401\n"
     ]
    },
    {
     "name": "stderr",
     "output_type": "stream",
     "text": [
      "24/01/28 15:30:22 WARN DAGScheduler: Broadcasting large task binary with size 3.1 MiB\n",
      "24/01/28 15:30:23 WARN DAGScheduler: Broadcasting large task binary with size 3.1 MiB\n",
      "                                                                                \r"
     ]
    },
    {
     "name": "stdout",
     "output_type": "stream",
     "text": [
      "MSE: 924.246\n"
     ]
    },
    {
     "name": "stderr",
     "output_type": "stream",
     "text": [
      "24/01/28 15:30:23 WARN DAGScheduler: Broadcasting large task binary with size 3.1 MiB\n",
      "24/01/28 15:30:24 WARN DAGScheduler: Broadcasting large task binary with size 3.1 MiB\n",
      "24/01/28 15:30:24 WARN DAGScheduler: Broadcasting large task binary with size 3.1 MiB\n"
     ]
    },
    {
     "name": "stdout",
     "output_type": "stream",
     "text": [
      "MAE: 13.754\n"
     ]
    },
    {
     "name": "stderr",
     "output_type": "stream",
     "text": [
      "[Stage 157:===============================>                        (9 + 7) / 16]\r"
     ]
    },
    {
     "name": "stdout",
     "output_type": "stream",
     "text": [
      "r2: 0.363\n"
     ]
    },
    {
     "name": "stderr",
     "output_type": "stream",
     "text": [
      "24/01/28 15:30:25 WARN DAGScheduler: Broadcasting large task binary with size 3.1 MiB\n",
      "                                                                                \r"
     ]
    }
   ],
   "source": [
    "from pyspark.ml.evaluation import RegressionEvaluator\n",
    "\n",
    "eval = RegressionEvaluator(labelCol=\"price\", predictionCol=\"prediction\", metricName=\"rmse\")\n",
    "\n",
    "# Root Mean Square Error\n",
    "rmse = eval.evaluate(predictions)\n",
    "print(\"RMSE: %.3f\" % rmse)\n",
    "\n",
    "# Mean Square Error\n",
    "mse = eval.evaluate(predictions, {eval.metricName: \"mse\"})\n",
    "print(\"MSE: %.3f\" % mse)\n",
    "\n",
    "# Mean Absolute Error\n",
    "mae = eval.evaluate(predictions, {eval.metricName: \"mae\"})\n",
    "print(\"MAE: %.3f\" % mae)\n",
    "\n",
    "# r2 - coefficient of determination\n",
    "r2 = eval.evaluate(predictions, {eval.metricName: \"r2\"})\n",
    "print(\"r2: %.3f\" %r2)"
   ]
  },
  {
   "cell_type": "code",
   "execution_count": 68,
   "metadata": {},
   "outputs": [
    {
     "name": "stderr",
     "output_type": "stream",
     "text": [
      "24/01/28 15:30:56 WARN DAGScheduler: Broadcasting large task binary with size 3.1 MiB\n",
      "[Stage 159:==================================>                    (10 + 6) / 16]\r"
     ]
    },
    {
     "name": "stdout",
     "output_type": "stream",
     "text": [
      "+---------+--------+-------------------+--------------------+------+-----+------------------+\n",
      "|  country|region_1|             winery|             variety|points|price|        prediction|\n",
      "+---------+--------+-------------------+--------------------+------+-----+------------------+\n",
      "|  Albania| Unknown|             Arbëri|             Kallmet|    88| 20.0|27.994404587579936|\n",
      "|Argentina|  Agrelo|Bodegas Escorihuela|Cabernet Sauvigno...|    86| 10.0|21.542332464637013|\n",
      "|Argentina|  Agrelo|       Cabra Montes|              Merlot|    85|  9.0|16.723700852933575|\n",
      "|Argentina|  Agrelo|              Cadus|  Cabernet Sauvignon|    88| 20.0|37.881169251129734|\n",
      "|Argentina|  Agrelo|           Casarena|              Malbec|    89| 40.0| 31.41510882537841|\n",
      "|Argentina|  Agrelo|       Finca Decero|  Cabernet Sauvignon|    84| 20.0|22.481778858543066|\n",
      "|Argentina|  Agrelo|       Finca Decero|  Cabernet Sauvignon|    85| 21.0| 26.33162645668972|\n",
      "|Argentina|  Agrelo|       Finca Decero|              Malbec|    90| 20.0|35.264956423525064|\n",
      "|Argentina|  Agrelo|       Finca Decero|        Petit Verdot|    86| 35.0|  22.1205983974462|\n",
      "|Argentina|  Agrelo|       Finca Decero|        Petit Verdot|    86| 35.0|  22.1205983974462|\n",
      "|Argentina|  Agrelo|       Finca Decero|        Petit Verdot|    86| 35.0|  22.1205983974462|\n",
      "|Argentina|  Agrelo|       Finca Decero|        Petit Verdot|    89| 36.0|33.670141191886216|\n",
      "|Argentina|  Agrelo|       Finca Decero|           Red Blend|    93| 50.0| 49.32106885595431|\n",
      "|Argentina|  Agrelo|       Finca Decero|           Red Blend|    93| 50.0| 49.32106885595431|\n",
      "|Argentina|  Agrelo|       Finca Decero|           Red Blend|    93| 60.0| 49.32106885595431|\n",
      "|Argentina|  Agrelo|           Lamadrid|             Bonarda|    88| 15.0|  27.5652612272317|\n",
      "|Argentina|  Agrelo|           Lamadrid|             Bonarda|    89| 20.0| 31.41510882537841|\n",
      "|Argentina|  Agrelo|           Lamadrid|      Cabernet Franc|    90| 20.0|36.798463551636644|\n",
      "|Argentina|  Agrelo|           Lamadrid|      Cabernet Franc|    90| 20.0|36.798463551636644|\n",
      "|Argentina|  Agrelo|           Lamadrid|      Cabernet Franc|    91| 24.0|  40.6483111497833|\n",
      "+---------+--------+-------------------+--------------------+------+-----+------------------+\n",
      "only showing top 20 rows\n",
      "\n"
     ]
    },
    {
     "name": "stderr",
     "output_type": "stream",
     "text": [
      "                                                                                \r"
     ]
    }
   ],
   "source": [
    "#Viewing the predictions against test\n",
    "\n",
    "predictions.select(\"country\", \"region_1\", \"winery\", \"variety\", \"points\", \"price\", \"prediction\"). \\\n",
    "orderBy([\"country\", \"region_1\", \"winery\", \"variety\", \"points\", \"price\", \"prediction\"]).show(20)"
   ]
  },
  {
   "cell_type": "markdown",
   "metadata": {},
   "source": [
    "Well, the model doesnt look good. Let's tune the model hyperparameters, and see if adding additional attributes from the dataset improves the model"
   ]
  },
  {
   "cell_type": "code",
   "execution_count": null,
   "metadata": {},
   "outputs": [],
   "source": []
  },
  {
   "cell_type": "markdown",
   "metadata": {},
   "source": [
    "## Classification\n",
    "\n",
    "Let us try to predict the price_category given features such as country, variety, region, etc.\n",
    "\n",
    "### Logistic Regression"
   ]
  },
  {
   "cell_type": "code",
   "execution_count": 69,
   "metadata": {},
   "outputs": [
    {
     "name": "stderr",
     "output_type": "stream",
     "text": [
      "24/01/28 15:33:04 WARN DAGScheduler: Broadcasting large task binary with size 3.1 MiB\n",
      "24/01/28 15:33:06 WARN DAGScheduler: Broadcasting large task binary with size 3.1 MiB\n",
      "24/01/28 15:33:06 WARN DAGScheduler: Broadcasting large task binary with size 3.1 MiB\n",
      "24/01/28 15:33:08 WARN DAGScheduler: Broadcasting large task binary with size 3.1 MiB\n",
      "24/01/28 15:33:08 WARN DAGScheduler: Broadcasting large task binary with size 3.1 MiB\n",
      "24/01/28 15:33:09 WARN DAGScheduler: Broadcasting large task binary with size 3.1 MiB\n",
      "24/01/28 15:33:09 WARN DAGScheduler: Broadcasting large task binary with size 3.1 MiB\n",
      "24/01/28 15:33:10 WARN DAGScheduler: Broadcasting large task binary with size 3.1 MiB\n",
      "24/01/28 15:33:10 WARN DAGScheduler: Broadcasting large task binary with size 3.1 MiB\n",
      "24/01/28 15:33:11 WARN DAGScheduler: Broadcasting large task binary with size 3.1 MiB\n",
      "24/01/28 15:33:11 WARN DAGScheduler: Broadcasting large task binary with size 3.1 MiB\n",
      "24/01/28 15:33:12 WARN DAGScheduler: Broadcasting large task binary with size 3.1 MiB\n",
      "24/01/28 15:33:12 WARN DAGScheduler: Broadcasting large task binary with size 3.1 MiB\n",
      "24/01/28 15:33:12 WARN DAGScheduler: Broadcasting large task binary with size 3.1 MiB\n",
      "24/01/28 15:33:12 WARN DAGScheduler: Broadcasting large task binary with size 3.1 MiB\n",
      "24/01/28 15:33:13 WARN DAGScheduler: Broadcasting large task binary with size 3.1 MiB\n",
      "24/01/28 15:33:13 WARN DAGScheduler: Broadcasting large task binary with size 3.1 MiB\n",
      "24/01/28 15:33:13 WARN DAGScheduler: Broadcasting large task binary with size 3.1 MiB\n",
      "24/01/28 15:33:13 WARN DAGScheduler: Broadcasting large task binary with size 3.1 MiB\n",
      "24/01/28 15:33:13 WARN DAGScheduler: Broadcasting large task binary with size 3.1 MiB\n",
      "24/01/28 15:33:14 WARN DAGScheduler: Broadcasting large task binary with size 3.1 MiB\n",
      "24/01/28 15:33:14 WARN DAGScheduler: Broadcasting large task binary with size 3.1 MiB\n",
      "24/01/28 15:33:14 WARN DAGScheduler: Broadcasting large task binary with size 3.1 MiB\n",
      "24/01/28 15:33:14 WARN DAGScheduler: Broadcasting large task binary with size 3.1 MiB\n"
     ]
    }
   ],
   "source": [
    "#Training a logistic regression model\n",
    "\n",
    "#%%time\n",
    "\n",
    "from pyspark.ml.classification import LogisticRegression\n",
    "\n",
    "# Setting parameters for Logistic Regression\n",
    "lgr = LogisticRegression(maxIter=10, featuresCol = 'features', labelCol='price_category')\n",
    "\n",
    "# Fitting the model to the data.\n",
    "lgrm = lgr.fit(train_df)\n",
    "\n",
    "predictions = lgrm.transform(test_df)"
   ]
  },
  {
   "cell_type": "code",
   "execution_count": 70,
   "metadata": {},
   "outputs": [
    {
     "name": "stderr",
     "output_type": "stream",
     "text": [
      "24/01/28 15:33:21 WARN DAGScheduler: Broadcasting large task binary with size 3.6 MiB\n"
     ]
    },
    {
     "name": "stdout",
     "output_type": "stream",
     "text": [
      "+---------+----------------+--------------------+------------------+------+--------------+----------+\n",
      "|  country|        region_1|              winery|           variety|points|price_category|prediction|\n",
      "+---------+----------------+--------------------+------------------+------+--------------+----------+\n",
      "|  Albania|         Unknown|              Arbëri|           Kallmet|    88|           1.0|       1.0|\n",
      "|Argentina|Calchaquí Valley|              Colomé|         Red Blend|    85|           0.0|       1.0|\n",
      "|Argentina|         Mendoza|       Bodega Norton|Cabernet Sauvignon|    84|           0.0|       0.0|\n",
      "|Argentina|         Mendoza|             Lagarde|Cabernet Sauvignon|    85|           0.0|       0.0|\n",
      "|Argentina|   Luján de Cuyo|      Bodega Goulart|         Torrontés|    84|           0.0|       0.0|\n",
      "|Argentina|         Mendoza|             Sottano|Cabernet Sauvignon|    89|           1.0|       1.0|\n",
      "|Argentina|         Mendoza|     Finca la Malena|         Torrontés|    86|           0.0|       0.0|\n",
      "|Argentina|   Luján de Cuyo|         Viña Alicia|            Malbec|    88|           2.0|       1.0|\n",
      "|Argentina|         Mendoza|         Funky Llama|        Chardonnay|    83|           0.0|       0.0|\n",
      "|Argentina|        San Juan|     Finca Las Moras|   Sauvignon Blanc|    86|           0.0|       0.0|\n",
      "|Argentina|         Mendoza|        Alfredo Roca|        Chardonnay|    85|           0.0|       0.0|\n",
      "|Argentina|         Mendoza|           Caligiore|           Bonarda|    89|           0.0|       0.0|\n",
      "|Argentina|           Salta|Terrazas de Los A...|         Torrontés|    85|           0.0|       0.0|\n",
      "|Argentina|         Mendoza|           Cruz Alta|         Red Blend|    86|           1.0|       0.0|\n",
      "|Argentina|      Uco Valley|        Finca La Luz|Cabernet Sauvignon|    90|           1.0|       1.0|\n",
      "|Argentina|         Mendoza|  Altos Las Hormigas|            Malbec|    84|           0.0|       0.0|\n",
      "|Argentina|         Mendoza|             Septima|            Malbec|    86|           1.0|       0.0|\n",
      "|Argentina|    Vista Flores|      Mauricio Lorca|Cabernet Sauvignon|    91|           1.0|       0.0|\n",
      "|Argentina|         Mendoza|      Achaval-Ferrer|            Malbec|    91|           2.0|       2.0|\n",
      "|Argentina|      San Rafael|        Alfredo Roca|            Malbec|    82|           0.0|       0.0|\n",
      "+---------+----------------+--------------------+------------------+------+--------------+----------+\n",
      "only showing top 20 rows\n",
      "\n"
     ]
    }
   ],
   "source": [
    "#compare predictions against true labels\n",
    "\n",
    "predictions.select(\"country\", \"region_1\", \"winery\", \"variety\", \"points\", \"price_category\", \"prediction\").show(20)"
   ]
  },
  {
   "cell_type": "code",
   "execution_count": 71,
   "metadata": {},
   "outputs": [
    {
     "name": "stderr",
     "output_type": "stream",
     "text": [
      "24/01/28 15:33:45 WARN DAGScheduler: Broadcasting large task binary with size 3.6 MiB\n",
      "                                                                                \r"
     ]
    },
    {
     "name": "stdout",
     "output_type": "stream",
     "text": [
      "0.7517628205128205\n"
     ]
    },
    {
     "name": "stderr",
     "output_type": "stream",
     "text": [
      "24/01/28 15:33:46 WARN DAGScheduler: Broadcasting large task binary with size 3.6 MiB\n",
      "[Stage 187:============================>                           (8 + 8) / 16]\r"
     ]
    },
    {
     "name": "stdout",
     "output_type": "stream",
     "text": [
      "0.7497019040227961\n"
     ]
    },
    {
     "name": "stderr",
     "output_type": "stream",
     "text": [
      "                                                                                \r"
     ]
    }
   ],
   "source": [
    "#evaluation metrics\n",
    "\n",
    "\n",
    "from pyspark.ml.evaluation import MulticlassClassificationEvaluator\n",
    "\n",
    "evaluator = MulticlassClassificationEvaluator(labelCol=\"price_category\", predictionCol=\"prediction\")\n",
    "\n",
    "print(evaluator.evaluate(predictions, {evaluator.metricName: \"accuracy\"}))\n",
    "print(evaluator.evaluate(predictions, {evaluator.metricName: \"f1\"}))"
   ]
  },
  {
   "cell_type": "code",
   "execution_count": null,
   "metadata": {},
   "outputs": [],
   "source": []
  },
  {
   "cell_type": "markdown",
   "metadata": {},
   "source": [
    "The evaluation metrics for logistic classification model reveal a moderate level of performance. With an accuracy of 75.18%, the model correctly predicted the wine categories for a significant portion of instances. The F1 score, balancing precision and recall, is 74.97%, indicating a reasonable trade-off between these two metrics. These results suggest that the model is effective but may benefit from further optimization. \n",
    "\n",
    "\n",
    "The warning messages are not related to the evaluation metrics. These warnings are common in Apache Spark when large objects need to be sent to worker nodes during distributed computations. They typically don't affect the evaluation results but might indicate that there's a need to optimize certain operations for better performance, especially in a distributed computing environment."
   ]
  },
  {
   "cell_type": "markdown",
   "metadata": {},
   "source": [
    "### Random Forest"
   ]
  },
  {
   "cell_type": "code",
   "execution_count": 72,
   "metadata": {},
   "outputs": [
    {
     "name": "stderr",
     "output_type": "stream",
     "text": [
      "24/01/28 15:37:48 WARN DAGScheduler: Broadcasting large task binary with size 3.1 MiB\n",
      "24/01/28 15:37:48 WARN DAGScheduler: Broadcasting large task binary with size 3.1 MiB\n",
      "24/01/28 15:37:49 WARN DAGScheduler: Broadcasting large task binary with size 3.1 MiB\n",
      "24/01/28 15:37:51 WARN DAGScheduler: Broadcasting large task binary with size 3.8 MiB\n",
      "24/01/28 15:37:55 WARN MemoryStore: Not enough space to cache rdd_835_7 in memory! (computed 21.3 MiB so far)\n",
      "24/01/28 15:37:55 WARN MemoryStore: Not enough space to cache rdd_835_2 in memory! (computed 21.3 MiB so far)\n",
      "24/01/28 15:37:55 WARN MemoryStore: Not enough space to cache rdd_835_1 in memory! (computed 32.8 MiB so far)\n",
      "24/01/28 15:37:55 WARN MemoryStore: Not enough space to cache rdd_835_4 in memory! (computed 32.8 MiB so far)\n",
      "24/01/28 15:37:55 WARN MemoryStore: Not enough space to cache rdd_835_0 in memory! (computed 21.3 MiB so far)\n",
      "24/01/28 15:37:55 WARN MemoryStore: Not enough space to cache rdd_835_6 in memory! (computed 13.8 MiB so far)\n",
      "24/01/28 15:37:55 WARN MemoryStore: Not enough space to cache rdd_835_5 in memory! (computed 21.3 MiB so far)\n",
      "24/01/28 15:37:55 WARN BlockManager: Persisting block rdd_835_5 to disk instead.\n",
      "24/01/28 15:37:55 WARN BlockManager: Persisting block rdd_835_1 to disk instead.\n",
      "24/01/28 15:37:55 WARN BlockManager: Persisting block rdd_835_0 to disk instead.\n",
      "24/01/28 15:37:55 WARN BlockManager: Persisting block rdd_835_4 to disk instead.\n",
      "24/01/28 15:37:55 WARN BlockManager: Persisting block rdd_835_7 to disk instead.\n",
      "24/01/28 15:37:55 WARN BlockManager: Persisting block rdd_835_2 to disk instead.\n",
      "24/01/28 15:37:55 WARN BlockManager: Persisting block rdd_835_6 to disk instead.\n",
      "24/01/28 15:37:56 WARN MemoryStore: Not enough space to cache rdd_835_3 in memory! (computed 172.1 MiB so far)\n",
      "24/01/28 15:37:56 WARN BlockManager: Persisting block rdd_835_3 to disk instead.\n",
      "24/01/28 15:37:57 WARN MemoryStore: Not enough space to cache rdd_835_7 in memory! (computed 172.1 MiB so far)\n",
      "24/01/28 15:37:59 WARN MemoryStore: Not enough space to cache rdd_835_4 in memory! (computed 8.8 MiB so far)\n",
      "24/01/28 15:37:59 WARN MemoryStore: Not enough space to cache rdd_835_6 in memory! (computed 8.8 MiB so far)\n",
      "24/01/28 15:37:59 WARN MemoryStore: Not enough space to cache rdd_835_3 in memory! (computed 13.8 MiB so far)\n",
      "24/01/28 15:37:59 WARN MemoryStore: Not enough space to cache rdd_835_5 in memory! (computed 49.3 MiB so far)\n",
      "24/01/28 15:37:59 WARN MemoryStore: Not enough space to cache rdd_835_0 in memory! (computed 13.8 MiB so far)\n",
      "24/01/28 15:37:59 WARN MemoryStore: Not enough space to cache rdd_835_2 in memory! (computed 49.3 MiB so far)\n",
      "24/01/28 15:37:59 WARN MemoryStore: Not enough space to cache rdd_835_1 in memory! (computed 49.3 MiB so far)\n",
      "24/01/28 15:38:33 WARN MemoryStore: Not enough space to cache rdd_835_8 in memory! (computed 264.5 MiB so far)\n",
      "24/01/28 15:38:33 WARN BlockManager: Persisting block rdd_835_8 to disk instead.\n",
      "24/01/28 15:38:36 WARN MemoryStore: Not enough space to cache rdd_835_8 in memory! (computed 264.5 MiB so far)\n",
      "24/01/28 15:39:18 WARN MemoryStore: Not enough space to cache rdd_835_9 in memory! (computed 264.5 MiB so far)\n",
      "24/01/28 15:39:18 WARN BlockManager: Persisting block rdd_835_9 to disk instead.\n",
      "24/01/28 15:39:18 WARN MemoryStore: Not enough space to cache rdd_835_10 in memory! (computed 49.3 MiB so far)\n",
      "24/01/28 15:39:18 WARN BlockManager: Persisting block rdd_835_10 to disk instead.\n",
      "24/01/28 15:39:19 WARN MemoryStore: Not enough space to cache rdd_835_11 in memory! (computed 264.5 MiB so far)\n",
      "24/01/28 15:39:19 WARN BlockManager: Persisting block rdd_835_11 to disk instead.\n",
      "24/01/28 15:39:20 WARN MemoryStore: Not enough space to cache rdd_835_12 in memory! (computed 264.5 MiB so far)\n",
      "24/01/28 15:39:20 WARN BlockManager: Persisting block rdd_835_12 to disk instead.\n",
      "24/01/28 15:39:20 WARN MemoryStore: Not enough space to cache rdd_835_13 in memory! (computed 8.8 MiB so far)\n",
      "24/01/28 15:39:20 WARN BlockManager: Persisting block rdd_835_13 to disk instead.\n",
      "24/01/28 15:39:20 WARN MemoryStore: Not enough space to cache rdd_835_15 in memory! (computed 8.8 MiB so far)\n",
      "24/01/28 15:39:20 WARN BlockManager: Persisting block rdd_835_15 to disk instead.\n",
      "24/01/28 15:39:20 WARN MemoryStore: Not enough space to cache rdd_835_14 in memory! (computed 8.8 MiB so far)\n",
      "24/01/28 15:39:20 WARN BlockManager: Persisting block rdd_835_14 to disk instead.\n",
      "24/01/28 15:39:21 WARN MemoryStore: Not enough space to cache rdd_835_9 in memory! (computed 264.5 MiB so far)\n",
      "24/01/28 15:39:21 WARN MemoryStore: Not enough space to cache rdd_835_15 in memory! (computed 21.3 MiB so far)\n",
      "24/01/28 15:39:21 WARN MemoryStore: Not enough space to cache rdd_835_10 in memory! (computed 32.8 MiB so far)\n",
      "24/01/28 15:39:22 WARN MemoryStore: Not enough space to cache rdd_835_11 in memory! (computed 21.3 MiB so far)\n",
      "24/01/28 15:39:23 WARN MemoryStore: Not enough space to cache rdd_835_12 in memory! (computed 32.8 MiB so far)\n",
      "24/01/28 15:39:23 WARN MemoryStore: Not enough space to cache rdd_835_14 in memory! (computed 49.3 MiB so far)\n",
      "24/01/28 15:39:23 WARN MemoryStore: Not enough space to cache rdd_835_13 in memory! (computed 21.3 MiB so far)\n",
      "24/01/28 15:39:34 WARN DAGScheduler: Broadcasting large task binary with size 3.9 MiB\n",
      "24/01/28 15:39:34 WARN MemoryStore: Not enough space to cache rdd_835_1 in memory! (computed 32.8 MiB so far)\n",
      "24/01/28 15:39:34 WARN MemoryStore: Not enough space to cache rdd_835_0 in memory! (computed 32.8 MiB so far)\n",
      "24/01/28 15:39:34 WARN MemoryStore: Not enough space to cache broadcast_302 in memory! (computed 2.4 MiB so far)\n",
      "24/01/28 15:39:34 WARN MemoryStore: Not enough space to cache rdd_835_4 in memory! (computed 49.3 MiB so far)\n",
      "24/01/28 15:39:34 WARN MemoryStore: Not enough space to cache rdd_835_3 in memory! (computed 49.3 MiB so far)\n",
      "24/01/28 15:39:34 WARN MemoryStore: Not enough space to cache rdd_835_7 in memory! (computed 49.3 MiB so far)\n",
      "24/01/28 15:39:34 WARN MemoryStore: Not enough space to cache rdd_835_6 in memory! (computed 49.3 MiB so far)\n",
      "24/01/28 15:39:34 WARN MemoryStore: Not enough space to cache rdd_835_2 in memory! (computed 49.3 MiB so far)\n",
      "24/01/28 15:39:34 WARN MemoryStore: Not enough space to cache rdd_835_5 in memory! (computed 49.3 MiB so far)\n",
      "24/01/28 15:39:42 WARN MemoryStore: Not enough space to cache rdd_835_8 in memory! (computed 264.5 MiB so far)\n",
      "24/01/28 15:39:47 WARN MemoryStore: Not enough space to cache rdd_835_12 in memory! (computed 21.3 MiB so far)\n",
      "24/01/28 15:39:47 WARN MemoryStore: Not enough space to cache rdd_835_10 in memory! (computed 112.3 MiB so far)\n",
      "24/01/28 15:39:47 WARN MemoryStore: Not enough space to cache rdd_835_11 in memory! (computed 112.3 MiB so far)\n",
      "24/01/28 15:39:47 WARN MemoryStore: Not enough space to cache rdd_835_9 in memory! (computed 112.3 MiB so far)\n",
      "24/01/28 15:39:47 WARN MemoryStore: Not enough space to cache rdd_835_14 in memory! (computed 13.8 MiB so far)\n",
      "24/01/28 15:39:47 WARN MemoryStore: Not enough space to cache rdd_835_13 in memory! (computed 13.8 MiB so far)\n",
      "24/01/28 15:39:47 WARN MemoryStore: Not enough space to cache rdd_835_15 in memory! (computed 21.3 MiB so far)\n",
      "24/01/28 15:39:56 WARN DAGScheduler: Broadcasting large task binary with size 3.9 MiB\n",
      "24/01/28 15:39:56 WARN MemoryStore: Not enough space to cache rdd_835_2 in memory! (computed 32.8 MiB so far)\n",
      "24/01/28 15:39:56 WARN MemoryStore: Not enough space to cache rdd_835_4 in memory! (computed 49.3 MiB so far)\n",
      "24/01/28 15:39:56 WARN MemoryStore: Not enough space to cache rdd_835_5 in memory! (computed 32.8 MiB so far)\n",
      "24/01/28 15:39:56 WARN MemoryStore: Not enough space to cache rdd_835_7 in memory! (computed 49.3 MiB so far)\n",
      "24/01/28 15:39:56 WARN MemoryStore: Not enough space to cache rdd_835_6 in memory! (computed 49.3 MiB so far)\n",
      "24/01/28 15:39:56 WARN MemoryStore: Not enough space to cache rdd_835_0 in memory! (computed 49.3 MiB so far)\n",
      "24/01/28 15:39:56 WARN MemoryStore: Not enough space to cache rdd_835_3 in memory! (computed 49.3 MiB so far)\n",
      "24/01/28 15:39:56 WARN MemoryStore: Not enough space to cache broadcast_302 in memory! (computed 2.4 MiB so far)\n",
      "24/01/28 15:39:56 WARN MemoryStore: Not enough space to cache rdd_835_1 in memory! (computed 49.3 MiB so far)\n",
      "24/01/28 15:40:00 WARN MemoryStore: Not enough space to cache rdd_835_8 in memory! (computed 264.5 MiB so far)\n",
      "24/01/28 15:40:04 WARN MemoryStore: Not enough space to cache rdd_835_9 in memory! (computed 172.1 MiB so far)\n",
      "24/01/28 15:40:04 WARN MemoryStore: Not enough space to cache rdd_835_10 in memory! (computed 172.1 MiB so far)\n",
      "24/01/28 15:40:05 WARN MemoryStore: Not enough space to cache rdd_835_11 in memory! (computed 21.3 MiB so far)\n",
      "24/01/28 15:40:05 WARN MemoryStore: Not enough space to cache rdd_835_13 in memory! (computed 21.3 MiB so far)\n",
      "24/01/28 15:40:05 WARN MemoryStore: Not enough space to cache rdd_835_12 in memory! (computed 8.8 MiB so far)\n",
      "24/01/28 15:40:05 WARN MemoryStore: Not enough space to cache rdd_835_14 in memory! (computed 1361.9 KiB so far)\n",
      "24/01/28 15:40:05 WARN MemoryStore: Failed to reserve initial memory threshold of 1024.0 KiB for computing block rdd_835_15 in memory.\n",
      "24/01/28 15:40:05 WARN MemoryStore: Not enough space to cache rdd_835_15 in memory! (computed 384.0 B so far)\n",
      "24/01/28 15:40:13 WARN DAGScheduler: Broadcasting large task binary with size 3.9 MiB\n",
      "24/01/28 15:40:14 WARN MemoryStore: Not enough space to cache rdd_835_0 in memory! (computed 32.8 MiB so far)\n",
      "24/01/28 15:40:14 WARN MemoryStore: Not enough space to cache rdd_835_6 in memory! (computed 32.8 MiB so far)\n",
      "24/01/28 15:40:14 WARN MemoryStore: Not enough space to cache rdd_835_2 in memory! (computed 49.3 MiB so far)\n",
      "24/01/28 15:40:14 WARN MemoryStore: Not enough space to cache rdd_835_1 in memory! (computed 21.3 MiB so far)\n",
      "24/01/28 15:40:14 WARN MemoryStore: Not enough space to cache rdd_835_5 in memory! (computed 49.3 MiB so far)\n",
      "24/01/28 15:40:14 WARN MemoryStore: Not enough space to cache rdd_835_3 in memory! (computed 49.3 MiB so far)\n",
      "24/01/28 15:40:14 WARN MemoryStore: Not enough space to cache rdd_835_4 in memory! (computed 49.3 MiB so far)\n",
      "24/01/28 15:40:14 WARN MemoryStore: Not enough space to cache rdd_835_7 in memory! (computed 74.4 MiB so far)\n",
      "24/01/28 15:40:18 WARN MemoryStore: Not enough space to cache rdd_835_8 in memory! (computed 264.5 MiB so far)\n",
      "24/01/28 15:40:22 WARN MemoryStore: Not enough space to cache rdd_835_9 in memory! (computed 264.5 MiB so far)\n",
      "24/01/28 15:40:23 WARN MemoryStore: Not enough space to cache rdd_835_10 in memory! (computed 74.4 MiB so far)\n",
      "24/01/28 15:40:23 WARN MemoryStore: Not enough space to cache rdd_835_12 in memory! (computed 21.3 MiB so far)\n",
      "24/01/28 15:40:23 WARN MemoryStore: Not enough space to cache rdd_835_11 in memory! (computed 13.8 MiB so far)\n",
      "24/01/28 15:40:23 WARN MemoryStore: Not enough space to cache rdd_835_14 in memory! (computed 32.8 MiB so far)\n",
      "24/01/28 15:40:23 WARN MemoryStore: Not enough space to cache rdd_835_13 in memory! (computed 49.3 MiB so far)\n",
      "24/01/28 15:40:23 WARN MemoryStore: Not enough space to cache rdd_835_15 in memory! (computed 21.3 MiB so far)\n",
      "24/01/28 15:40:33 WARN DAGScheduler: Broadcasting large task binary with size 3.9 MiB\n",
      "24/01/28 15:40:34 WARN MemoryStore: Not enough space to cache rdd_835_1 in memory! (computed 32.8 MiB so far)\n",
      "24/01/28 15:40:34 WARN MemoryStore: Not enough space to cache rdd_835_7 in memory! (computed 32.8 MiB so far)\n",
      "24/01/28 15:40:34 WARN MemoryStore: Not enough space to cache rdd_835_5 in memory! (computed 49.3 MiB so far)\n",
      "24/01/28 15:40:34 WARN MemoryStore: Not enough space to cache rdd_835_3 in memory! (computed 49.3 MiB so far)\n",
      "24/01/28 15:40:34 WARN MemoryStore: Not enough space to cache rdd_835_0 in memory! (computed 49.3 MiB so far)\n",
      "24/01/28 15:40:34 WARN MemoryStore: Not enough space to cache rdd_835_6 in memory! (computed 49.3 MiB so far)\n",
      "24/01/28 15:40:34 WARN MemoryStore: Not enough space to cache rdd_835_4 in memory! (computed 49.3 MiB so far)\n",
      "24/01/28 15:40:34 WARN MemoryStore: Not enough space to cache broadcast_302 in memory! (computed 2.4 MiB so far)\n",
      "24/01/28 15:40:34 WARN MemoryStore: Not enough space to cache rdd_835_2 in memory! (computed 49.3 MiB so far)\n",
      "24/01/28 15:40:40 WARN MemoryStore: Not enough space to cache rdd_835_8 in memory! (computed 264.5 MiB so far)\n",
      "24/01/28 15:40:45 WARN MemoryStore: Not enough space to cache rdd_835_9 in memory! (computed 264.5 MiB so far)\n",
      "24/01/28 15:40:45 WARN MemoryStore: Not enough space to cache rdd_835_11 in memory! (computed 32.8 MiB so far)\n",
      "24/01/28 15:40:45 WARN MemoryStore: Not enough space to cache rdd_835_12 in memory! (computed 21.3 MiB so far)\n",
      "24/01/28 15:40:45 WARN MemoryStore: Not enough space to cache rdd_835_10 in memory! (computed 49.3 MiB so far)\n",
      "24/01/28 15:40:45 WARN MemoryStore: Not enough space to cache rdd_835_13 in memory! (computed 5.1 MiB so far)\n",
      "24/01/28 15:40:45 WARN MemoryStore: Not enough space to cache rdd_835_14 in memory! (computed 49.3 MiB so far)\n",
      "24/01/28 15:40:45 WARN MemoryStore: Not enough space to cache rdd_835_15 in memory! (computed 49.3 MiB so far)\n",
      "                                                                                \r"
     ]
    }
   ],
   "source": [
    "\n",
    "#%%time\n",
    "from pyspark.ml.classification import RandomForestClassifier\n",
    "\n",
    "# Set parameters for the Random Forest.\n",
    "rfc = RandomForestClassifier(maxDepth=5, numTrees=15, impurity=\"gini\", labelCol=\"price_category\", predictionCol=\"prediction\")\n",
    "\n",
    "# Fit the model to the data.\n",
    "rfcm = rfc.fit(train_df)\n",
    "\n",
    "predictions = rfcm.transform(test_df)"
   ]
  },
  {
   "cell_type": "markdown",
   "metadata": {},
   "source": [
    "Probably not a very good decision to run it on local machine. Anyways, evaluation metrics below."
   ]
  },
  {
   "cell_type": "code",
   "execution_count": 73,
   "metadata": {},
   "outputs": [
    {
     "name": "stderr",
     "output_type": "stream",
     "text": [
      "24/01/28 15:41:55 WARN DAGScheduler: Broadcasting large task binary with size 3.2 MiB\n",
      "                                                                                \r"
     ]
    },
    {
     "name": "stdout",
     "output_type": "stream",
     "text": [
      "0.40532407407407406\n"
     ]
    },
    {
     "name": "stderr",
     "output_type": "stream",
     "text": [
      "24/01/28 15:41:56 WARN DAGScheduler: Broadcasting large task binary with size 3.2 MiB\n",
      "[Stage 205:========================>                               (7 + 8) / 16]\r"
     ]
    },
    {
     "name": "stdout",
     "output_type": "stream",
     "text": [
      "0.24987234321435087\n"
     ]
    },
    {
     "name": "stderr",
     "output_type": "stream",
     "text": [
      "                                                                                \r"
     ]
    }
   ],
   "source": [
    "#Evaluation metrics for random forest model\n",
    "\n",
    "print(evaluator.evaluate(predictions, {evaluator.metricName: \"accuracy\"}))\n",
    "print(evaluator.evaluate(predictions, {evaluator.metricName: \"f1\"}))"
   ]
  },
  {
   "cell_type": "markdown",
   "metadata": {},
   "source": [
    "The evaluation metrics for the random forest model suggest a relatively poor performance. With an accuracy of 40.53%, the model correctly predicted the wine categories for only about 40.53% of the instances, indicating a substantial room for improvement. The F1 score, at 24.99%, further underscores the challenges faced by the model in achieving a balance between precision and recall. A low F1 score typically implies that the model struggles with both false positives and false negatives, making it less effective in classifying instances accurately. These results  indicate that the random forest model, as currently configured, is not the most suitable algorithm. Further model tuning, feature engineering, or exploration of alternative algorithms could be considered to enhance predictive performance on the wine reviews dataset. "
   ]
  },
  {
   "cell_type": "markdown",
   "metadata": {},
   "source": [
    "\n",
    "FOllowing ideas can be considered\n",
    "1. Tune the model hyperparameters - increase number of trees to see if the model improves.\n",
    "2. Implement a different classifier from Spark ML and compare metrics\n",
    "3. Building a feature importance selector - Example\n",
    "\n",
    "\n",
    "\n",
    "display(HTML(\"\"\"<a href=\"https://www.timlrx.com/blog/feature-selection-using-feature-importance-score-creating-a-pyspark-estimator\">text</a>\"\"\"))"
   ]
  },
  {
   "cell_type": "code",
   "execution_count": 81,
   "metadata": {},
   "outputs": [],
   "source": [
    "#from IPython.core.display import display, HTML\n",
    "#display(HTML(\"\"\"<a href=\"https://www.timlrx.com/blog/feature-selection-using-feature-importance-score-creating-a-pyspark-estimator\">text</a>\"\"\"))"
   ]
  },
  {
   "cell_type": "markdown",
   "metadata": {},
   "source": [
    "FOllowing ideas can be considered\n",
    " 1. Tune the model hyperparameters - increase number of trees to see if the model improves.\n",
    " 2. Implement a different classifier from Spark ML and compare metrics\n",
    " 3. Building a feature importance selector"
   ]
  },
  {
   "cell_type": "code",
   "execution_count": 82,
   "metadata": {},
   "outputs": [
    {
     "data": {
      "text/html": [
       "\n",
       "<a href=\"https://www.timlrx.com/blog/feature-selection-using-feature-importance-score-creating-a-pyspark-estimator\">Sample Feature importance selector</a>\n"
      ],
      "text/plain": [
       "<IPython.core.display.HTML object>"
      ]
     },
     "metadata": {},
     "output_type": "display_data"
    }
   ],
   "source": [
    "\n",
    "%%html\n",
    "\n",
    "<a href=\"https://www.timlrx.com/blog/feature-selection-using-feature-importance-score-creating-a-pyspark-estimator\">Sample Feature importance selector</a>"
   ]
  }
 ],
 "metadata": {
  "kernelspec": {
   "display_name": "Python 3",
   "language": "python",
   "name": "python3"
  },
  "language_info": {
   "codemirror_mode": {
    "name": "ipython",
    "version": 3
   },
   "file_extension": ".py",
   "mimetype": "text/x-python",
   "name": "python",
   "nbconvert_exporter": "python",
   "pygments_lexer": "ipython3",
   "version": "3.9.6"
  }
 },
 "nbformat": 4,
 "nbformat_minor": 2
}
