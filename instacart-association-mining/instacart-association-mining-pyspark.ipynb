{
 "cells": [
  {
   "cell_type": "markdown",
   "metadata": {},
   "source": [
    "\n",
    "## Instacart Market Basket Analysis using PySpark\n",
    "\n",
    "The Instacart Online Grocery Shopping Dataset 2017”, Accessed from https://www.instacart.com/datasets/grocery-shopping-2017 on 01/17/2018. This anonymized dataset contains a sample of over 3 million grocery orders from more than 200,000 Instacart users. For each user, we provide between 4 and 100 of their orders, with the sequence of products purchased in each order. We also provide the week and hour of day the order was placed, and a relative measure of time between orders\n",
    "\n",
    "Reference: \n",
    "https://databricks.com/blog/2018/09/18/simplify-market-basket-analysis-using-fp-growth-on-databricks.html\n",
    "\n",
    "https://s3.us-east-2.amazonaws.com/databricks-dennylee/notebooks/Market+Basket+Analysis+using+Instacart+Online+Grocery+Dataset.html\n",
    "\n",
    "\n",
    "### Frequent Pattern Mining\n",
    "Spark MLlib implements two algorithms related to frequency pattern mining (FPM): FP-growth and PrefixSpan. The distinction is that FP-growth does not use order information in the itemsets, if any, while PrefixSpan is designed for sequential pattern mining where the itemsets are ordered. We will use FP-growth as the order information is not important for this use case."
   ]
  },
  {
   "cell_type": "markdown",
   "metadata": {},
   "source": [
    "### Load Data\n",
    "\n",
    "- Upload the instacart data into RCC\n",
    "- Load the Instacart data into HDFS"
   ]
  },
  {
   "cell_type": "code",
   "execution_count": null,
   "metadata": {},
   "outputs": [],
   "source": [
    "#!mkdir /home/$USER/data/instacart\n",
    "#!hdfs dfs -mkdir /user/$USER/data/instacart\n",
    "#!hadoop dfs -put /home/$USER/data/instacart /user/$USER/data/instacart"
   ]
  },
  {
   "cell_type": "markdown",
   "metadata": {},
   "source": [
    "### Data Model\n",
    "\n",
    "`orders` (3.4m rows, 206k users):\n",
    "* `order_id`: order identifier\n",
    "* `user_id`: customer identifier\n",
    "* `eval_set`: which evaluation set this order belongs in (see `SET` described below)\n",
    "* `order_number`: the order sequence number for this user (1 = first, n = nth)\n",
    "* `order_dow`: the day of the week the order was placed on\n",
    "* `order_hour_of_day`: the hour of the day the order was placed on\n",
    "* `days_since_prior`: days since the last order, capped at 30 (with NAs for `order_number` = 1)\n",
    "\n",
    "`products` (50k rows):\n",
    "* `product_id`: product identifier\n",
    "* `product_name`: name of the product\n",
    "* `aisle_id`: foreign key\n",
    "* `department_id`: foreign key\n",
    "\n",
    "`aisles` (134 rows):\n",
    "* `aisle_id`: aisle identifier\n",
    "* `aisle`: the name of the aisle\n",
    "\n",
    "`departments` (21 rows):\n",
    "* `department_id`: department identifier\n",
    "* `department`: the name of the department\n",
    "\n",
    "`order_products__SET` (30m+ rows):\n",
    "* `order_id`: foreign key\n",
    "* `product_id`: foreign key\n",
    "* `add_to_cart_order`: order in which each product was added to cart\n",
    "* `reordered`: 1 if this product has been ordered by this user in the past, 0 otherwise\n",
    "\n",
    "where `SET` is one of the four following evaluation sets (`eval_set` in `orders`):\n",
    "* `\"prior\"`: orders prior to that users most recent order (~3.2m orders)\n",
    "* `\"train\"`: training data supplied to participants (~131k orders)\n",
    "* `\"test\"`: test data reserved for machine learning competitions (~75k orders)"
   ]
  },
  {
   "cell_type": "code",
   "execution_count": 1,
   "metadata": {},
   "outputs": [
    {
     "name": "stderr",
     "output_type": "stream",
     "text": [
      "24/01/30 17:35:54 WARN Utils: Your hostname, Sais-MacBook-Air.local resolves to a loopback address: 127.0.0.1; using 10.150.105.91 instead (on interface en0)\n",
      "24/01/30 17:35:54 WARN Utils: Set SPARK_LOCAL_IP if you need to bind to another address\n",
      "Setting default log level to \"WARN\".\n",
      "To adjust logging level use sc.setLogLevel(newLevel). For SparkR, use setLogLevel(newLevel).\n",
      "24/01/30 17:35:54 WARN NativeCodeLoader: Unable to load native-hadoop library for your platform... using builtin-java classes where applicable\n"
     ]
    }
   ],
   "source": [
    "from pyspark.sql import SparkSession\n",
    "spark = SparkSession.builder.appName('MarketBasketAnalysis').getOrCreate()\n",
    "\n",
    "%matplotlib inline"
   ]
  },
  {
   "cell_type": "markdown",
   "metadata": {},
   "source": [
    "### Import Data"
   ]
  },
  {
   "cell_type": "code",
   "execution_count": 3,
   "metadata": {},
   "outputs": [
    {
     "name": "stderr",
     "output_type": "stream",
     "text": [
      "                                                                                \r"
     ]
    }
   ],
   "source": [
    "dataDir = \"/Users/saiomkarkandukuri/Desktop/Academics/Academics-001/big-data-platforms/week8/instacart/\"\n",
    "aisles = spark.read.csv(dataDir + \"aisles.csv\", header=True, inferSchema=True)\n",
    "departments = spark.read.csv(dataDir + \"departments.csv\", header=True, inferSchema=True)\n",
    "order_products_prior = spark.read.csv(dataDir + \"order_products__prior.csv\", header=True, inferSchema=True)\n",
    "order_products_train = spark.read.csv(dataDir + \"order_products__train.csv\", header=True, inferSchema=True)\n",
    "orders = spark.read.csv(dataDir + \"orders.csv\", header=True, inferSchema=True)\n",
    "products = spark.read.csv(dataDir + \"products.csv\", header=True, inferSchema=True)\n",
    "\n",
    "aisles.createOrReplaceTempView(\"aisles\")\n",
    "departments.createOrReplaceTempView(\"departments\")\n",
    "order_products_prior.createOrReplaceTempView(\"order_products_prior\")\n",
    "order_products_train.createOrReplaceTempView(\"order_products_train\")\n",
    "orders.createOrReplaceTempView(\"orders\")\n",
    "products.createOrReplaceTempView(\"products\")"
   ]
  },
  {
   "cell_type": "code",
   "execution_count": 4,
   "metadata": {},
   "outputs": [
    {
     "data": {
      "text/plain": [
       "3421083"
      ]
     },
     "execution_count": 4,
     "metadata": {},
     "output_type": "execute_result"
    }
   ],
   "source": [
    "orders.count()"
   ]
  },
  {
   "cell_type": "code",
   "execution_count": 5,
   "metadata": {},
   "outputs": [
    {
     "name": "stdout",
     "output_type": "stream",
     "text": [
      "+--------+-------+--------+------------+---------+-----------------+----------------------+\n",
      "|order_id|user_id|eval_set|order_number|order_dow|order_hour_of_day|days_since_prior_order|\n",
      "+--------+-------+--------+------------+---------+-----------------+----------------------+\n",
      "| 2539329|      1|   prior|           1|        2|                8|                  NULL|\n",
      "| 2398795|      1|   prior|           2|        3|                7|                  15.0|\n",
      "|  473747|      1|   prior|           3|        3|               12|                  21.0|\n",
      "| 2254736|      1|   prior|           4|        4|                7|                  29.0|\n",
      "|  431534|      1|   prior|           5|        4|               15|                  28.0|\n",
      "| 3367565|      1|   prior|           6|        2|                7|                  19.0|\n",
      "|  550135|      1|   prior|           7|        1|                9|                  20.0|\n",
      "| 3108588|      1|   prior|           8|        1|               14|                  14.0|\n",
      "| 2295261|      1|   prior|           9|        1|               16|                   0.0|\n",
      "| 2550362|      1|   prior|          10|        4|                8|                  30.0|\n",
      "| 1187899|      1|   train|          11|        4|                8|                  14.0|\n",
      "| 2168274|      2|   prior|           1|        2|               11|                  NULL|\n",
      "| 1501582|      2|   prior|           2|        5|               10|                  10.0|\n",
      "| 1901567|      2|   prior|           3|        1|               10|                   3.0|\n",
      "|  738281|      2|   prior|           4|        2|               10|                   8.0|\n",
      "| 1673511|      2|   prior|           5|        3|               11|                   8.0|\n",
      "| 1199898|      2|   prior|           6|        2|                9|                  13.0|\n",
      "| 3194192|      2|   prior|           7|        2|               12|                  14.0|\n",
      "|  788338|      2|   prior|           8|        1|               15|                  27.0|\n",
      "| 1718559|      2|   prior|           9|        2|                9|                   8.0|\n",
      "+--------+-------+--------+------------+---------+-----------------+----------------------+\n",
      "only showing top 20 rows\n",
      "\n"
     ]
    }
   ],
   "source": [
    "orders.show()"
   ]
  },
  {
   "cell_type": "markdown",
   "metadata": {},
   "source": [
    "## Exploratory Data Analysis\n",
    "\n",
    "\n",
    "### Orders by Day of Week\n",
    "\n",
    "Sunday is the most popular day for the total number of orders while Thursday has the least number of orders."
   ]
  },
  {
   "cell_type": "code",
   "execution_count": 6,
   "metadata": {},
   "outputs": [
    {
     "name": "stderr",
     "output_type": "stream",
     "text": [
      "                                                                                \r"
     ]
    },
    {
     "data": {
      "text/plain": [
       "<Axes: xlabel='day_of_week'>"
      ]
     },
     "execution_count": 6,
     "metadata": {},
     "output_type": "execute_result"
    },
    {
     "data": {
      "image/png": "[encoded data removed]",
      "text/plain": [
       "<Figure size 1500x400 with 1 Axes>"
      ]
     },
     "metadata": {},
     "output_type": "display_data"
    }
   ],
   "source": [
    "obw = spark.sql('''select \n",
    "  count(order_id) as total_orders, \n",
    "  (case \n",
    "     when order_dow = '0' then 'Sunday'\n",
    "     when order_dow = '1' then 'Monday'\n",
    "     when order_dow = '2' then 'Tuesday'\n",
    "     when order_dow = '3' then 'Wednesday'\n",
    "     when order_dow = '4' then 'Thursday'\n",
    "     when order_dow = '5' then 'Friday'\n",
    "     when order_dow = '6' then 'Saturday'              \n",
    "   end) as day_of_week \n",
    "  from orders  \n",
    " group by order_dow \n",
    " order by total_orders desc''')\n",
    "\n",
    "obw.toPandas().plot(y='total_orders' , x ='day_of_week', kind='bar', figsize=(15,4), rot=0)"
   ]
  },
  {
   "cell_type": "markdown",
   "metadata": {},
   "source": [
    "### Orders by Hour\n",
    "\n",
    "When breaking down the hours typically people are ordering their groceries from Instacart during business working hours with highest number orders at 10:00am."
   ]
  },
  {
   "cell_type": "code",
   "execution_count": 7,
   "metadata": {},
   "outputs": [
    {
     "name": "stdout",
     "output_type": "stream",
     "text": [
      "CodeCache: size=131072Kb used=28444Kb max_used=28528Kb free=102627Kb\n",
      " bounds [0x000000010a9e0000, 0x000000010c5f0000, 0x00000001129e0000]\n",
      " total_blobs=11378 nmethods=10394 adapters=894\n",
      " compilation: disabled (not enough contiguous free space left)\n"
     ]
    },
    {
     "name": "stderr",
     "output_type": "stream",
     "text": [
      "Java HotSpot(TM) 64-Bit Server VM warning: CodeCache is full. Compiler has been disabled.\n",
      "Java HotSpot(TM) 64-Bit Server VM warning: Try increasing the code cache size using -XX:ReservedCodeCacheSize=\n"
     ]
    },
    {
     "data": {
      "text/plain": [
       "<Axes: >"
      ]
     },
     "execution_count": 7,
     "metadata": {},
     "output_type": "execute_result"
    },
    {
     "data": {
      "image/png": "[encoded data removed]",
      "text/plain": [
       "<Figure size 1500x400 with 1 Axes>"
      ]
     },
     "metadata": {},
     "output_type": "display_data"
    }
   ],
   "source": [
    "obh = spark.sql('''select \n",
    "  count(order_id) as total_orders, \n",
    "  order_hour_of_day as hour \n",
    "  from orders \n",
    " group by order_hour_of_day \n",
    " order by order_hour_of_day''')\n",
    "\n",
    "obh.toPandas().plot(y='total_orders', figsize=(15,4))"
   ]
  },
  {
   "cell_type": "markdown",
   "metadata": {},
   "source": [
    "### Top 10 Popular Items"
   ]
  },
  {
   "cell_type": "code",
   "execution_count": 8,
   "metadata": {},
   "outputs": [
    {
     "name": "stderr",
     "output_type": "stream",
     "text": [
      "[Stage 33:==================================================>       (7 + 1) / 8]\r"
     ]
    },
    {
     "name": "stdout",
     "output_type": "stream",
     "text": [
      "+------+----------------------+\n",
      "|orders|popular_product       |\n",
      "+------+----------------------+\n",
      "|472565|Banana                |\n",
      "|379450|Bag of Organic Bananas|\n",
      "|264683|Organic Strawberries  |\n",
      "|241921|Organic Baby Spinach  |\n",
      "|213584|Organic Hass Avocado  |\n",
      "|176815|Organic Avocado       |\n",
      "|152657|Large Lemon           |\n",
      "|142951|Strawberries          |\n",
      "|140627|Limes                 |\n",
      "|137905|Organic Whole Milk    |\n",
      "+------+----------------------+\n",
      "\n"
     ]
    },
    {
     "name": "stderr",
     "output_type": "stream",
     "text": [
      "                                                                                \r"
     ]
    }
   ],
   "source": [
    "spark.sql('''select count(opp.order_id) as orders, p.product_name as popular_product\n",
    "  from order_products_prior opp, products p\n",
    " where p.product_id = opp.product_id \n",
    " group by popular_product \n",
    " order by orders desc \n",
    " limit 10''').show(truncate = False)"
   ]
  },
  {
   "cell_type": "markdown",
   "metadata": {},
   "source": [
    "### Understand shelf space by department\n",
    "\n",
    "As we dive deeper into our market basket analysis, we can gain insight on the number of products by department to understand how much shelf space is being used."
   ]
  },
  {
   "cell_type": "code",
   "execution_count": 9,
   "metadata": {},
   "outputs": [
    {
     "name": "stdout",
     "output_type": "stream",
     "text": [
      "+---------------+--------+\n",
      "|     department|products|\n",
      "+---------------+--------+\n",
      "|  personal care|    6563|\n",
      "|         snacks|    6264|\n",
      "|         pantry|    5371|\n",
      "|      beverages|    4365|\n",
      "|         frozen|    4007|\n",
      "|     dairy eggs|    3449|\n",
      "|      household|    3084|\n",
      "|   canned goods|    2092|\n",
      "|dry goods pasta|    1858|\n",
      "|        produce|    1684|\n",
      "+---------------+--------+\n",
      "\n"
     ]
    }
   ],
   "source": [
    "spark.sql('''select d.department, count(distinct p.product_id) as products\n",
    "  from products p\n",
    "    inner join departments d\n",
    "      on d.department_id = p.department_id\n",
    " group by d.department\n",
    " order by products desc\n",
    " limit 10''').show()"
   ]
  },
  {
   "cell_type": "markdown",
   "metadata": {},
   "source": [
    "### Max Products By Department"
   ]
  },
  {
   "cell_type": "code",
   "execution_count": 10,
   "metadata": {},
   "outputs": [
    {
     "name": "stdout",
     "output_type": "stream",
     "text": [
      "+-------------+---------------+--------+\n",
      "|department_id|     department|products|\n",
      "+-------------+---------------+--------+\n",
      "|           16|     dairy eggs|    3449|\n",
      "|           14|      breakfast|    1115|\n",
      "|            3|         bakery|    1516|\n",
      "|           21|        missing|    1258|\n",
      "|            6|  international|    1139|\n",
      "|            1|         frozen|    4007|\n",
      "|           11|  personal care|    6563|\n",
      "|            9|dry goods pasta|    1858|\n",
      "|           13|         pantry|    5371|\n",
      "|           19|         snacks|    6264|\n",
      "|           20|           deli|    1322|\n",
      "|            7|      beverages|    4365|\n",
      "|            4|        produce|    1684|\n",
      "|           15|   canned goods|    2092|\n",
      "|           12|   meat seafood|     907|\n",
      "|           18|         babies|    1081|\n",
      "|            2|          other|     548|\n",
      "|            8|           pets|     972|\n",
      "|            5|        alcohol|    1054|\n",
      "|           10|           bulk|      38|\n",
      "+-------------+---------------+--------+\n",
      "only showing top 20 rows\n",
      "\n"
     ]
    }
   ],
   "source": [
    "spark.sql('''select countbydept.*\n",
    "  from (\n",
    "  -- from product table, let's count number of records per dept\n",
    "  -- and then sort it by count (highest to lowest) \n",
    "  select department_id, count(1) as counter\n",
    "    from products\n",
    "   group by department_id\n",
    "   order by counter asc \n",
    "  ) as maxcount\n",
    "inner join (\n",
    "  -- let's repeat the exercise, but this time let's join\n",
    "  -- products and departments tables to get a full list of dept and \n",
    "  -- prod count\n",
    "  select\n",
    "    d.department_id,\n",
    "    d.department,\n",
    "    count(1) as products\n",
    "    from departments d\n",
    "      inner join products p\n",
    "         on p.department_id = d.department_id\n",
    "   group by d.department_id, d.department \n",
    "   order by products desc\n",
    "  ) countbydept \n",
    "  -- combine the two queries's results by matching the product count\n",
    "  on countbydept.products = maxcount.counter''').show()"
   ]
  },
  {
   "cell_type": "markdown",
   "metadata": {},
   "source": [
    "## Association Mining"
   ]
  },
  {
   "cell_type": "markdown",
   "metadata": {},
   "source": [
    "### Organize Shopping Basket\n",
    "\n",
    "To prepare our data for downstream processing, we will organize our data by shopping basket. That is, each row of our DataFrame represents an order_id with each items column containing an array of items."
   ]
  },
  {
   "cell_type": "code",
   "execution_count": 11,
   "metadata": {},
   "outputs": [
    {
     "name": "stderr",
     "output_type": "stream",
     "text": [
      "[Stage 51:=============================>                            (3 + 3) / 6]\r"
     ]
    },
    {
     "name": "stdout",
     "output_type": "stream",
     "text": [
      "+--------+----------------------------------------------------------------------------------------------------+\n",
      "|order_id|                                                                                               items|\n",
      "+--------+----------------------------------------------------------------------------------------------------+\n",
      "|     762|                    [Organic Cucumber, Organic Romaine Lettuce, Celery Hearts, Organic Strawberries]|\n",
      "|     844|[Organic Red Radish, Bunch, Baby Spinach, Organic Shredded Carrots, Granny Smith Apples, Green Be...|\n",
      "|     988|[Whipped Light Cream, Original, Complete ActionPacs Lemon Burst Dishwasher Detergent, Classic Van...|\n",
      "|    1139|[Cinnamon Rolls with Icing, Red Vine Tomato, Picnic Potato Salad, Flaky Biscuits, Organic Strawbe...|\n",
      "|    1143|[Water, Natural Premium Coconut Water, Organic Red Radish, Bunch, Organic Capellini Whole Wheat P...|\n",
      "|    1280|[Vanilla Soy Milk, French Vanilla Creamer, Organic Half & Half, Lactose Free Half & Half, Organic...|\n",
      "|    1342|[Raw Shrimp, Seedless Cucumbers, Versatile Stain Remover, Organic Strawberries, Organic Mandarins...|\n",
      "|    1350|[Mocha Frappucino Chilled Coffee Drink, Bare Fruit Banana Chips, Pressed Cool Pineapple, Ground C...|\n",
      "|    1468|[Pomegranate Seeds, Organic Red Radish, Bunch, Natural Mini Pork Pepperoni, Cage Free Grade AA La...|\n",
      "|    1591|[Cracked Wheat, Strawberry Rhubarb Yoghurt, Organic Bunny Fruit Snacks Berry Patch, Goodness Grap...|\n",
      "|    1721|[Organic Thompson Seedless Raisins, Whole Milk Plain Yogurt, Tomato Paste, Organic Rolled Oats, O...|\n",
      "|    1890|[Vanilla Almond Breeze Almond Milk, Apple Honeycrisp Organic, Hass Avocado, Organic Garnet Sweet ...|\n",
      "|    1955|[Light in Sodium Black Bean Vegetable Enchilada Entree, Organic Garden Vegetable Pasta Sauce, Org...|\n",
      "|    2711|                [Granny Smith Apples, Alpine Spring Water, Mountain Spring Water, Honeycrisp Apples]|\n",
      "|    2888|[Shredded Sharp Cheddar Cheese, Organic Raspberries, Clover Honey, Cherubs Heavenly Salad Tomatoe...|\n",
      "|    3010|[Organic Extra Virgin Olive Oil, Brown Eggs, Pure Coconut Water, Organic Low Sodium Chicken Broth...|\n",
      "|    3179|[Caramel Almond and Sea Salt Nut Bar, White Chocolate Macadamia Nut Energy Bar, Tea Tree Scalp Tr...|\n",
      "|    4036|[Arrowroot Starch/Flour, Carrots, Birthday Cake Light Ice Cream, Sweet Onion, Natural Classic Por...|\n",
      "|    4092|[Organic Baby Spinach, Sharp Cheddar Cheese, Garlic, Mozzarella Cheese, Organic Zucchini, Organic...|\n",
      "|    4267|[Original No Pulp 100% Florida Orange Juice, Vitamin D Organic Whole Milk, Organic Raspberries, O...|\n",
      "+--------+----------------------------------------------------------------------------------------------------+\n",
      "only showing top 20 rows\n",
      "\n"
     ]
    },
    {
     "name": "stderr",
     "output_type": "stream",
     "text": [
      "                                                                                \r"
     ]
    }
   ],
   "source": [
    "from pyspark.sql.functions import collect_set, col, count\n",
    "\n",
    "\n",
    "rawData = spark.sql(\"select p.product_name, o.order_id from products p inner join order_products_train o where o.product_id = p.product_id\")\n",
    "baskets = rawData.groupBy('order_id').agg(collect_set('product_name').alias('items'))\n",
    "baskets.createOrReplaceTempView('baskets')\n",
    "baskets.show(truncate=100)"
   ]
  },
  {
   "cell_type": "markdown",
   "metadata": {},
   "source": [
    "### Frequent Itemsets\n",
    "\n",
    "The FP-Growth (Frequent Pattern growth) algorithm is currently one of the fastest approaches to frequent item set mining. FP-Growth is an improvement of apriori designed to eliminate some of the heavy bottlenecks in apriori. It works well with any distributed system focused on MapReduce. FP-Growth simplifies all the problems present in apriori by using a structure called an FP-Tree.\n",
    "\n",
    "Given a dataset of transactions, the first step of FP-growth is to calculate item frequencies and identify frequent items. Different from Apriori-like algorithms designed for the same purpose, the second step of FP-growth uses a suffix tree (FP-tree) structure to encode transactions without generating candidate sets explicitly, which are usually expensive to generate."
   ]
  },
  {
   "cell_type": "code",
   "execution_count": 12,
   "metadata": {},
   "outputs": [
    {
     "name": "stderr",
     "output_type": "stream",
     "text": [
      "[Stage 67:>                                                         (0 + 1) / 1]\r"
     ]
    },
    {
     "name": "stdout",
     "output_type": "stream",
     "text": [
      "+---------------------------------------------------------------------+----+\n",
      "|items                                                                |freq|\n",
      "+---------------------------------------------------------------------+----+\n",
      "|[Extra Ginger Brew Jamaican Style Ginger Beer]                       |259 |\n",
      "|[Whole Strawberries]                                                 |365 |\n",
      "|[Organic Lime]                                                       |140 |\n",
      "|[Chopped Tomatoes]                                                   |159 |\n",
      "|[Low Fat Plain Yogurt]                                               |200 |\n",
      "|[Organic Tomato Basil Pasta Sauce]                                   |772 |\n",
      "|[Organic Tomato Basil Pasta Sauce, Bag of Organic Bananas]           |175 |\n",
      "|[Organic Tomato Basil Pasta Sauce, Organic Baby Spinach]             |144 |\n",
      "|[Organic Tomato Basil Pasta Sauce, Banana]                           |179 |\n",
      "|[Thin & Light Tortilla Chips]                                        |301 |\n",
      "|[Ice Bag]                                                            |135 |\n",
      "|[Kids Organic Chocolate Chip ZBars]                                  |451 |\n",
      "|[Bunched Carrots]                                                    |167 |\n",
      "|[Scoops! Tortilla Chips]                                             |398 |\n",
      "|[Natural Free & Clear Dish Liquid]                                   |277 |\n",
      "|[Organic Large Brown Grade AA Cage Free Eggs]                        |1137|\n",
      "|[Organic Large Brown Grade AA Cage Free Eggs, Organic Strawberries]  |201 |\n",
      "|[Organic Large Brown Grade AA Cage Free Eggs, Bag of Organic Bananas]|280 |\n",
      "|[Organic Large Brown Grade AA Cage Free Eggs, Organic Raspberries]   |138 |\n",
      "|[Organic Large Brown Grade AA Cage Free Eggs, Organic Baby Spinach]  |145 |\n",
      "+---------------------------------------------------------------------+----+\n",
      "only showing top 20 rows\n",
      "\n"
     ]
    },
    {
     "name": "stderr",
     "output_type": "stream",
     "text": [
      "                                                                                \r"
     ]
    }
   ],
   "source": [
    "from pyspark.ml.fpm import FPGrowth\n",
    "\n",
    "#set the minimum thresholds for support and confidence\n",
    "fpGrowth = FPGrowth(itemsCol=\"items\", minSupport=0.001, minConfidence=0)\n",
    "\n",
    "model = fpGrowth.fit(baskets)\n",
    "\n",
    "#Calculate frequent itemsets\n",
    "mostPopularItemInABasket = model.freqItemsets\n",
    "mostPopularItemInABasket.createOrReplaceTempView(\"mostPopularItemInABasket\")\n",
    "\n",
    "# Display frequent itemsets.\n",
    "model.freqItemsets.show(truncate =False)"
   ]
  },
  {
   "cell_type": "code",
   "execution_count": 13,
   "metadata": {},
   "outputs": [
    {
     "name": "stderr",
     "output_type": "stream",
     "text": [
      "[Stage 70:>                                                         (0 + 8) / 8]\r"
     ]
    },
    {
     "name": "stdout",
     "output_type": "stream",
     "text": [
      "+--------------------------------------------------------------------+----+\n",
      "|items                                                               |freq|\n",
      "+--------------------------------------------------------------------+----+\n",
      "|[Organic Hass Avocado, Organic Strawberries, Bag of Organic Bananas]|710 |\n",
      "|[Organic Raspberries, Organic Strawberries, Bag of Organic Bananas] |649 |\n",
      "|[Organic Baby Spinach, Organic Strawberries, Bag of Organic Bananas]|587 |\n",
      "|[Organic Raspberries, Organic Hass Avocado, Bag of Organic Bananas] |531 |\n",
      "|[Organic Hass Avocado, Organic Baby Spinach, Bag of Organic Bananas]|497 |\n",
      "|[Organic Avocado, Organic Baby Spinach, Banana]                     |484 |\n",
      "|[Organic Avocado, Large Lemon, Banana]                              |477 |\n",
      "|[Limes, Large Lemon, Banana]                                        |452 |\n",
      "|[Organic Cucumber, Organic Strawberries, Bag of Organic Bananas]    |424 |\n",
      "|[Limes, Organic Avocado, Large Lemon]                               |389 |\n",
      "|[Organic Raspberries, Organic Hass Avocado, Organic Strawberries]   |381 |\n",
      "|[Organic Avocado, Organic Strawberries, Banana]                     |379 |\n",
      "|[Organic Baby Spinach, Organic Strawberries, Banana]                |376 |\n",
      "|[Organic Blueberries, Organic Strawberries, Bag of Organic Bananas] |374 |\n",
      "|[Large Lemon, Organic Baby Spinach, Banana]                         |371 |\n",
      "|[Organic Cucumber, Organic Hass Avocado, Bag of Organic Bananas]    |366 |\n",
      "|[Organic Lemon, Organic Hass Avocado, Bag of Organic Bananas]       |353 |\n",
      "|[Limes, Organic Avocado, Banana]                                    |352 |\n",
      "|[Organic Whole Milk, Organic Strawberries, Bag of Organic Bananas]  |339 |\n",
      "|[Organic Avocado, Large Lemon, Organic Baby Spinach]                |334 |\n",
      "+--------------------------------------------------------------------+----+\n",
      "\n"
     ]
    },
    {
     "name": "stderr",
     "output_type": "stream",
     "text": [
      "                                                                                \r"
     ]
    }
   ],
   "source": [
    "#only show item groups larger than 2\n",
    "spark.sql('''select items, freq from mostPopularItemInABasket \n",
    "          where size(items) > 2 order by freq desc limit 20''').show(truncate =False)"
   ]
  },
  {
   "cell_type": "markdown",
   "metadata": {},
   "source": [
    "### Association Rules"
   ]
  },
  {
   "cell_type": "code",
   "execution_count": 14,
   "metadata": {},
   "outputs": [
    {
     "name": "stderr",
     "output_type": "stream",
     "text": [
      "[Stage 74:=======>                                                  (1 + 7) / 8]\r"
     ]
    },
    {
     "name": "stdout",
     "output_type": "stream",
     "text": [
      "+--------------------------+-------------------------+-------------------+------------------+---------------------+\n",
      "|antecedent                |consequent               |confidence         |lift              |support              |\n",
      "+--------------------------+-------------------------+-------------------+------------------+---------------------+\n",
      "|[Trilogy Kombucha Drink]  |[Bag of Organic Bananas] |0.21739130434782608|1.8426159982024493|0.0010669999771357147|\n",
      "|[Organic Shredded Carrots]|[Organic Strawberries]   |0.163855421686747  |1.9734997268309513|0.0010365142635032657|\n",
      "|[Organic Shredded Carrots]|[Bag of Organic Bananas] |0.1891566265060241 |1.6032979203636253|0.001196564260073623 |\n",
      "|[Organic Shredded Carrots]|[Organic Baby Spinach]   |0.24819277108433735|3.328406101921997 |0.001570014252071123 |\n",
      "|[Organic Shredded Carrots]|[Banana]                 |0.22409638554216868|1.570194523689117 |0.0014175856839088782|\n",
      "|[Green Bell Pepper]       |[Orange Bell Pepper]     |0.10035700119000397|7.0642391465339225|0.001928221387252399 |\n",
      "|[Green Bell Pepper]       |[Organic Red Bell Pepper]|0.10234034113447045|5.611355545304109 |0.00196632852929296  |\n",
      "|[Green Bell Pepper]       |[Yellow Bell Pepper]     |0.0646568821896073 |7.275784609962422 |0.0012422928305222964|\n",
      "|[Green Bell Pepper]       |[Organic Cilantro]       |0.09401031336771122|3.498298130080551 |0.001806278532722603 |\n",
      "|[Green Bell Pepper]       |[Organic Tomato Cluster] |0.05593018643395478|2.891467230816695 |0.001074621405543827 |\n",
      "|[Green Bell Pepper]       |[Asparagus]              |0.07973026576755256|2.7045833611930723|0.001531907110030562 |\n",
      "|[Green Bell Pepper]       |[Limes]                  |0.13685045616818722|2.9762989397267825|0.002629392800798726 |\n",
      "|[Green Bell Pepper]       |[Broccoli Crown]         |0.06307021023403411|2.822434929944537 |0.0012118071168898475|\n",
      "|[Green Bell Pepper]       |[Michigan Organic Kale]  |0.05751685838952796|2.872755794606614 |0.001105107119176276 |\n",
      "|[Green Bell Pepper]       |[Yellow Onions]          |0.10987703292344307|3.8322316886900696|0.002111135669047093 |\n",
      "|[Green Bell Pepper]       |[Organic Strawberries]   |0.1182070606902023 |1.4237038944465534|0.00227118566561745  |\n",
      "|[Green Bell Pepper]       |[Organic Avocado]        |0.128520428401428  |2.2760206357299184|0.0024693428042283686|\n",
      "|[Green Bell Pepper]       |[Organic Yellow Onion]   |0.128520428401428  |3.9307778298654927|0.0024693428042283686|\n",
      "|[Green Bell Pepper]       |[Organic Zucchini]       |0.09520031733439112|2.7219739457677323|0.0018291428179469395|\n",
      "|[Green Bell Pepper]       |[Large Lemon]            |0.1305037683458945 |2.104888622113887 |0.0025074499462689297|\n",
      "|[Green Bell Pepper]       |[Red Peppers]            |0.1915906386354621 |8.653499519697194 |0.003681149921118216 |\n",
      "|[Green Bell Pepper]       |[Strawberries]           |0.07774692582308608|1.5708494595505547|0.0014937999679900007|\n",
      "|[Green Bell Pepper]       |[Seedless Red Grapes]    |0.06069020230067434|1.96183807678472  |0.001166078546441174 |\n",
      "|[Green Bell Pepper]       |[Bag of Organic Bananas] |0.15351051170170568|1.301160253867513 |0.00294949279393944  |\n",
      "|[Green Bell Pepper]       |[Organic Red Onion]      |0.11344704482348275|3.8987096134741615|0.002179728524720103 |\n",
      "+--------------------------+-------------------------+-------------------+------------------+---------------------+\n",
      "only showing top 25 rows\n",
      "\n"
     ]
    },
    {
     "name": "stderr",
     "output_type": "stream",
     "text": [
      "                                                                                \r"
     ]
    }
   ],
   "source": [
    "model.associationRules.show(25, truncate=False)"
   ]
  },
  {
   "cell_type": "code",
   "execution_count": 15,
   "metadata": {},
   "outputs": [
    {
     "name": "stdout",
     "output_type": "stream",
     "text": [
      "+------------------------------------------------------------------+------------------------+-------------------+------------------+---------------------+\n",
      "|antecedent                                                        |consequent              |confidence         |lift              |support              |\n",
      "+------------------------------------------------------------------+------------------------+-------------------+------------------+---------------------+\n",
      "|[Organic Raspberries, Organic Hass Avocado, Organic Strawberries] |[Bag of Organic Bananas]|0.5984251968503937 |5.072272070642333 |0.0017376856770495927|\n",
      "|[Organic Cucumber, Organic Hass Avocado, Organic Strawberries]    |[Bag of Organic Bananas]|0.546875           |4.635330870478036 |0.0010669999771357147|\n",
      "|[Organic Kiwi, Organic Hass Avocado]                              |[Bag of Organic Bananas]|0.5459770114942529 |4.627719489738336 |0.001448071397541327 |\n",
      "|[Organic Navel Orange, Organic Raspberries]                       |[Bag of Organic Bananas]|0.5412186379928315 |4.587387356098284 |0.0011508356896249496|\n",
      "|[Yellow Onions, Strawberries]                                     |[Banana]                |0.5357142857142857 |3.7536332219526702|0.0011432142612168373|\n",
      "|[Organic Whole String Cheese, Organic Hass Avocado]               |[Bag of Organic Bananas]|0.5314685314685315 |4.504745125675359 |0.0011584571180330617|\n",
      "|[Organic Navel Orange, Organic Hass Avocado]                      |[Bag of Organic Bananas]|0.5283018867924528 |4.477904539027839 |0.0014937999679900007|\n",
      "|[Organic Raspberries, Organic Hass Avocado]                       |[Bag of Organic Bananas]|0.521099116781158  |4.416853618458589 |0.004046978484707604 |\n",
      "|[Organic D'Anjou Pears, Organic Hass Avocado]                     |[Bag of Organic Bananas]|0.5170454545454546 |4.3824946411792345|0.0013870999702764292|\n",
      "|[Organic Unsweetened Almond Milk, Organic Hass Avocado]           |[Bag of Organic Bananas]|0.5141065830721003 |4.357584667849303 |0.0012499142589304088|\n",
      "|[Organic Broccoli, Organic Hass Avocado]                          |[Bag of Organic Bananas]|0.5048231511254019 |4.278897986822536 |0.001196564260073623 |\n",
      "|[Organic Lemon, Organic Raspberries]                              |[Bag of Organic Bananas]|0.4989106753812636 |4.228783643804924 |0.0017453071054577048|\n",
      "|[Organic Hass Avocado, Organic Baby Spinach, Organic Strawberries]|[Bag of Organic Bananas]|0.49393939393939396|4.1866468953096865|0.0012422928305222964|\n",
      "|[Organic Fuji Apple, Strawberries]                                |[Banana]                |0.4915254237288136 |3.4440114985599646|0.001105107119176276 |\n",
      "|[Honeycrisp Apple, Strawberries]                                  |[Banana]                |0.4868421052631579 |3.4111965069675145|0.001409964255500766 |\n",
      "|[Organic Large Extra Fancy Fuji Apple, Organic Hass Avocado]      |[Bag of Organic Bananas]|0.4838709677419355 |4.101306576644161 |0.0018291428179469395|\n",
      "|[Organic Gala Apples, Organic Hass Avocado]                       |[Bag of Organic Bananas]|0.4837905236907731 |4.100624730164253 |0.0014785571111737763|\n",
      "|[Organic Navel Orange, Organic Strawberries]                      |[Bag of Organic Bananas]|0.4821002386634845 |4.086297817493356 |0.0015395285384386741|\n",
      "|[Organic Kiwi, Organic Raspberries]                               |[Bag of Organic Bananas]|0.4792332268370607 |4.061996928944697 |0.0011432142612168373|\n",
      "|[Organic Carrot Bunch, Organic Hass Avocado]                      |[Bag of Organic Bananas]|0.47315436241610737|4.010472269913116 |0.001074621405543827 |\n",
      "|[Organic Yellow Squash]                                           |[Organic Zucchini]      |0.46770025839793283|13.372517586431547|0.0013794785418683169|\n",
      "|[Strawberries, Organic Avocado]                                   |[Banana]                |0.4643478260869565 |3.2535839962108017|0.0020349213849659704|\n",
      "|[Organic Kiwi, Organic Raspberries]                               |[Organic Strawberries]  |0.46325878594249204|5.57955957818326  |0.001105107119176276 |\n",
      "|[Bunched Cilantro, Large Lemon]                                   |[Limes]                 |0.46228710462287104|10.05407404449897 |0.001448071397541327 |\n",
      "|[Organic Fuji Apple, Organic Avocado]                             |[Banana]                |0.46216216216216216|3.2382695255332226|0.0013032642577871945|\n",
      "+------------------------------------------------------------------+------------------------+-------------------+------------------+---------------------+\n",
      "only showing top 25 rows\n",
      "\n"
     ]
    }
   ],
   "source": [
    "#sort by confidence\n",
    "model.associationRules.orderBy(\"confidence\", ascending=False).show(25, truncate=False)"
   ]
  },
  {
   "cell_type": "markdown",
   "metadata": {},
   "source": [
    "### Predictions"
   ]
  },
  {
   "cell_type": "code",
   "execution_count": 16,
   "metadata": {},
   "outputs": [
    {
     "name": "stderr",
     "output_type": "stream",
     "text": [
      "[Stage 87:>                                                         (0 + 6) / 6]\r"
     ]
    },
    {
     "name": "stdout",
     "output_type": "stream",
     "text": [
      "+--------+----------------------------------------------------------------------+----------------------------------------------------------------------+\n",
      "|order_id|                                                                 items|                                                            prediction|\n",
      "+--------+----------------------------------------------------------------------+----------------------------------------------------------------------+\n",
      "|     762|[Organic Cucumber, Organic Romaine Lettuce, Celery Hearts, Organic ...|[Organic Large Extra Fancy Fuji Apple, Organic Celery Hearts, Organ...|\n",
      "|     844|[Organic Red Radish, Bunch, Baby Spinach, Organic Shredded Carrots,...|[Organic Strawberries, Bag of Organic Bananas, Organic Baby Spinach...|\n",
      "|     988|[Whipped Light Cream, Original, Complete ActionPacs Lemon Burst Dis...|                                                                    []|\n",
      "|    1139|[Cinnamon Rolls with Icing, Red Vine Tomato, Picnic Potato Salad, F...|[Organic Large Brown Grade AA Cage Free Eggs, 100% Raw Coconut Wate...|\n",
      "|    1143|[Water, Natural Premium Coconut Water, Organic Red Radish, Bunch, O...|[Organic Large Extra Fancy Fuji Apple, Limes, Hass Avocado, Organic...|\n",
      "|    1280|[Vanilla Soy Milk, French Vanilla Creamer, Organic Half & Half, Lac...|[Organic Large Extra Fancy Fuji Apple, Whole Milk Plain Yogurt, Org...|\n",
      "|    1342|[Raw Shrimp, Seedless Cucumbers, Versatile Stain Remover, Organic S...|[Organic Large Brown Grade AA Cage Free Eggs, 100% Raw Coconut Wate...|\n",
      "|    1350|[Mocha Frappucino Chilled Coffee Drink, Bare Fruit Banana Chips, Pr...|                                                                    []|\n",
      "|    1468|[Pomegranate Seeds, Organic Red Radish, Bunch, Natural Mini Pork Pe...|[Organic Cilantro, Limes, Organic Italian Parsley Bunch, Michigan O...|\n",
      "|    1591|[Cracked Wheat, Strawberry Rhubarb Yoghurt, Organic Bunny Fruit Sna...|[Blueberry Yoghurt, Bag of Organic Bananas, Organic Tomato Basil Pa...|\n",
      "|    1721|[Organic Thompson Seedless Raisins, Whole Milk Plain Yogurt, Tomato...|[Bag of Organic Bananas, Organic Strawberries, Organic Avocado, Org...|\n",
      "|    1890|[Vanilla Almond Breeze Almond Milk, Apple Honeycrisp Organic, Hass ...|[Organic Large Extra Fancy Fuji Apple, Limes, Organic Celery Hearts...|\n",
      "|    1955|[Light in Sodium Black Bean Vegetable Enchilada Entree, Organic Gar...|[Organic Strawberries, Organic Avocado, Organic Baby Spinach, Banan...|\n",
      "|    2711|[Granny Smith Apples, Alpine Spring Water, Mountain Spring Water, H...|                                   [Large Lemon, Strawberries, Banana]|\n",
      "|    2888|[Shredded Sharp Cheddar Cheese, Organic Raspberries, Clover Honey, ...|[Organic Large Brown Grade AA Cage Free Eggs, 100% Raw Coconut Wate...|\n",
      "|    3010|[Organic Extra Virgin Olive Oil, Brown Eggs, Pure Coconut Water, Or...|[Organic Tomato Basil Pasta Sauce, Organic Large Brown Grade AA Cag...|\n",
      "|    3179|[Caramel Almond and Sea Salt Nut Bar, White Chocolate Macadamia Nut...|[Sparkling Water Berry, Asparagus, Limes, Organic Whole Milk, Organ...|\n",
      "|    4036|[Arrowroot Starch/Flour, Carrots, Birthday Cake Light Ice Cream, Sw...|[Organic Large Extra Fancy Fuji Apple, Organic Garnet Sweet Potato ...|\n",
      "|    4092|[Organic Baby Spinach, Sharp Cheddar Cheese, Garlic, Mozzarella Che...|[Organic Large Extra Fancy Fuji Apple, Hass Avocado, Organic Celery...|\n",
      "|    4267|[Original No Pulp 100% Florida Orange Juice, Vitamin D Organic Whol...|[Organic Large Brown Grade AA Cage Free Eggs, 100% Raw Coconut Wate...|\n",
      "+--------+----------------------------------------------------------------------+----------------------------------------------------------------------+\n",
      "only showing top 20 rows\n",
      "\n"
     ]
    },
    {
     "name": "stderr",
     "output_type": "stream",
     "text": [
      "                                                                                \r"
     ]
    }
   ],
   "source": [
    "# transform examines the input items against all the association rules and summarize the\n",
    "# consequents as prediction\n",
    "\n",
    "model.transform(baskets).show(truncate=70)"
   ]
  }
 ],
 "metadata": {
  "kernelspec": {
   "display_name": "Python 3",
   "language": "python",
   "name": "python3"
  },
  "language_info": {
   "codemirror_mode": {
    "name": "ipython",
    "version": 3
   },
   "file_extension": ".py",
   "mimetype": "text/x-python",
   "name": "python",
   "nbconvert_exporter": "python",
   "pygments_lexer": "ipython3",
   "version": "3.9.6"
  }
 },
 "nbformat": 4,
 "nbformat_minor": 2
}
